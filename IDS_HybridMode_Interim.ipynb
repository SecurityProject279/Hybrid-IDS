{
  "nbformat": 4,
  "nbformat_minor": 0,
  "metadata": {
    "colab": {
      "provenance": [],
      "collapsed_sections": [
        "tCGf1IlfBlkF",
        "GKQkx3CINTNl",
        "nDl-8AXcBeum",
        "mGFqRWQBBWAj"
      ],
      "toc_visible": true,
      "machine_shape": "hm",
      "gpuType": "T4"
    },
    "kernelspec": {
      "name": "python3",
      "display_name": "Python 3"
    },
    "language_info": {
      "name": "python"
    },
    "accelerator": "GPU"
  },
  "cells": [
    {
      "cell_type": "markdown",
      "source": [
        "## Imports\n"
      ],
      "metadata": {
        "id": "LkT70mD1BifR"
      }
    },
    {
      "cell_type": "code",
      "source": [
        "from google.colab import drive\n",
        "# Mount Drive (idempotent in Colab)\n",
        "# Request authorization to mount Google Drive\n",
        "drive.mount(\"/content/drive\", force_remount=True)"
      ],
      "metadata": {
        "colab": {
          "base_uri": "https://localhost:8080/"
        },
        "id": "_IeZ9qzRBooO",
        "outputId": "eccf6db4-ff16-4409-dc68-cbce0bb01f57"
      },
      "execution_count": 1,
      "outputs": [
        {
          "output_type": "stream",
          "name": "stdout",
          "text": [
            "Mounted at /content/drive\n"
          ]
        }
      ]
    },
    {
      "cell_type": "code",
      "metadata": {
        "id": "4c3c62d4"
      },
      "source": [
        "# === Hybrid IDS: Step 1 (Load + Label + Prep) ===\n",
        "# Works with plain CSVs and .csv.zip files in Google Drive (Colab)\n",
        "\n",
        "# Import necessary libraries\n",
        "from pathlib import Path\n",
        "import pandas as pd\n",
        "import numpy as np\n",
        "\n",
        "from sklearn.metrics import precision_recall_curve, classification_report, confusion_matrix, roc_auc_score, average_precision_score\n",
        "\n",
        "from sklearn.model_selection import StratifiedShuffleSplit\n",
        "import zipfile\n",
        "from typing import List, Tuple\n",
        "from sklearn.model_selection import train_test_split\n",
        "import os\n",
        "import matplotlib.pyplot as plt\n",
        "from sklearn.model_selection import GroupShuffleSplit\n",
        "\n",
        "# ------------------------ USER SETTINGS ------------------------\n",
        "# Point this to your folder with the dataset files you listed\n",
        "BASE_DIR = \"/content/drive/Shareddrives/CMPE279/CMPE279-IDSandAttackMitigation\"  # change if needed\n",
        "\n",
        "# Accept both .csv and .csv.zip. You can also target a subfolder like \".../CMPE279-IDSandAttackMitigation/*.csv*\"\n",
        "DATA_GLOB = str(Path(BASE_DIR) / \"*.csv\")\n",
        "\n",
        "# If you want to quickly test, limit rows per file (None = read all)\n",
        "MAX_ROWS_PER_FILE: int | None = None\n",
        "# ---------------------------------------------------------------\n",
        "\n",
        "\n",
        "# ------------------------ LABEL/FEATURE CONFIG -----------------\n",
        "ATTACK_KEYWORDS = [\n",
        "    \"DoS\", \"DDoS\", \"Hulk\", \"GoldenEye\", \"Slowloris\", \"HOIC\", \"LOIC\", \"LOIC-UDP\"\n",
        "]\n",
        "LABEL_COL = \"Label\"\n",
        "\n",
        "CANDIDATE_FEATURES = [\n",
        "    \"Flow Duration\",\"Tot Fwd Pkts\",\"Tot Bwd Pkts\",\"TotLen Fwd Pkts\",\"TotLen Bwd Pkts\",\n",
        "    \"Fwd Pkt Len Mean\",\"Bwd Pkt Len Mean\",\"Fwd Pkt Len Std\",\"Bwd Pkt Len Std\",\n",
        "    \"Flow Byts/s\",\"Flow Pkts/s\",\"Fwd IAT Mean\",\"Bwd IAT Mean\",\"Flow IAT Mean\",\n",
        "    \"Fwd IAT Std\",\"Bwd IAT Std\",\"Pkt Len Mean\",\"Pkt Len Std\",\"Pkt Len Var\",\n",
        "    \"Down/Up Ratio\",\"Bwd Pkts/b Avg\",\"Fwd Pkts/b Avg\",\n",
        "    \"Bwd Seg Size Avg\",\"Fwd Seg Size Avg\",\"Subflow Fwd Pkts\",\"Subflow Bwd Pkts\",\n",
        "    \"Subflow Fwd Byts\",\"Subflow Bwd Byts\",\n",
        "    \"Fwd Act Data Pkts\",\"Idle Mean\",\"Idle Std\",\"Idle Max\",\"Idle Min\",\n",
        "]\n",
        "\n",
        "\n",
        "LEAKY = [\"Label\",\"Timestamp\",\"__source_file\",\"Flow ID\",\"Src IP\",\"Dst IP\",\"Src Port\",\"y\"]\n",
        "RISKY = [\"Dst Port\",\"Protocol\"]\n",
        "RATE  = [\"Flow Byts/s\",\"Flow Pkts/s\"]\n",
        "\n",
        "\n",
        "OPTIONAL_FEATURES = [\"SYN Flag Cnt\",\"ACK Flag Cnt\",\"PSH Flag Cnt\",\"RST Flag Cnt\",\"URG Flag Cnt\"]\n",
        "\n",
        "NON_FEATURE_COLS = {\n",
        "    \"Flow ID\",\"Src IP\",\"Dst IP\",\"Src Port\",\"Timestamp\",\"TimeStamp\",\"Source IP\",\"Destination IP\",\"Source Port\"\n",
        "}\n",
        "# ---------------------------------------------------------------"
      ],
      "execution_count": 227,
      "outputs": []
    },
    {
      "cell_type": "code",
      "source": [
        "import joblib\n",
        "import os\n",
        "\n",
        "# Define a fixed base directory for saving/loading models\n",
        "MODEL_BASE_DIR = os.path.join(BASE_DIR, \"saved_models\")\n",
        "\n",
        "def save_model(model, model_name):\n",
        "    \"\"\"Saves a trained model to a file using joblib with a fixed base path and extension.\"\"\"\n",
        "    os.makedirs(MODEL_BASE_DIR, exist_ok=True)\n",
        "    filepath = os.path.join(MODEL_BASE_DIR, f\"{model_name}.joblib\")\n",
        "    joblib.dump(model, filepath)\n",
        "    print(f\"Model '{model_name}' saved successfully to: {filepath}\")\n",
        "\n",
        "def load_model(model_name):\n",
        "    \"\"\"Loads a trained model from a file using joblib with a fixed base path and extension.\"\"\"\n",
        "    filepath = os.path.join(MODEL_BASE_DIR, f\"{model_name}.joblib\")\n",
        "    if not os.path.exists(filepath):\n",
        "        print(f\"Error: Model file '{model_name}.joblib' not found at {filepath}\")\n",
        "        return None\n",
        "    loaded_model = joblib.load(filepath)\n",
        "    print(f\"Model '{model_name}' loaded successfully from: {filepath}\")\n",
        "    return loaded_model"
      ],
      "metadata": {
        "id": "x2Dbk7U9GNgZ"
      },
      "execution_count": 154,
      "outputs": []
    },
    {
      "cell_type": "markdown",
      "source": [
        "## Load Data"
      ],
      "metadata": {
        "id": "tCGf1IlfBlkF"
      }
    },
    {
      "cell_type": "code",
      "metadata": {
        "id": "0X0gf678d1Zo"
      },
      "source": [
        "# Function definitions\n",
        "def reduce_mem_usage(props):\n",
        "    start_mem_usg = props.memory_usage().sum() / 1024**2\n",
        "    print(\"Memory usage of properties dataframe is :\",start_mem_usg,\" MB\")\n",
        "    NAlist = []\n",
        "    for col in props.columns:\n",
        "        if props[col].dtype != object:\n",
        "\n",
        "            props[col] = props[col].replace([np.inf, -np.inf], np.nan)\n",
        "\n",
        "\n",
        "            IsInt = False\n",
        "            mx = props[col].max()\n",
        "            mn = props[col].min()\n",
        "\n",
        "            if not np.isfinite(props[col]).all():\n",
        "                NAlist.append(col)\n",
        "                props[col].fillna(mn-1,inplace=True)\n",
        "\n",
        "            asint = props[col].fillna(0).astype(np.int64)\n",
        "            result = (props[col] - asint)\n",
        "            result = result.sum()\n",
        "            if result > -0.01 and result < 0.01:\n",
        "                IsInt = True\n",
        "\n",
        "            if IsInt:\n",
        "                if mn >= 0:\n",
        "                    if mx < 255:\n",
        "                        props[col] = props[col].astype(np.uint8)\n",
        "                    elif mx < 65535:\n",
        "                        props[col] = props[col].astype(np.uint16)\n",
        "                    elif mx < 4294967295:\n",
        "                        props[col] = props[col].astype(np.uint32)\n",
        "                    else:\n",
        "                        props[col] = props[col].astype(np.uint64)\n",
        "                else:\n",
        "                    if mn > np.iinfo(np.int8).min and mx < np.iinfo(np.int8).max:\n",
        "                        props[col] = props[col].astype(np.int8)\n",
        "                    elif mn > np.iinfo(np.int16).min and mx < np.iinfo(np.int16).max:\n",
        "                        props[col] = props[col].astype(np.int16)\n",
        "                    elif mn > np.iinfo(np.int32).min and mx < np.iinfo(np.int32).max:\n",
        "                        props[col] = props[col].astype(np.int32)\n",
        "                    elif mn > np.iinfo(np.int64).min and mx < np.iinfo(np.int64).max:\n",
        "                        props[col] = props[col].astype(np.int64)\n",
        "\n",
        "            else:\n",
        "                props[col] = pd.to_numeric(props[col], errors=\"coerce\")\n",
        "\n",
        "\n",
        "    # df = reduce_mem_usage(df_raw)\n",
        "    print(\"___MEMORY USAGE AFTER COMPLETION:___\")\n",
        "    mem_usg = props.memory_usage().sum() / 1024**2\n",
        "    print(\"Memory usage is: \",mem_usg,\" MB\")\n",
        "    print(\"This is \",100*mem_usg/start_mem_usg,\"% of the initial size\")\n",
        "    print(props.info())\n",
        "    return props, NAlist\n",
        "\n",
        "\n",
        "def _read_csv(fpath: Path, max_rows: int | None) -> pd.DataFrame:\n",
        "    \"\"\"Read either .csv or .csv.zip into a DataFrame.\"\"\"\n",
        "    if str(fpath).endswith(\".zip\"):\n",
        "        with zipfile.ZipFile(fpath, \"r\") as z:\n",
        "            # pick the first .csv inside the zip\n",
        "            inner_csvs = [n for n in z.namelist() if n.lower().endswith(\".csv\")]\n",
        "            if not inner_csvs:\n",
        "                raise ValueError(f\"No CSV found inside {fpath.name}\")\n",
        "            inner = inner_csvs[0]\n",
        "            with z.open(inner) as fh:\n",
        "                return pd.read_csv(fh, low_memory=False, nrows=max_rows)\n",
        "    else:\n",
        "        return pd.read_csv(fpath, low_memory=False, nrows=max_rows)\n",
        "\n",
        "def load_cic_csvs(glob_pattern: str = DATA_GLOB,\n",
        "                  max_rows_per_file: int | None = MAX_ROWS_PER_FILE, max_files=100) -> pd.DataFrame:\n",
        "    files = sorted(Path(glob_pattern).parent.glob(Path(glob_pattern).name))\n",
        "    if not files:\n",
        "        raise FileNotFoundError(f\"No files matched pattern: {glob_pattern}\")\n",
        "\n",
        "    dfs: List[pd.DataFrame] = []\n",
        "    total_rows = 0\n",
        "    print(f\"Found {len(files[:max_files])} files. Loading...\")\n",
        "    for f in files[:max_files]:\n",
        "        try:\n",
        "            df = _read_csv(f, max_rows_per_file)\n",
        "            df, _ = reduce_mem_usage(df)\n",
        "            print(df.shape, _)\n",
        "            df[\"__source_file\"] = f.name\n",
        "            dfs.append(df)\n",
        "            total_rows += len(df)\n",
        "            print(f\"  • {f.name:40s} rows={len(df)}\")\n",
        "        except Exception as e:\n",
        "            print(f\"  ! Skipping {f.name} due to error: {e}\")\n",
        "\n",
        "    if not dfs:\n",
        "        raise RuntimeError(\"No data could be loaded (all files failed).\")\n",
        "    out = pd.concat(dfs, ignore_index=True)\n",
        "    print(f\" Total rows loaded: {len(out)} from {len(dfs)} file(s)\")\n",
        "    return out\n",
        "\n",
        "\n",
        "\n",
        "def label_binary(df: pd.DataFrame) -> pd.DataFrame:\n",
        "    if LABEL_COL not in df.columns:\n",
        "        # Some CIC exports use \"Label\" exactly; if not found, try case-insensitive match\n",
        "        matches = [c for c in df.columns if c.lower() == \"label\"]\n",
        "        if matches:\n",
        "            df = df.rename(columns={matches[0]: LABEL_COL})\n",
        "        else:\n",
        "            raise KeyError(f\"Column '{LABEL_COL}' not found in dataframe columns: {df.columns[:10].tolist()}...\")\n",
        "\n",
        "    labels = df[LABEL_COL].astype(str)\n",
        "    is_attack = np.zeros(len(df), dtype=bool)\n",
        "    for kw in ATTACK_KEYWORDS:\n",
        "        is_attack |= labels.str.contains(kw, case=False, na=False)\n",
        "\n",
        "    is_benign = labels.str.contains(\"BENIGN\", case=False, na=False)\n",
        "    keep = is_benign | is_attack\n",
        "\n",
        "    df = df.loc[keep].copy()\n",
        "    df[\"y\"] = (is_attack & ~is_benign).astype(int)  # 1=attack, 0=benign\n",
        "    return df\n"
      ],
      "execution_count": 228,
      "outputs": []
    },
    {
      "cell_type": "code",
      "source": [],
      "metadata": {
        "id": "yVFr92NuqolW"
      },
      "execution_count": 179,
      "outputs": []
    },
    {
      "cell_type": "code",
      "metadata": {
        "colab": {
          "base_uri": "https://localhost:8080/",
          "height": 1000
        },
        "id": "b1d67fcc",
        "outputId": "abb7f9b9-4804-4adc-8f99-21e64116813b",
        "collapsed": true
      },
      "source": [
        "# 1) Quick visibility: list files in base dir (pythonic; avoids shell `!ls`)\n",
        "print(\"Files in BASE_DIR:\")\n",
        "# List files only after successful drive mount\n",
        "if os.path.exists(BASE_DIR):\n",
        "    for name in sorted(os.listdir(BASE_DIR))[:50]:\n",
        "        print(\"  \", name)\n",
        "else:\n",
        "    print(f\"  ! {BASE_DIR} not found. Please ensure Google Drive is mounted and the path is correct.\")\n",
        "\n",
        "# 2) Load data (adjust DATA_GLOB above if your files are in a subfolder)\n",
        "# Only attempt to load data if the base directory exists\n",
        "if os.path.exists(BASE_DIR):\n",
        "    df_raw = load_cic_csvs(DATA_GLOB, MAX_ROWS_PER_FILE, 3)\n",
        "\n",
        "    # 3) Basic peek\n",
        "    print(\"\\nColumns (first 20):\", df_raw.columns[:20].tolist())\n",
        "    print(\"Example rows:\")\n",
        "    display(df_raw.head(3))\n",
        "else:\n",
        "    print(\"\\nSkipping data loading and processing as BASE_DIR was not found.\")"
      ],
      "execution_count": 183,
      "outputs": [
        {
          "output_type": "stream",
          "name": "stdout",
          "text": [
            "Files in BASE_DIR:\n",
            "    IDS-HybridMode-Interim.ipynb\n",
            "   .ipynb_checkpoints\n",
            "   02-15-2018.csv\n",
            "   02-15-2018.csv.zip\n",
            "   02-16-2018.csv\n",
            "   02-16-2018.csv.zip\n",
            "   02-21-2018.csv\n",
            "   02-21-2018.csv.zip\n",
            "   GeneratedLabelledFlows.zip\n",
            "   IDS- CMPE279CourseProject.docx\n",
            "   IDS.ipynb\n",
            "   Untitled0.ipynb\n",
            "   saved_models\n",
            "Found 3 files. Loading...\n",
            "Memory usage of properties dataframe is : 639.9995155334473  MB\n"
          ]
        },
        {
          "output_type": "stream",
          "name": "stderr",
          "text": [
            "/tmp/ipython-input-3519068148.py:18: FutureWarning: A value is trying to be set on a copy of a DataFrame or Series through chained assignment using an inplace method.\n",
            "The behavior will change in pandas 3.0. This inplace method will never work because the intermediate object on which we are setting values always behaves as a copy.\n",
            "\n",
            "For example, when doing 'df[col].method(value, inplace=True)', try using 'df.method({col: value}, inplace=True)' or df[col] = df[col].method(value) instead, to perform the operation inplace on the original object.\n",
            "\n",
            "\n",
            "  props[col].fillna(mn-1,inplace=True)\n",
            "/tmp/ipython-input-3519068148.py:18: FutureWarning: A value is trying to be set on a copy of a DataFrame or Series through chained assignment using an inplace method.\n",
            "The behavior will change in pandas 3.0. This inplace method will never work because the intermediate object on which we are setting values always behaves as a copy.\n",
            "\n",
            "For example, when doing 'df[col].method(value, inplace=True)', try using 'df.method({col: value}, inplace=True)' or df[col] = df[col].method(value) instead, to perform the operation inplace on the original object.\n",
            "\n",
            "\n",
            "  props[col].fillna(mn-1,inplace=True)\n"
          ]
        },
        {
          "output_type": "stream",
          "name": "stdout",
          "text": [
            "___MEMORY USAGE AFTER COMPLETION:___\n",
            "Memory usage is:  240.9998960494995  MB\n",
            "This is  37.65626226273362 % of the initial size\n",
            "(1048575, 80) ['Flow Byts/s', 'Flow Pkts/s']\n",
            "  • 02-15-2018.csv                           rows=1048575\n",
            "Memory usage of properties dataframe is : 639.9995155334473  MB\n",
            "___MEMORY USAGE AFTER COMPLETION:___\n",
            "Memory usage is:  639.9995155334473  MB\n",
            "This is  100.0 % of the initial size\n",
            "(1048575, 80) []\n",
            "  • 02-16-2018.csv                           rows=1048575\n",
            "Memory usage of properties dataframe is : 639.9995155334473  MB\n",
            "___MEMORY USAGE AFTER COMPLETION:___\n",
            "Memory usage is:  238.99989795684814  MB\n",
            "This is  37.34376232420096 % of the initial size\n",
            "(1048575, 80) []\n",
            "  • 02-21-2018.csv                           rows=1048575\n",
            " Total rows loaded: 3145725 from 3 file(s)\n",
            "\n",
            "Columns (first 20): ['Dst Port', 'Protocol', 'Timestamp', 'Flow Duration', 'Tot Fwd Pkts', 'Tot Bwd Pkts', 'TotLen Fwd Pkts', 'TotLen Bwd Pkts', 'Fwd Pkt Len Max', 'Fwd Pkt Len Min', 'Fwd Pkt Len Mean', 'Fwd Pkt Len Std', 'Bwd Pkt Len Max', 'Bwd Pkt Len Min', 'Bwd Pkt Len Mean', 'Bwd Pkt Len Std', 'Flow Byts/s', 'Flow Pkts/s', 'Flow IAT Mean', 'Flow IAT Std']\n",
            "Example rows:\n"
          ]
        },
        {
          "output_type": "display_data",
          "data": {
            "text/plain": [
              "  Dst Port Protocol            Timestamp Flow Duration Tot Fwd Pkts  \\\n",
              "0        0        0  15/02/2018 08:25:18     112641158            3   \n",
              "1       22        6  15/02/2018 08:29:05      37366762           14   \n",
              "2    47514        6  15/02/2018 08:29:42           543            2   \n",
              "\n",
              "  Tot Bwd Pkts TotLen Fwd Pkts TotLen Bwd Pkts Fwd Pkt Len Max  \\\n",
              "0            0               0               0               0   \n",
              "1           12            2168            2993             712   \n",
              "2            0              64               0              64   \n",
              "\n",
              "  Fwd Pkt Len Min  ... Active Mean Active Std Active Max Active Min  \\\n",
              "0               0  ...         0.0        0.0          0          0   \n",
              "1               0  ...   1024353.0  649038.75    1601183     321569   \n",
              "2               0  ...         0.0        0.0          0          0   \n",
              "\n",
              "    Idle Mean    Idle Std  Idle Max  Idle Min   Label   __source_file  \n",
              "0  56320580.0  704.278381  56321077  56320081  Benign  02-15-2018.csv  \n",
              "1  11431221.0   3644990.5  15617415   8960247  Benign  02-15-2018.csv  \n",
              "2         0.0         0.0         0         0  Benign  02-15-2018.csv  \n",
              "\n",
              "[3 rows x 81 columns]"
            ],
            "text/html": [
              "\n",
              "  <div id=\"df-dedf5eca-a88b-4266-8390-83dddac431bb\" class=\"colab-df-container\">\n",
              "    <div>\n",
              "<style scoped>\n",
              "    .dataframe tbody tr th:only-of-type {\n",
              "        vertical-align: middle;\n",
              "    }\n",
              "\n",
              "    .dataframe tbody tr th {\n",
              "        vertical-align: top;\n",
              "    }\n",
              "\n",
              "    .dataframe thead th {\n",
              "        text-align: right;\n",
              "    }\n",
              "</style>\n",
              "<table border=\"1\" class=\"dataframe\">\n",
              "  <thead>\n",
              "    <tr style=\"text-align: right;\">\n",
              "      <th></th>\n",
              "      <th>Dst Port</th>\n",
              "      <th>Protocol</th>\n",
              "      <th>Timestamp</th>\n",
              "      <th>Flow Duration</th>\n",
              "      <th>Tot Fwd Pkts</th>\n",
              "      <th>Tot Bwd Pkts</th>\n",
              "      <th>TotLen Fwd Pkts</th>\n",
              "      <th>TotLen Bwd Pkts</th>\n",
              "      <th>Fwd Pkt Len Max</th>\n",
              "      <th>Fwd Pkt Len Min</th>\n",
              "      <th>...</th>\n",
              "      <th>Active Mean</th>\n",
              "      <th>Active Std</th>\n",
              "      <th>Active Max</th>\n",
              "      <th>Active Min</th>\n",
              "      <th>Idle Mean</th>\n",
              "      <th>Idle Std</th>\n",
              "      <th>Idle Max</th>\n",
              "      <th>Idle Min</th>\n",
              "      <th>Label</th>\n",
              "      <th>__source_file</th>\n",
              "    </tr>\n",
              "  </thead>\n",
              "  <tbody>\n",
              "    <tr>\n",
              "      <th>0</th>\n",
              "      <td>0</td>\n",
              "      <td>0</td>\n",
              "      <td>15/02/2018 08:25:18</td>\n",
              "      <td>112641158</td>\n",
              "      <td>3</td>\n",
              "      <td>0</td>\n",
              "      <td>0</td>\n",
              "      <td>0</td>\n",
              "      <td>0</td>\n",
              "      <td>0</td>\n",
              "      <td>...</td>\n",
              "      <td>0.0</td>\n",
              "      <td>0.0</td>\n",
              "      <td>0</td>\n",
              "      <td>0</td>\n",
              "      <td>56320580.0</td>\n",
              "      <td>704.278381</td>\n",
              "      <td>56321077</td>\n",
              "      <td>56320081</td>\n",
              "      <td>Benign</td>\n",
              "      <td>02-15-2018.csv</td>\n",
              "    </tr>\n",
              "    <tr>\n",
              "      <th>1</th>\n",
              "      <td>22</td>\n",
              "      <td>6</td>\n",
              "      <td>15/02/2018 08:29:05</td>\n",
              "      <td>37366762</td>\n",
              "      <td>14</td>\n",
              "      <td>12</td>\n",
              "      <td>2168</td>\n",
              "      <td>2993</td>\n",
              "      <td>712</td>\n",
              "      <td>0</td>\n",
              "      <td>...</td>\n",
              "      <td>1024353.0</td>\n",
              "      <td>649038.75</td>\n",
              "      <td>1601183</td>\n",
              "      <td>321569</td>\n",
              "      <td>11431221.0</td>\n",
              "      <td>3644990.5</td>\n",
              "      <td>15617415</td>\n",
              "      <td>8960247</td>\n",
              "      <td>Benign</td>\n",
              "      <td>02-15-2018.csv</td>\n",
              "    </tr>\n",
              "    <tr>\n",
              "      <th>2</th>\n",
              "      <td>47514</td>\n",
              "      <td>6</td>\n",
              "      <td>15/02/2018 08:29:42</td>\n",
              "      <td>543</td>\n",
              "      <td>2</td>\n",
              "      <td>0</td>\n",
              "      <td>64</td>\n",
              "      <td>0</td>\n",
              "      <td>64</td>\n",
              "      <td>0</td>\n",
              "      <td>...</td>\n",
              "      <td>0.0</td>\n",
              "      <td>0.0</td>\n",
              "      <td>0</td>\n",
              "      <td>0</td>\n",
              "      <td>0.0</td>\n",
              "      <td>0.0</td>\n",
              "      <td>0</td>\n",
              "      <td>0</td>\n",
              "      <td>Benign</td>\n",
              "      <td>02-15-2018.csv</td>\n",
              "    </tr>\n",
              "  </tbody>\n",
              "</table>\n",
              "<p>3 rows × 81 columns</p>\n",
              "</div>\n",
              "    <div class=\"colab-df-buttons\">\n",
              "\n",
              "  <div class=\"colab-df-container\">\n",
              "    <button class=\"colab-df-convert\" onclick=\"convertToInteractive('df-dedf5eca-a88b-4266-8390-83dddac431bb')\"\n",
              "            title=\"Convert this dataframe to an interactive table.\"\n",
              "            style=\"display:none;\">\n",
              "\n",
              "  <svg xmlns=\"http://www.w3.org/2000/svg\" height=\"24px\" viewBox=\"0 -960 960 960\">\n",
              "    <path d=\"M120-120v-720h720v720H120Zm60-500h600v-160H180v160Zm220 220h160v-160H400v160Zm0 220h160v-160H400v160ZM180-400h160v-160H180v160Zm440 0h160v-160H620v160ZM180-180h160v-160H180v160Zm440 0h160v-160H620v160Z\"/>\n",
              "  </svg>\n",
              "    </button>\n",
              "\n",
              "  <style>\n",
              "    .colab-df-container {\n",
              "      display:flex;\n",
              "      gap: 12px;\n",
              "    }\n",
              "\n",
              "    .colab-df-convert {\n",
              "      background-color: #E8F0FE;\n",
              "      border: none;\n",
              "      border-radius: 50%;\n",
              "      cursor: pointer;\n",
              "      display: none;\n",
              "      fill: #1967D2;\n",
              "      height: 32px;\n",
              "      padding: 0 0 0 0;\n",
              "      width: 32px;\n",
              "    }\n",
              "\n",
              "    .colab-df-convert:hover {\n",
              "      background-color: #E2EBFA;\n",
              "      box-shadow: 0px 1px 2px rgba(60, 64, 67, 0.3), 0px 1px 3px 1px rgba(60, 64, 67, 0.15);\n",
              "      fill: #174EA6;\n",
              "    }\n",
              "\n",
              "    .colab-df-buttons div {\n",
              "      margin-bottom: 4px;\n",
              "    }\n",
              "\n",
              "    [theme=dark] .colab-df-convert {\n",
              "      background-color: #3B4455;\n",
              "      fill: #D2E3FC;\n",
              "    }\n",
              "\n",
              "    [theme=dark] .colab-df-convert:hover {\n",
              "      background-color: #434B5C;\n",
              "      box-shadow: 0px 1px 3px 1px rgba(0, 0, 0, 0.15);\n",
              "      filter: drop-shadow(0px 1px 2px rgba(0, 0, 0, 0.3));\n",
              "      fill: #FFFFFF;\n",
              "    }\n",
              "  </style>\n",
              "\n",
              "    <script>\n",
              "      const buttonEl =\n",
              "        document.querySelector('#df-dedf5eca-a88b-4266-8390-83dddac431bb button.colab-df-convert');\n",
              "      buttonEl.style.display =\n",
              "        google.colab.kernel.accessAllowed ? 'block' : 'none';\n",
              "\n",
              "      async function convertToInteractive(key) {\n",
              "        const element = document.querySelector('#df-dedf5eca-a88b-4266-8390-83dddac431bb');\n",
              "        const dataTable =\n",
              "          await google.colab.kernel.invokeFunction('convertToInteractive',\n",
              "                                                    [key], {});\n",
              "        if (!dataTable) return;\n",
              "\n",
              "        const docLinkHtml = 'Like what you see? Visit the ' +\n",
              "          '<a target=\"_blank\" href=https://colab.research.google.com/notebooks/data_table.ipynb>data table notebook</a>'\n",
              "          + ' to learn more about interactive tables.';\n",
              "        element.innerHTML = '';\n",
              "        dataTable['output_type'] = 'display_data';\n",
              "        await google.colab.output.renderOutput(dataTable, element);\n",
              "        const docLink = document.createElement('div');\n",
              "        docLink.innerHTML = docLinkHtml;\n",
              "        element.appendChild(docLink);\n",
              "      }\n",
              "    </script>\n",
              "  </div>\n",
              "\n",
              "\n",
              "    <div id=\"df-57a9338d-7427-4f81-a30c-468e078a3fa6\">\n",
              "      <button class=\"colab-df-quickchart\" onclick=\"quickchart('df-57a9338d-7427-4f81-a30c-468e078a3fa6')\"\n",
              "                title=\"Suggest charts\"\n",
              "                style=\"display:none;\">\n",
              "\n",
              "<svg xmlns=\"http://www.w3.org/2000/svg\" height=\"24px\"viewBox=\"0 0 24 24\"\n",
              "     width=\"24px\">\n",
              "    <g>\n",
              "        <path d=\"M19 3H5c-1.1 0-2 .9-2 2v14c0 1.1.9 2 2 2h14c1.1 0 2-.9 2-2V5c0-1.1-.9-2-2-2zM9 17H7v-7h2v7zm4 0h-2V7h2v10zm4 0h-2v-4h2v4z\"/>\n",
              "    </g>\n",
              "</svg>\n",
              "      </button>\n",
              "\n",
              "<style>\n",
              "  .colab-df-quickchart {\n",
              "      --bg-color: #E8F0FE;\n",
              "      --fill-color: #1967D2;\n",
              "      --hover-bg-color: #E2EBFA;\n",
              "      --hover-fill-color: #174EA6;\n",
              "      --disabled-fill-color: #AAA;\n",
              "      --disabled-bg-color: #DDD;\n",
              "  }\n",
              "\n",
              "  [theme=dark] .colab-df-quickchart {\n",
              "      --bg-color: #3B4455;\n",
              "      --fill-color: #D2E3FC;\n",
              "      --hover-bg-color: #434B5C;\n",
              "      --hover-fill-color: #FFFFFF;\n",
              "      --disabled-bg-color: #3B4455;\n",
              "      --disabled-fill-color: #666;\n",
              "  }\n",
              "\n",
              "  .colab-df-quickchart {\n",
              "    background-color: var(--bg-color);\n",
              "    border: none;\n",
              "    border-radius: 50%;\n",
              "    cursor: pointer;\n",
              "    display: none;\n",
              "    fill: var(--fill-color);\n",
              "    height: 32px;\n",
              "    padding: 0;\n",
              "    width: 32px;\n",
              "  }\n",
              "\n",
              "  .colab-df-quickchart:hover {\n",
              "    background-color: var(--hover-bg-color);\n",
              "    box-shadow: 0 1px 2px rgba(60, 64, 67, 0.3), 0 1px 3px 1px rgba(60, 64, 67, 0.15);\n",
              "    fill: var(--button-hover-fill-color);\n",
              "  }\n",
              "\n",
              "  .colab-df-quickchart-complete:disabled,\n",
              "  .colab-df-quickchart-complete:disabled:hover {\n",
              "    background-color: var(--disabled-bg-color);\n",
              "    fill: var(--disabled-fill-color);\n",
              "    box-shadow: none;\n",
              "  }\n",
              "\n",
              "  .colab-df-spinner {\n",
              "    border: 2px solid var(--fill-color);\n",
              "    border-color: transparent;\n",
              "    border-bottom-color: var(--fill-color);\n",
              "    animation:\n",
              "      spin 1s steps(1) infinite;\n",
              "  }\n",
              "\n",
              "  @keyframes spin {\n",
              "    0% {\n",
              "      border-color: transparent;\n",
              "      border-bottom-color: var(--fill-color);\n",
              "      border-left-color: var(--fill-color);\n",
              "    }\n",
              "    20% {\n",
              "      border-color: transparent;\n",
              "      border-left-color: var(--fill-color);\n",
              "      border-top-color: var(--fill-color);\n",
              "    }\n",
              "    30% {\n",
              "      border-color: transparent;\n",
              "      border-left-color: var(--fill-color);\n",
              "      border-top-color: var(--fill-color);\n",
              "      border-right-color: var(--fill-color);\n",
              "    }\n",
              "    40% {\n",
              "      border-color: transparent;\n",
              "      border-right-color: var(--fill-color);\n",
              "      border-top-color: var(--fill-color);\n",
              "    }\n",
              "    60% {\n",
              "      border-color: transparent;\n",
              "      border-right-color: var(--fill-color);\n",
              "    }\n",
              "    80% {\n",
              "      border-color: transparent;\n",
              "      border-right-color: var(--fill-color);\n",
              "      border-bottom-color: var(--fill-color);\n",
              "    }\n",
              "    90% {\n",
              "      border-color: transparent;\n",
              "      border-bottom-color: var(--fill-color);\n",
              "    }\n",
              "  }\n",
              "</style>\n",
              "\n",
              "      <script>\n",
              "        async function quickchart(key) {\n",
              "          const quickchartButtonEl =\n",
              "            document.querySelector('#' + key + ' button');\n",
              "          quickchartButtonEl.disabled = true;  // To prevent multiple clicks.\n",
              "          quickchartButtonEl.classList.add('colab-df-spinner');\n",
              "          try {\n",
              "            const charts = await google.colab.kernel.invokeFunction(\n",
              "                'suggestCharts', [key], {});\n",
              "          } catch (error) {\n",
              "            console.error('Error during call to suggestCharts:', error);\n",
              "          }\n",
              "          quickchartButtonEl.classList.remove('colab-df-spinner');\n",
              "          quickchartButtonEl.classList.add('colab-df-quickchart-complete');\n",
              "        }\n",
              "        (() => {\n",
              "          let quickchartButtonEl =\n",
              "            document.querySelector('#df-57a9338d-7427-4f81-a30c-468e078a3fa6 button');\n",
              "          quickchartButtonEl.style.display =\n",
              "            google.colab.kernel.accessAllowed ? 'block' : 'none';\n",
              "        })();\n",
              "      </script>\n",
              "    </div>\n",
              "\n",
              "    </div>\n",
              "  </div>\n"
            ],
            "application/vnd.google.colaboratory.intrinsic+json": {
              "type": "dataframe"
            }
          },
          "metadata": {}
        }
      ]
    },
    {
      "cell_type": "markdown",
      "source": [
        "## Train Test Split\n"
      ],
      "metadata": {
        "id": "nDl-8AXcBeum"
      }
    },
    {
      "cell_type": "code",
      "source": [
        "df_raw.shape"
      ],
      "metadata": {
        "colab": {
          "base_uri": "https://localhost:8080/"
        },
        "collapsed": true,
        "id": "r4nJMKe0rrDi",
        "outputId": "3e3f85b3-bccb-4ffb-a212-e22a67406826"
      },
      "execution_count": 230,
      "outputs": [
        {
          "output_type": "execute_result",
          "data": {
            "text/plain": [
              "(3145725, 81)"
            ]
          },
          "metadata": {},
          "execution_count": 230
        }
      ]
    },
    {
      "cell_type": "code",
      "metadata": {
        "id": "08d6fc1b",
        "colab": {
          "base_uri": "https://localhost:8080/"
        },
        "outputId": "7f8014d0-f3b3-4fec-a151-12041c787af6"
      },
      "source": [
        "df = label_binary(df_raw)\n",
        "# print(\"\\nLabel counts (0=benign, 1=attack):\")\n",
        "# print(df[\"y\"].value_counts(dropna=False))\n",
        "# df.dropna(inplace=True)\n",
        "# df.drop_duplicates(inplace = True)\n",
        "\n",
        "safe_cols = [\n",
        "     \"Fwd Pkt Len Min\",\n",
        "    \"Bwd Pkt Len Max\", \"Bwd Pkt Len Min\",\n",
        "    \"Fwd PSH Flags\", \"Bwd PSH Flags\",\n",
        "    \"Fwd URG Flags\", \"Bwd URG Flags\",\n",
        "    \"FIN Flag Cnt\", \"SYN Flag Cnt\", \"RST Flag Cnt\",\n",
        "    \"PSH Flag Cnt\", \"ACK Flag Cnt\", \"URG Flag Cnt\",\n",
        "    \"CWE Flag Count\", \"ECE Flag Cnt\",\n",
        "    \"Fwd Seg Size Min\",\n",
        "    \"Fwd Header Len\", \"Bwd Header Len\"\n",
        "]\n",
        "# safe_cols = CANDIDATE_FEATURES\n",
        "df = df[safe_cols + ['y','Timestamp']]\n",
        "df.drop_duplicates(inplace = True)\n",
        "\n",
        "\n",
        "df[\"Timestamp\"] = pd.to_datetime(df[\"Timestamp\"], errors=\"coerce\", utc=True)\n",
        "df = df.sort_values(\"Timestamp\").reset_index(drop=True)\n",
        "# df = df.drop(columns=[\"Timestamp\"])\n",
        "# df, _ = reduce_mem_usage(df)\n",
        "\n",
        "TARGET = \"y\"\n",
        "for c in df.columns:\n",
        "    if c != TARGET and c != 'Timestamp':\n",
        "        df[c] = pd.to_numeric(df[c], errors=\"coerce\")\n",
        "\n",
        "df = df.replace([np.inf, -np.inf], np.nan).fillna(0.0)\n",
        "\n",
        "df.info()\n",
        "\n",
        "# 3) cast all model features to float32 (simple, uniform)\n",
        "# feat_cols = [c for c in df.columns if c != TARGET]\n",
        "# df[feat_cols] = df[feat_cols].astype(\"float32\")\n",
        "\n"
      ],
      "execution_count": 426,
      "outputs": [
        {
          "output_type": "stream",
          "name": "stderr",
          "text": [
            "/tmp/ipython-input-284002142.py:23: UserWarning: Parsing dates in %d/%m/%Y %H:%M:%S format when dayfirst=False (the default) was specified. Pass `dayfirst=True` or specify a format to silence this warning.\n",
            "  df[\"Timestamp\"] = pd.to_datetime(df[\"Timestamp\"], errors=\"coerce\", utc=True)\n"
          ]
        },
        {
          "output_type": "stream",
          "name": "stdout",
          "text": [
            "<class 'pandas.core.frame.DataFrame'>\n",
            "RangeIndex: 864411 entries, 0 to 864410\n",
            "Data columns (total 21 columns):\n",
            " #   Column            Non-Null Count   Dtype              \n",
            "---  ------            --------------   -----              \n",
            " 0   Fwd Pkt Len Max   864411 non-null  int64              \n",
            " 1   Fwd Pkt Len Min   864411 non-null  int64              \n",
            " 2   Bwd Pkt Len Max   864411 non-null  int64              \n",
            " 3   Bwd Pkt Len Min   864411 non-null  int64              \n",
            " 4   Fwd PSH Flags     864411 non-null  int64              \n",
            " 5   Bwd PSH Flags     864411 non-null  int64              \n",
            " 6   Fwd URG Flags     864411 non-null  int64              \n",
            " 7   Bwd URG Flags     864411 non-null  int64              \n",
            " 8   FIN Flag Cnt      864411 non-null  int64              \n",
            " 9   SYN Flag Cnt      864411 non-null  int64              \n",
            " 10  RST Flag Cnt      864411 non-null  int64              \n",
            " 11  PSH Flag Cnt      864411 non-null  int64              \n",
            " 12  ACK Flag Cnt      864411 non-null  int64              \n",
            " 13  URG Flag Cnt      864411 non-null  int64              \n",
            " 14  CWE Flag Count    864411 non-null  int64              \n",
            " 15  ECE Flag Cnt      864411 non-null  int64              \n",
            " 16  Fwd Seg Size Min  864411 non-null  int64              \n",
            " 17  Fwd Header Len    864411 non-null  int64              \n",
            " 18  Bwd Header Len    864411 non-null  int64              \n",
            " 19  y                 864411 non-null  int64              \n",
            " 20  Timestamp         864411 non-null  datetime64[ns, UTC]\n",
            "dtypes: datetime64[ns, UTC](1), int64(20)\n",
            "memory usage: 138.5 MB\n"
          ]
        }
      ]
    },
    {
      "cell_type": "code",
      "source": [
        "# option 2\n",
        "# --- DEFINE FEATURES AND LABEL ---\n",
        "df = df.drop_duplicates(subset=safe_cols).reset_index(drop=True)\n",
        "X = df.drop(columns=[\"y\"])\n",
        "X = X[safe_cols]\n",
        "y = df[\"y\"]\n",
        "\n",
        "split_idx = int(0.8 * len(X))\n",
        "X_train_val, y_train_val = X.iloc[:split_idx], y.iloc[:split_idx]\n",
        "X_test, y_test = X.iloc[split_idx:], y.iloc[split_idx:]\n",
        "\n",
        "\n",
        "\n",
        "cut_val = int(0.9 * len(X_train_val))\n",
        "X_train, y_train = X_train_val.iloc[:cut_val], y_train_val.iloc[:cut_val]\n",
        "X_val, y_val   = X_train_val.iloc[cut_val:],   y_train_val.iloc[cut_val:]\n",
        "\n",
        "# --- SHAPES ---\n",
        "print(\"X_train:\", X_train.shape)\n",
        "print(\"y_train:\", y_train.shape)\n",
        "print(\"X_val:\", X_val.shape)\n",
        "print(\"y_val:\", y_val.shape)\n",
        "print(\"X_test:\", X_test.shape)\n",
        "print(\"y_test:\", y_test.shape)\n",
        "\n",
        "\n",
        "\n",
        "# # --- OPTIONAL: Check label distribution ---\n",
        "# print(\"\\nTrain label distribution:\")\n",
        "# print(y_train.value_counts(normalize=True))\n",
        "# print(\"\\nValidation label distribution:\")\n",
        "# print(y_val.value_counts(normalize=True))\n",
        "# print(\"\\nTest label distribution:\")\n",
        "# print(y_test.value_counts(normalize=True))\n"
      ],
      "metadata": {
        "colab": {
          "base_uri": "https://localhost:8080/"
        },
        "id": "vTVTRylDuHfW",
        "outputId": "b502daa8-bd5b-40ef-cbde-96236460cd68"
      },
      "execution_count": 373,
      "outputs": [
        {
          "output_type": "stream",
          "name": "stdout",
          "text": [
            "X_train: (1444257, 37)\n",
            "y_train: (1444257,)\n",
            "X_val: (160473, 37)\n",
            "y_val: (160473,)\n",
            "X_test: (401183, 37)\n",
            "y_test: (401183,)\n"
          ]
        }
      ]
    },
    {
      "cell_type": "code",
      "source": [
        "X_test.head()"
      ],
      "metadata": {
        "colab": {
          "base_uri": "https://localhost:8080/",
          "height": 278
        },
        "id": "5W4kJxlGFN6q",
        "outputId": "9d0782f3-4537-48f6-a19e-399e143d1eff"
      },
      "execution_count": 353,
      "outputs": [
        {
          "output_type": "execute_result",
          "data": {
            "text/plain": [
              "        Fwd Pkt Len Max  Fwd Pkt Len Min  Bwd Pkt Len Max  Bwd Pkt Len Min  \\\n",
              "691528                0                0                0                0   \n",
              "691529              103                0              409                0   \n",
              "691530                0                0                0                0   \n",
              "691531                0                0                0                0   \n",
              "691532               97                0              232                0   \n",
              "\n",
              "        Fwd PSH Flags  Bwd PSH Flags  Fwd URG Flags  Bwd URG Flags  \\\n",
              "691528              0              0              0              0   \n",
              "691529              0              0              0              0   \n",
              "691530              0              0              0              0   \n",
              "691531              0              0              0              0   \n",
              "691532              0              0              0              0   \n",
              "\n",
              "        FIN Flag Cnt  SYN Flag Cnt  RST Flag Cnt  PSH Flag Cnt  ACK Flag Cnt  \\\n",
              "691528             0             0             0             0             1   \n",
              "691529             0             0             0             1             0   \n",
              "691530             0             0             0             0             1   \n",
              "691531             0             0             0             1             0   \n",
              "691532             0             0             0             1             0   \n",
              "\n",
              "        URG Flag Cnt  CWE Flag Count  ECE Flag Cnt  Fwd Seg Size Min  \\\n",
              "691528             0               0             0                20   \n",
              "691529             0               0             0                20   \n",
              "691530             1               0             0                20   \n",
              "691531             0               0             0                20   \n",
              "691532             0               0             0                20   \n",
              "\n",
              "        Fwd Header Len  Bwd Header Len  \n",
              "691528              40               0  \n",
              "691529             152             112  \n",
              "691530              20              20  \n",
              "691531              72              32  \n",
              "691532              92              92  "
            ],
            "text/html": [
              "\n",
              "  <div id=\"df-99eb8899-46bc-4fc3-aa85-7b4e24f37d81\" class=\"colab-df-container\">\n",
              "    <div>\n",
              "<style scoped>\n",
              "    .dataframe tbody tr th:only-of-type {\n",
              "        vertical-align: middle;\n",
              "    }\n",
              "\n",
              "    .dataframe tbody tr th {\n",
              "        vertical-align: top;\n",
              "    }\n",
              "\n",
              "    .dataframe thead th {\n",
              "        text-align: right;\n",
              "    }\n",
              "</style>\n",
              "<table border=\"1\" class=\"dataframe\">\n",
              "  <thead>\n",
              "    <tr style=\"text-align: right;\">\n",
              "      <th></th>\n",
              "      <th>Fwd Pkt Len Max</th>\n",
              "      <th>Fwd Pkt Len Min</th>\n",
              "      <th>Bwd Pkt Len Max</th>\n",
              "      <th>Bwd Pkt Len Min</th>\n",
              "      <th>Fwd PSH Flags</th>\n",
              "      <th>Bwd PSH Flags</th>\n",
              "      <th>Fwd URG Flags</th>\n",
              "      <th>Bwd URG Flags</th>\n",
              "      <th>FIN Flag Cnt</th>\n",
              "      <th>SYN Flag Cnt</th>\n",
              "      <th>RST Flag Cnt</th>\n",
              "      <th>PSH Flag Cnt</th>\n",
              "      <th>ACK Flag Cnt</th>\n",
              "      <th>URG Flag Cnt</th>\n",
              "      <th>CWE Flag Count</th>\n",
              "      <th>ECE Flag Cnt</th>\n",
              "      <th>Fwd Seg Size Min</th>\n",
              "      <th>Fwd Header Len</th>\n",
              "      <th>Bwd Header Len</th>\n",
              "    </tr>\n",
              "  </thead>\n",
              "  <tbody>\n",
              "    <tr>\n",
              "      <th>691528</th>\n",
              "      <td>0</td>\n",
              "      <td>0</td>\n",
              "      <td>0</td>\n",
              "      <td>0</td>\n",
              "      <td>0</td>\n",
              "      <td>0</td>\n",
              "      <td>0</td>\n",
              "      <td>0</td>\n",
              "      <td>0</td>\n",
              "      <td>0</td>\n",
              "      <td>0</td>\n",
              "      <td>0</td>\n",
              "      <td>1</td>\n",
              "      <td>0</td>\n",
              "      <td>0</td>\n",
              "      <td>0</td>\n",
              "      <td>20</td>\n",
              "      <td>40</td>\n",
              "      <td>0</td>\n",
              "    </tr>\n",
              "    <tr>\n",
              "      <th>691529</th>\n",
              "      <td>103</td>\n",
              "      <td>0</td>\n",
              "      <td>409</td>\n",
              "      <td>0</td>\n",
              "      <td>0</td>\n",
              "      <td>0</td>\n",
              "      <td>0</td>\n",
              "      <td>0</td>\n",
              "      <td>0</td>\n",
              "      <td>0</td>\n",
              "      <td>0</td>\n",
              "      <td>1</td>\n",
              "      <td>0</td>\n",
              "      <td>0</td>\n",
              "      <td>0</td>\n",
              "      <td>0</td>\n",
              "      <td>20</td>\n",
              "      <td>152</td>\n",
              "      <td>112</td>\n",
              "    </tr>\n",
              "    <tr>\n",
              "      <th>691530</th>\n",
              "      <td>0</td>\n",
              "      <td>0</td>\n",
              "      <td>0</td>\n",
              "      <td>0</td>\n",
              "      <td>0</td>\n",
              "      <td>0</td>\n",
              "      <td>0</td>\n",
              "      <td>0</td>\n",
              "      <td>0</td>\n",
              "      <td>0</td>\n",
              "      <td>0</td>\n",
              "      <td>0</td>\n",
              "      <td>1</td>\n",
              "      <td>1</td>\n",
              "      <td>0</td>\n",
              "      <td>0</td>\n",
              "      <td>20</td>\n",
              "      <td>20</td>\n",
              "      <td>20</td>\n",
              "    </tr>\n",
              "    <tr>\n",
              "      <th>691531</th>\n",
              "      <td>0</td>\n",
              "      <td>0</td>\n",
              "      <td>0</td>\n",
              "      <td>0</td>\n",
              "      <td>0</td>\n",
              "      <td>0</td>\n",
              "      <td>0</td>\n",
              "      <td>0</td>\n",
              "      <td>0</td>\n",
              "      <td>0</td>\n",
              "      <td>0</td>\n",
              "      <td>1</td>\n",
              "      <td>0</td>\n",
              "      <td>0</td>\n",
              "      <td>0</td>\n",
              "      <td>0</td>\n",
              "      <td>20</td>\n",
              "      <td>72</td>\n",
              "      <td>32</td>\n",
              "    </tr>\n",
              "    <tr>\n",
              "      <th>691532</th>\n",
              "      <td>97</td>\n",
              "      <td>0</td>\n",
              "      <td>232</td>\n",
              "      <td>0</td>\n",
              "      <td>0</td>\n",
              "      <td>0</td>\n",
              "      <td>0</td>\n",
              "      <td>0</td>\n",
              "      <td>0</td>\n",
              "      <td>0</td>\n",
              "      <td>0</td>\n",
              "      <td>1</td>\n",
              "      <td>0</td>\n",
              "      <td>0</td>\n",
              "      <td>0</td>\n",
              "      <td>0</td>\n",
              "      <td>20</td>\n",
              "      <td>92</td>\n",
              "      <td>92</td>\n",
              "    </tr>\n",
              "  </tbody>\n",
              "</table>\n",
              "</div>\n",
              "    <div class=\"colab-df-buttons\">\n",
              "\n",
              "  <div class=\"colab-df-container\">\n",
              "    <button class=\"colab-df-convert\" onclick=\"convertToInteractive('df-99eb8899-46bc-4fc3-aa85-7b4e24f37d81')\"\n",
              "            title=\"Convert this dataframe to an interactive table.\"\n",
              "            style=\"display:none;\">\n",
              "\n",
              "  <svg xmlns=\"http://www.w3.org/2000/svg\" height=\"24px\" viewBox=\"0 -960 960 960\">\n",
              "    <path d=\"M120-120v-720h720v720H120Zm60-500h600v-160H180v160Zm220 220h160v-160H400v160Zm0 220h160v-160H400v160ZM180-400h160v-160H180v160Zm440 0h160v-160H620v160ZM180-180h160v-160H180v160Zm440 0h160v-160H620v160Z\"/>\n",
              "  </svg>\n",
              "    </button>\n",
              "\n",
              "  <style>\n",
              "    .colab-df-container {\n",
              "      display:flex;\n",
              "      gap: 12px;\n",
              "    }\n",
              "\n",
              "    .colab-df-convert {\n",
              "      background-color: #E8F0FE;\n",
              "      border: none;\n",
              "      border-radius: 50%;\n",
              "      cursor: pointer;\n",
              "      display: none;\n",
              "      fill: #1967D2;\n",
              "      height: 32px;\n",
              "      padding: 0 0 0 0;\n",
              "      width: 32px;\n",
              "    }\n",
              "\n",
              "    .colab-df-convert:hover {\n",
              "      background-color: #E2EBFA;\n",
              "      box-shadow: 0px 1px 2px rgba(60, 64, 67, 0.3), 0px 1px 3px 1px rgba(60, 64, 67, 0.15);\n",
              "      fill: #174EA6;\n",
              "    }\n",
              "\n",
              "    .colab-df-buttons div {\n",
              "      margin-bottom: 4px;\n",
              "    }\n",
              "\n",
              "    [theme=dark] .colab-df-convert {\n",
              "      background-color: #3B4455;\n",
              "      fill: #D2E3FC;\n",
              "    }\n",
              "\n",
              "    [theme=dark] .colab-df-convert:hover {\n",
              "      background-color: #434B5C;\n",
              "      box-shadow: 0px 1px 3px 1px rgba(0, 0, 0, 0.15);\n",
              "      filter: drop-shadow(0px 1px 2px rgba(0, 0, 0, 0.3));\n",
              "      fill: #FFFFFF;\n",
              "    }\n",
              "  </style>\n",
              "\n",
              "    <script>\n",
              "      const buttonEl =\n",
              "        document.querySelector('#df-99eb8899-46bc-4fc3-aa85-7b4e24f37d81 button.colab-df-convert');\n",
              "      buttonEl.style.display =\n",
              "        google.colab.kernel.accessAllowed ? 'block' : 'none';\n",
              "\n",
              "      async function convertToInteractive(key) {\n",
              "        const element = document.querySelector('#df-99eb8899-46bc-4fc3-aa85-7b4e24f37d81');\n",
              "        const dataTable =\n",
              "          await google.colab.kernel.invokeFunction('convertToInteractive',\n",
              "                                                    [key], {});\n",
              "        if (!dataTable) return;\n",
              "\n",
              "        const docLinkHtml = 'Like what you see? Visit the ' +\n",
              "          '<a target=\"_blank\" href=https://colab.research.google.com/notebooks/data_table.ipynb>data table notebook</a>'\n",
              "          + ' to learn more about interactive tables.';\n",
              "        element.innerHTML = '';\n",
              "        dataTable['output_type'] = 'display_data';\n",
              "        await google.colab.output.renderOutput(dataTable, element);\n",
              "        const docLink = document.createElement('div');\n",
              "        docLink.innerHTML = docLinkHtml;\n",
              "        element.appendChild(docLink);\n",
              "      }\n",
              "    </script>\n",
              "  </div>\n",
              "\n",
              "\n",
              "    <div id=\"df-8df8a406-e884-418b-b21f-1433f8587971\">\n",
              "      <button class=\"colab-df-quickchart\" onclick=\"quickchart('df-8df8a406-e884-418b-b21f-1433f8587971')\"\n",
              "                title=\"Suggest charts\"\n",
              "                style=\"display:none;\">\n",
              "\n",
              "<svg xmlns=\"http://www.w3.org/2000/svg\" height=\"24px\"viewBox=\"0 0 24 24\"\n",
              "     width=\"24px\">\n",
              "    <g>\n",
              "        <path d=\"M19 3H5c-1.1 0-2 .9-2 2v14c0 1.1.9 2 2 2h14c1.1 0 2-.9 2-2V5c0-1.1-.9-2-2-2zM9 17H7v-7h2v7zm4 0h-2V7h2v10zm4 0h-2v-4h2v4z\"/>\n",
              "    </g>\n",
              "</svg>\n",
              "      </button>\n",
              "\n",
              "<style>\n",
              "  .colab-df-quickchart {\n",
              "      --bg-color: #E8F0FE;\n",
              "      --fill-color: #1967D2;\n",
              "      --hover-bg-color: #E2EBFA;\n",
              "      --hover-fill-color: #174EA6;\n",
              "      --disabled-fill-color: #AAA;\n",
              "      --disabled-bg-color: #DDD;\n",
              "  }\n",
              "\n",
              "  [theme=dark] .colab-df-quickchart {\n",
              "      --bg-color: #3B4455;\n",
              "      --fill-color: #D2E3FC;\n",
              "      --hover-bg-color: #434B5C;\n",
              "      --hover-fill-color: #FFFFFF;\n",
              "      --disabled-bg-color: #3B4455;\n",
              "      --disabled-fill-color: #666;\n",
              "  }\n",
              "\n",
              "  .colab-df-quickchart {\n",
              "    background-color: var(--bg-color);\n",
              "    border: none;\n",
              "    border-radius: 50%;\n",
              "    cursor: pointer;\n",
              "    display: none;\n",
              "    fill: var(--fill-color);\n",
              "    height: 32px;\n",
              "    padding: 0;\n",
              "    width: 32px;\n",
              "  }\n",
              "\n",
              "  .colab-df-quickchart:hover {\n",
              "    background-color: var(--hover-bg-color);\n",
              "    box-shadow: 0 1px 2px rgba(60, 64, 67, 0.3), 0 1px 3px 1px rgba(60, 64, 67, 0.15);\n",
              "    fill: var(--button-hover-fill-color);\n",
              "  }\n",
              "\n",
              "  .colab-df-quickchart-complete:disabled,\n",
              "  .colab-df-quickchart-complete:disabled:hover {\n",
              "    background-color: var(--disabled-bg-color);\n",
              "    fill: var(--disabled-fill-color);\n",
              "    box-shadow: none;\n",
              "  }\n",
              "\n",
              "  .colab-df-spinner {\n",
              "    border: 2px solid var(--fill-color);\n",
              "    border-color: transparent;\n",
              "    border-bottom-color: var(--fill-color);\n",
              "    animation:\n",
              "      spin 1s steps(1) infinite;\n",
              "  }\n",
              "\n",
              "  @keyframes spin {\n",
              "    0% {\n",
              "      border-color: transparent;\n",
              "      border-bottom-color: var(--fill-color);\n",
              "      border-left-color: var(--fill-color);\n",
              "    }\n",
              "    20% {\n",
              "      border-color: transparent;\n",
              "      border-left-color: var(--fill-color);\n",
              "      border-top-color: var(--fill-color);\n",
              "    }\n",
              "    30% {\n",
              "      border-color: transparent;\n",
              "      border-left-color: var(--fill-color);\n",
              "      border-top-color: var(--fill-color);\n",
              "      border-right-color: var(--fill-color);\n",
              "    }\n",
              "    40% {\n",
              "      border-color: transparent;\n",
              "      border-right-color: var(--fill-color);\n",
              "      border-top-color: var(--fill-color);\n",
              "    }\n",
              "    60% {\n",
              "      border-color: transparent;\n",
              "      border-right-color: var(--fill-color);\n",
              "    }\n",
              "    80% {\n",
              "      border-color: transparent;\n",
              "      border-right-color: var(--fill-color);\n",
              "      border-bottom-color: var(--fill-color);\n",
              "    }\n",
              "    90% {\n",
              "      border-color: transparent;\n",
              "      border-bottom-color: var(--fill-color);\n",
              "    }\n",
              "  }\n",
              "</style>\n",
              "\n",
              "      <script>\n",
              "        async function quickchart(key) {\n",
              "          const quickchartButtonEl =\n",
              "            document.querySelector('#' + key + ' button');\n",
              "          quickchartButtonEl.disabled = true;  // To prevent multiple clicks.\n",
              "          quickchartButtonEl.classList.add('colab-df-spinner');\n",
              "          try {\n",
              "            const charts = await google.colab.kernel.invokeFunction(\n",
              "                'suggestCharts', [key], {});\n",
              "          } catch (error) {\n",
              "            console.error('Error during call to suggestCharts:', error);\n",
              "          }\n",
              "          quickchartButtonEl.classList.remove('colab-df-spinner');\n",
              "          quickchartButtonEl.classList.add('colab-df-quickchart-complete');\n",
              "        }\n",
              "        (() => {\n",
              "          let quickchartButtonEl =\n",
              "            document.querySelector('#df-8df8a406-e884-418b-b21f-1433f8587971 button');\n",
              "          quickchartButtonEl.style.display =\n",
              "            google.colab.kernel.accessAllowed ? 'block' : 'none';\n",
              "        })();\n",
              "      </script>\n",
              "    </div>\n",
              "\n",
              "    </div>\n",
              "  </div>\n"
            ],
            "application/vnd.google.colaboratory.intrinsic+json": {
              "type": "dataframe",
              "variable_name": "X_test"
            }
          },
          "metadata": {},
          "execution_count": 353
        }
      ]
    },
    {
      "cell_type": "code",
      "source": [
        "X.info()"
      ],
      "metadata": {
        "colab": {
          "base_uri": "https://localhost:8080/"
        },
        "id": "D4GRsviL9v1d",
        "outputId": "48b28731-f0ba-477d-c81e-af83132fbc80"
      },
      "execution_count": 309,
      "outputs": [
        {
          "output_type": "stream",
          "name": "stdout",
          "text": [
            "<class 'pandas.core.frame.DataFrame'>\n",
            "RangeIndex: 864411 entries, 0 to 864410\n",
            "Data columns (total 19 columns):\n",
            " #   Column            Non-Null Count   Dtype\n",
            "---  ------            --------------   -----\n",
            " 0   Fwd Pkt Len Max   864411 non-null  int64\n",
            " 1   Fwd Pkt Len Min   864411 non-null  int64\n",
            " 2   Bwd Pkt Len Max   864411 non-null  int64\n",
            " 3   Bwd Pkt Len Min   864411 non-null  int64\n",
            " 4   Fwd PSH Flags     864411 non-null  int64\n",
            " 5   Bwd PSH Flags     864411 non-null  int64\n",
            " 6   Fwd URG Flags     864411 non-null  int64\n",
            " 7   Bwd URG Flags     864411 non-null  int64\n",
            " 8   FIN Flag Cnt      864411 non-null  int64\n",
            " 9   SYN Flag Cnt      864411 non-null  int64\n",
            " 10  RST Flag Cnt      864411 non-null  int64\n",
            " 11  PSH Flag Cnt      864411 non-null  int64\n",
            " 12  ACK Flag Cnt      864411 non-null  int64\n",
            " 13  URG Flag Cnt      864411 non-null  int64\n",
            " 14  CWE Flag Count    864411 non-null  int64\n",
            " 15  ECE Flag Cnt      864411 non-null  int64\n",
            " 16  Fwd Seg Size Min  864411 non-null  int64\n",
            " 17  Fwd Header Len    864411 non-null  int64\n",
            " 18  Bwd Header Len    864411 non-null  int64\n",
            "dtypes: int64(19)\n",
            "memory usage: 125.3 MB\n"
          ]
        }
      ]
    },
    {
      "cell_type": "code",
      "source": [
        "print(X_train.shape, y_train.shape)\n",
        "print(X_val.shape, y_val.shape)\n",
        "print(X_test.shape, y_test.shape)"
      ],
      "metadata": {
        "colab": {
          "base_uri": "https://localhost:8080/"
        },
        "collapsed": true,
        "id": "zV-XXmLCdtEM",
        "outputId": "0155c86f-994e-4b71-9315-c448c7e37e2c"
      },
      "execution_count": 310,
      "outputs": [
        {
          "output_type": "stream",
          "name": "stdout",
          "text": [
            "(622375, 19) (622375,)\n",
            "(69153, 19) (69153,)\n",
            "(172883, 19) (172883,)\n"
          ]
        }
      ]
    },
    {
      "cell_type": "markdown",
      "metadata": {
        "id": "67f8ab86"
      },
      "source": [
        "**Reasoning**:\n",
        "Create the final code cell for visualization.\n",
        "\n"
      ]
    },
    {
      "cell_type": "markdown",
      "source": [
        "## Visualization\n"
      ],
      "metadata": {
        "id": "mGFqRWQBBWAj"
      }
    },
    {
      "cell_type": "code",
      "metadata": {
        "colab": {
          "base_uri": "https://localhost:8080/",
          "height": 1000
        },
        "id": "db07f79a",
        "outputId": "b78869a4-7ec0-4f4f-ec6a-423754818195"
      },
      "source": [
        "# === Overall class balance: bar + pie ===\n",
        "if 'df' in locals():\n",
        "    overall_counts = df[\"y\"].value_counts().reindex([0, 1], fill_value=0)\n",
        "    overall_pct = (overall_counts / overall_counts.sum() * 100).round(2)\n",
        "\n",
        "    print(\"Overall counts (0=benign, 1=attack):\")\n",
        "    print(overall_counts)\n",
        "    print(\"\\nOverall % (0=benign, 1=attack):\")\n",
        "    print(overall_pct)\n",
        "\n",
        "    # Bar chart\n",
        "    plt.figure(figsize=(5,4), dpi=110)\n",
        "    plt.bar([\"Benign (0)\", \"Attack (1)\"], overall_counts.values)\n",
        "    plt.title(\"Overall Class Counts\")\n",
        "    plt.ylabel(\"Flows\")\n",
        "    plt.grid(axis=\"y\", linestyle=\"--\", alpha=0.4)\n",
        "    plt.show()\n",
        "\n",
        "    # Pie chart\n",
        "    plt.figure(figsize=(5,5), dpi=110)\n",
        "    plt.pie(overall_counts.values, labels=[\"Benign (0)\", \"Attack (1)\"], autopct=\"%1.1f%%\", startangle=90)\n",
        "    plt.title(\"Overall Class Distribution\")\n",
        "    plt.show()\n",
        "else:\n",
        "    print(\"\\nSkipping visualization as df was not created.\")"
      ],
      "execution_count": 238,
      "outputs": [
        {
          "output_type": "stream",
          "name": "stdout",
          "text": [
            "Overall counts (0=benign, 1=attack):\n",
            "y\n",
            "0    1612037\n",
            "1      52388\n",
            "Name: count, dtype: int64\n",
            "\n",
            "Overall % (0=benign, 1=attack):\n",
            "y\n",
            "0    96.85\n",
            "1     3.15\n",
            "Name: count, dtype: float64\n"
          ]
        },
        {
          "output_type": "display_data",
          "data": {
            "text/plain": [
              "<Figure size 550x440 with 1 Axes>"
            ],
            "image/png": "[encoded data removed]"
          },
          "metadata": {}
        },
        {
          "output_type": "display_data",
          "data": {
            "text/plain": [
              "<Figure size 550x550 with 1 Axes>"
            ],
            "image/png": "[encoded data removed]"
          },
          "metadata": {}
        }
      ]
    },
    {
      "cell_type": "code",
      "source": [],
      "metadata": {
        "id": "LQwbIOFUNw7r"
      },
      "execution_count": 8,
      "outputs": []
    },
    {
      "cell_type": "markdown",
      "source": [
        "# Training Models\n"
      ],
      "metadata": {
        "id": "_ExEul3-CTdY"
      }
    },
    {
      "cell_type": "markdown",
      "source": [
        "## Random Forest"
      ],
      "metadata": {
        "id": "2Xi2SM4iCWBc"
      }
    },
    {
      "cell_type": "code",
      "source": [
        "import sklearn\n",
        "from sklearn.preprocessing import MinMaxScaler\n",
        "from sklearn.ensemble import RandomForestClassifier\n",
        "from sklearn.model_selection import GridSearchCV, train_test_split\n",
        "from sklearn.metrics import accuracy_score, classification_report, confusion_matrix\n",
        "from sklearn.utils import class_weight\n",
        "\n",
        "model = RandomForestClassifier(\n",
        "    n_estimators=75,\n",
        "    criterion='gini',\n",
        "    max_depth=None,\n",
        "    min_samples_split=2,\n",
        "    min_samples_leaf=1,\n",
        "    min_weight_fraction_leaf=0.0,\n",
        "    max_features='sqrt', # Changed 'auto' to 'sqrt'\n",
        "    max_leaf_nodes=None,\n",
        "    min_impurity_decrease=0.0,\n",
        "    bootstrap=True,\n",
        "    oob_score=False,\n",
        "    n_jobs=-1,\n",
        "    random_state=None,\n",
        "    verbose=1,\n",
        "    warm_start=False,\n",
        "    ccp_alpha=0.0,\n",
        "    max_samples=None\n",
        ")\n",
        "\n",
        "hyperparameters = {\n",
        "    'n_estimators': [50, 75, 100, 125, 150]\n",
        "}"
      ],
      "metadata": {
        "id": "UF68466ZCpc7"
      },
      "execution_count": 19,
      "outputs": []
    },
    {
      "cell_type": "code",
      "source": [
        "\n",
        "# clf = GridSearchCV(\n",
        "#     estimator=model,\n",
        "#     param_grid=hyperparameters,\n",
        "#     cv=5,\n",
        "#     verbose=3,\n",
        "#     n_jobs=-1  # Use all available CPU cores\n",
        "# )"
      ],
      "metadata": {
        "id": "WU6ct-PDCboz"
      },
      "execution_count": null,
      "outputs": []
    },
    {
      "cell_type": "code",
      "source": [
        "from sklearn.metrics import accuracy_score, classification_report, confusion_matrix\n",
        "\n",
        "\n",
        "model.fit(X=X_train, y=y_train)\n",
        "\n",
        "\n",
        "# Make predictions on the test set\n",
        "y_pred = model.predict(X_test)\n",
        "\n",
        "# Evaluate the model\n",
        "accuracy = accuracy_score(y_test, y_pred)\n",
        "report = classification_report(y_test, y_pred)\n",
        "conf_matrix = confusion_matrix(y_test, y_pred)\n",
        "\n",
        "print(\"Accuracy:\", accuracy)\n",
        "print(\"\\nClassification Report:\\n\", report)\n",
        "print(\"\\nConfusion Matrix:\\n\", conf_matrix)"
      ],
      "metadata": {
        "id": "zmKWha2MCj-6",
        "colab": {
          "base_uri": "https://localhost:8080/",
          "height": 374
        },
        "collapsed": true,
        "outputId": "1afd8beb-833b-4488-b774-fd38bc8d754e"
      },
      "execution_count": 20,
      "outputs": [
        {
          "output_type": "stream",
          "name": "stderr",
          "text": [
            "[Parallel(n_jobs=-1)]: Using backend ThreadingBackend with 2 concurrent workers.\n"
          ]
        },
        {
          "output_type": "error",
          "ename": "KeyboardInterrupt",
          "evalue": "",
          "traceback": [
            "\u001b[0;31m---------------------------------------------------------------------------\u001b[0m",
            "\u001b[0;31mKeyboardInterrupt\u001b[0m                         Traceback (most recent call last)",
            "\u001b[0;32m/tmp/ipython-input-3996289525.py\u001b[0m in \u001b[0;36m<cell line: 0>\u001b[0;34m()\u001b[0m\n\u001b[1;32m      2\u001b[0m \u001b[0;34m\u001b[0m\u001b[0m\n\u001b[1;32m      3\u001b[0m \u001b[0;34m\u001b[0m\u001b[0m\n\u001b[0;32m----> 4\u001b[0;31m \u001b[0mmodel\u001b[0m\u001b[0;34m.\u001b[0m\u001b[0mfit\u001b[0m\u001b[0;34m(\u001b[0m\u001b[0mX\u001b[0m\u001b[0;34m=\u001b[0m\u001b[0mX_train\u001b[0m\u001b[0;34m,\u001b[0m \u001b[0my\u001b[0m\u001b[0;34m=\u001b[0m\u001b[0my_train\u001b[0m\u001b[0;34m)\u001b[0m\u001b[0;34m\u001b[0m\u001b[0;34m\u001b[0m\u001b[0m\n\u001b[0m\u001b[1;32m      5\u001b[0m \u001b[0;34m\u001b[0m\u001b[0m\n\u001b[1;32m      6\u001b[0m \u001b[0;34m\u001b[0m\u001b[0m\n",
            "\u001b[0;32m/usr/local/lib/python3.12/dist-packages/sklearn/base.py\u001b[0m in \u001b[0;36mwrapper\u001b[0;34m(estimator, *args, **kwargs)\u001b[0m\n\u001b[1;32m   1387\u001b[0m                 )\n\u001b[1;32m   1388\u001b[0m             ):\n\u001b[0;32m-> 1389\u001b[0;31m                 \u001b[0;32mreturn\u001b[0m \u001b[0mfit_method\u001b[0m\u001b[0;34m(\u001b[0m\u001b[0mestimator\u001b[0m\u001b[0;34m,\u001b[0m \u001b[0;34m*\u001b[0m\u001b[0margs\u001b[0m\u001b[0;34m,\u001b[0m \u001b[0;34m**\u001b[0m\u001b[0mkwargs\u001b[0m\u001b[0;34m)\u001b[0m\u001b[0;34m\u001b[0m\u001b[0;34m\u001b[0m\u001b[0m\n\u001b[0m\u001b[1;32m   1390\u001b[0m \u001b[0;34m\u001b[0m\u001b[0m\n\u001b[1;32m   1391\u001b[0m         \u001b[0;32mreturn\u001b[0m \u001b[0mwrapper\u001b[0m\u001b[0;34m\u001b[0m\u001b[0;34m\u001b[0m\u001b[0m\n",
            "\u001b[0;32m/usr/local/lib/python3.12/dist-packages/sklearn/ensemble/_forest.py\u001b[0m in \u001b[0;36mfit\u001b[0;34m(self, X, y, sample_weight)\u001b[0m\n\u001b[1;32m    485\u001b[0m             \u001b[0;31m# parallel_backend contexts set at a higher level,\u001b[0m\u001b[0;34m\u001b[0m\u001b[0;34m\u001b[0m\u001b[0m\n\u001b[1;32m    486\u001b[0m             \u001b[0;31m# since correctness does not rely on using threads.\u001b[0m\u001b[0;34m\u001b[0m\u001b[0;34m\u001b[0m\u001b[0m\n\u001b[0;32m--> 487\u001b[0;31m             trees = Parallel(\n\u001b[0m\u001b[1;32m    488\u001b[0m                 \u001b[0mn_jobs\u001b[0m\u001b[0;34m=\u001b[0m\u001b[0mself\u001b[0m\u001b[0;34m.\u001b[0m\u001b[0mn_jobs\u001b[0m\u001b[0;34m,\u001b[0m\u001b[0;34m\u001b[0m\u001b[0;34m\u001b[0m\u001b[0m\n\u001b[1;32m    489\u001b[0m                 \u001b[0mverbose\u001b[0m\u001b[0;34m=\u001b[0m\u001b[0mself\u001b[0m\u001b[0;34m.\u001b[0m\u001b[0mverbose\u001b[0m\u001b[0;34m,\u001b[0m\u001b[0;34m\u001b[0m\u001b[0;34m\u001b[0m\u001b[0m\n",
            "\u001b[0;32m/usr/local/lib/python3.12/dist-packages/sklearn/utils/parallel.py\u001b[0m in \u001b[0;36m__call__\u001b[0;34m(self, iterable)\u001b[0m\n\u001b[1;32m     75\u001b[0m             \u001b[0;32mfor\u001b[0m \u001b[0mdelayed_func\u001b[0m\u001b[0;34m,\u001b[0m \u001b[0margs\u001b[0m\u001b[0;34m,\u001b[0m \u001b[0mkwargs\u001b[0m \u001b[0;32min\u001b[0m \u001b[0miterable\u001b[0m\u001b[0;34m\u001b[0m\u001b[0;34m\u001b[0m\u001b[0m\n\u001b[1;32m     76\u001b[0m         )\n\u001b[0;32m---> 77\u001b[0;31m         \u001b[0;32mreturn\u001b[0m \u001b[0msuper\u001b[0m\u001b[0;34m(\u001b[0m\u001b[0;34m)\u001b[0m\u001b[0;34m.\u001b[0m\u001b[0m__call__\u001b[0m\u001b[0;34m(\u001b[0m\u001b[0miterable_with_config\u001b[0m\u001b[0;34m)\u001b[0m\u001b[0;34m\u001b[0m\u001b[0;34m\u001b[0m\u001b[0m\n\u001b[0m\u001b[1;32m     78\u001b[0m \u001b[0;34m\u001b[0m\u001b[0m\n\u001b[1;32m     79\u001b[0m \u001b[0;34m\u001b[0m\u001b[0m\n",
            "\u001b[0;32m/usr/local/lib/python3.12/dist-packages/joblib/parallel.py\u001b[0m in \u001b[0;36m__call__\u001b[0;34m(self, iterable)\u001b[0m\n\u001b[1;32m   2070\u001b[0m         \u001b[0mnext\u001b[0m\u001b[0;34m(\u001b[0m\u001b[0moutput\u001b[0m\u001b[0;34m)\u001b[0m\u001b[0;34m\u001b[0m\u001b[0;34m\u001b[0m\u001b[0m\n\u001b[1;32m   2071\u001b[0m \u001b[0;34m\u001b[0m\u001b[0m\n\u001b[0;32m-> 2072\u001b[0;31m         \u001b[0;32mreturn\u001b[0m \u001b[0moutput\u001b[0m \u001b[0;32mif\u001b[0m \u001b[0mself\u001b[0m\u001b[0;34m.\u001b[0m\u001b[0mreturn_generator\u001b[0m \u001b[0;32melse\u001b[0m \u001b[0mlist\u001b[0m\u001b[0;34m(\u001b[0m\u001b[0moutput\u001b[0m\u001b[0;34m)\u001b[0m\u001b[0;34m\u001b[0m\u001b[0;34m\u001b[0m\u001b[0m\n\u001b[0m\u001b[1;32m   2073\u001b[0m \u001b[0;34m\u001b[0m\u001b[0m\n\u001b[1;32m   2074\u001b[0m     \u001b[0;32mdef\u001b[0m \u001b[0m__repr__\u001b[0m\u001b[0;34m(\u001b[0m\u001b[0mself\u001b[0m\u001b[0;34m)\u001b[0m\u001b[0;34m:\u001b[0m\u001b[0;34m\u001b[0m\u001b[0;34m\u001b[0m\u001b[0m\n",
            "\u001b[0;32m/usr/local/lib/python3.12/dist-packages/joblib/parallel.py\u001b[0m in \u001b[0;36m_get_outputs\u001b[0;34m(self, iterator, pre_dispatch)\u001b[0m\n\u001b[1;32m   1680\u001b[0m \u001b[0;34m\u001b[0m\u001b[0m\n\u001b[1;32m   1681\u001b[0m             \u001b[0;32mwith\u001b[0m \u001b[0mself\u001b[0m\u001b[0;34m.\u001b[0m\u001b[0m_backend\u001b[0m\u001b[0;34m.\u001b[0m\u001b[0mretrieval_context\u001b[0m\u001b[0;34m(\u001b[0m\u001b[0;34m)\u001b[0m\u001b[0;34m:\u001b[0m\u001b[0;34m\u001b[0m\u001b[0;34m\u001b[0m\u001b[0m\n\u001b[0;32m-> 1682\u001b[0;31m                 \u001b[0;32myield\u001b[0m \u001b[0;32mfrom\u001b[0m \u001b[0mself\u001b[0m\u001b[0;34m.\u001b[0m\u001b[0m_retrieve\u001b[0m\u001b[0;34m(\u001b[0m\u001b[0;34m)\u001b[0m\u001b[0;34m\u001b[0m\u001b[0;34m\u001b[0m\u001b[0m\n\u001b[0m\u001b[1;32m   1683\u001b[0m \u001b[0;34m\u001b[0m\u001b[0m\n\u001b[1;32m   1684\u001b[0m         \u001b[0;32mexcept\u001b[0m \u001b[0mGeneratorExit\u001b[0m\u001b[0;34m:\u001b[0m\u001b[0;34m\u001b[0m\u001b[0;34m\u001b[0m\u001b[0m\n",
            "\u001b[0;32m/usr/local/lib/python3.12/dist-packages/joblib/parallel.py\u001b[0m in \u001b[0;36m_retrieve\u001b[0;34m(self)\u001b[0m\n\u001b[1;32m   1798\u001b[0m                     \u001b[0mself\u001b[0m\u001b[0;34m.\u001b[0m\u001b[0m_jobs\u001b[0m\u001b[0;34m[\u001b[0m\u001b[0;36m0\u001b[0m\u001b[0;34m]\u001b[0m\u001b[0;34m.\u001b[0m\u001b[0mget_status\u001b[0m\u001b[0;34m(\u001b[0m\u001b[0mtimeout\u001b[0m\u001b[0;34m=\u001b[0m\u001b[0mself\u001b[0m\u001b[0;34m.\u001b[0m\u001b[0mtimeout\u001b[0m\u001b[0;34m)\u001b[0m \u001b[0;34m==\u001b[0m \u001b[0mTASK_PENDING\u001b[0m\u001b[0;34m\u001b[0m\u001b[0;34m\u001b[0m\u001b[0m\n\u001b[1;32m   1799\u001b[0m                 ):\n\u001b[0;32m-> 1800\u001b[0;31m                     \u001b[0mtime\u001b[0m\u001b[0;34m.\u001b[0m\u001b[0msleep\u001b[0m\u001b[0;34m(\u001b[0m\u001b[0;36m0.01\u001b[0m\u001b[0;34m)\u001b[0m\u001b[0;34m\u001b[0m\u001b[0;34m\u001b[0m\u001b[0m\n\u001b[0m\u001b[1;32m   1801\u001b[0m                     \u001b[0;32mcontinue\u001b[0m\u001b[0;34m\u001b[0m\u001b[0;34m\u001b[0m\u001b[0m\n\u001b[1;32m   1802\u001b[0m \u001b[0;34m\u001b[0m\u001b[0m\n",
            "\u001b[0;31mKeyboardInterrupt\u001b[0m: "
          ]
        }
      ]
    },
    {
      "cell_type": "code",
      "source": [
        "save_model(model, \"random_forest_model_cpu\")"
      ],
      "metadata": {
        "id": "IacK3VLPOhO1",
        "colab": {
          "base_uri": "https://localhost:8080/"
        },
        "outputId": "7369212c-7596-4ac1-844c-7b26358a55f2"
      },
      "execution_count": 22,
      "outputs": [
        {
          "output_type": "stream",
          "name": "stdout",
          "text": [
            "Model 'random_forest_model_cpu' saved successfully to: /content/drive/Shareddrives/CMPE279/CMPE279-IDSandAttackMitigation/saved_models/random_forest_model_cpu.joblib\n"
          ]
        }
      ]
    },
    {
      "cell_type": "markdown",
      "source": [
        "### Cuda Random Forest\n"
      ],
      "metadata": {
        "id": "DZ7TKM2S-mP_"
      }
    },
    {
      "cell_type": "code",
      "source": [
        "# make sure runtime is GPU\n",
        "!nvidia-smi\n",
        "\n",
        "# install RAPIDS stack\n",
        "!git clone https://github.com/rapidsai/rapidsai-csp-utils.git\n",
        "!python rapidsai-csp-utils/colab/pip-install.py"
      ],
      "metadata": {
        "id": "Urvu1t38QfKB",
        "colab": {
          "base_uri": "https://localhost:8080/"
        },
        "collapsed": true,
        "outputId": "08e7f6f4-de50-4e65-dde3-ebc228a0e415"
      },
      "execution_count": 9,
      "outputs": [
        {
          "output_type": "stream",
          "name": "stdout",
          "text": [
            "Mon Oct 27 00:50:45 2025       \n",
            "+-----------------------------------------------------------------------------------------+\n",
            "| NVIDIA-SMI 550.54.15              Driver Version: 550.54.15      CUDA Version: 12.4     |\n",
            "|-----------------------------------------+------------------------+----------------------+\n",
            "| GPU  Name                 Persistence-M | Bus-Id          Disp.A | Volatile Uncorr. ECC |\n",
            "| Fan  Temp   Perf          Pwr:Usage/Cap |           Memory-Usage | GPU-Util  Compute M. |\n",
            "|                                         |                        |               MIG M. |\n",
            "|=========================================+========================+======================|\n",
            "|   0  Tesla T4                       Off |   00000000:00:04.0 Off |                    0 |\n",
            "| N/A   40C    P8              9W /   70W |       0MiB /  15360MiB |      0%      Default |\n",
            "|                                         |                        |                  N/A |\n",
            "+-----------------------------------------+------------------------+----------------------+\n",
            "                                                                                         \n",
            "+-----------------------------------------------------------------------------------------+\n",
            "| Processes:                                                                              |\n",
            "|  GPU   GI   CI        PID   Type   Process name                              GPU Memory |\n",
            "|        ID   ID                                                               Usage      |\n",
            "|=========================================================================================|\n",
            "|  No running processes found                                                             |\n",
            "+-----------------------------------------------------------------------------------------+\n",
            "Cloning into 'rapidsai-csp-utils'...\n",
            "remote: Enumerating objects: 603, done.\u001b[K\n",
            "remote: Counting objects: 100% (169/169), done.\u001b[K\n",
            "remote: Compressing objects: 100% (87/87), done.\u001b[K\n",
            "remote: Total 603 (delta 131), reused 82 (delta 82), pack-reused 434 (from 3)\u001b[K\n",
            "Receiving objects: 100% (603/603), 199.38 KiB | 1.80 MiB/s, done.\n",
            "Resolving deltas: 100% (305/305), done.\n",
            "Installing RAPIDS remaining 25.08 libraries\n",
            "Using Python 3.12.12 environment at: /usr\n",
            "Resolved 179 packages in 16.94s\n",
            "Prepared 41 packages in 4m 17s\n",
            "Uninstalled 31 packages in 874ms\n",
            "Installed 41 packages in 142ms\n",
            " - bokeh==3.7.3\n",
            " + bokeh==3.6.3\n",
            " + cucim-cu12==25.8.0\n",
            " + cuda-bindings==12.9.4\n",
            " + cuda-pathfinder==1.3.1\n",
            " - cuda-python==12.6.2.post1\n",
            " + cuda-python==12.9.4\n",
            " - cudf-cu12==25.6.0 (from https://pypi.nvidia.com/cudf-cu12/cudf_cu12-25.6.0-cp312-cp312-manylinux_2_24_x86_64.manylinux_2_28_x86_64.whl)\n",
            " + cudf-cu12==25.8.0\n",
            " + cugraph-cu12==25.8.0\n",
            " - cuml-cu12==25.6.0\n",
            " + cuml-cu12==25.8.0\n",
            " - cuvs-cu12==25.6.1\n",
            " + cuvs-cu12==25.8.0\n",
            " + cuxfilter-cu12==25.8.0\n",
            " - dask==2025.5.0\n",
            " + dask==2025.7.0\n",
            " - dask-cuda==25.6.0\n",
            " + dask-cuda==25.8.0\n",
            " - dask-cudf-cu12==25.6.0\n",
            " + dask-cudf-cu12==25.8.0\n",
            " + datashader==0.18.2\n",
            " - distributed==2025.5.0\n",
            " + distributed==2025.7.0\n",
            " - distributed-ucxx-cu12==0.44.0\n",
            " + distributed-ucxx-cu12==0.45.1\n",
            " - holoviews==1.21.0\n",
            " + holoviews==1.20.2\n",
            " + jupyter-server-proxy==4.4.0\n",
            " - libcudf-cu12==25.6.0 (from https://pypi.nvidia.com/libcudf-cu12/libcudf_cu12-25.6.0-py3-none-manylinux_2_28_x86_64.whl)\n",
            " + libcudf-cu12==25.8.0\n",
            " - libcugraph-cu12==25.6.0\n",
            " + libcugraph-cu12==25.8.0\n",
            " - libcuml-cu12==25.6.0\n",
            " + libcuml-cu12==25.8.0\n",
            " - libcuvs-cu12==25.6.1\n",
            " + libcuvs-cu12==25.8.0\n",
            " - libkvikio-cu12==25.6.0\n",
            " + libkvikio-cu12==25.8.0\n",
            " - libraft-cu12==25.6.0\n",
            " + libraft-cu12==25.8.0\n",
            " - librmm-cu12==25.6.0\n",
            " + librmm-cu12==25.8.0\n",
            " - libucxx-cu12==0.44.0\n",
            " + libucxx-cu12==0.45.1\n",
            " - numba-cuda==0.11.0\n",
            " + numba-cuda==0.14.1\n",
            " + nvidia-cuda-cccl-cu12==12.9.27\n",
            " - nx-cugraph-cu12==25.6.0 (from https://pypi.nvidia.com/nx-cugraph-cu12/nx_cugraph_cu12-25.6.0-py3-none-any.whl)\n",
            " + nx-cugraph-cu12==25.8.0\n",
            " - panel==1.8.2\n",
            " + panel==1.7.5\n",
            " + pyct==0.6.0\n",
            " - pylibcudf-cu12==25.6.0 (from https://pypi.nvidia.com/pylibcudf-cu12/pylibcudf_cu12-25.6.0-cp312-cp312-manylinux_2_24_x86_64.manylinux_2_28_x86_64.whl)\n",
            " + pylibcudf-cu12==25.8.0\n",
            " - pylibcugraph-cu12==25.6.0\n",
            " + pylibcugraph-cu12==25.8.0\n",
            " - pylibraft-cu12==25.6.0\n",
            " + pylibraft-cu12==25.8.0\n",
            " - raft-dask-cu12==25.6.0\n",
            " + raft-dask-cu12==25.8.0\n",
            " - rapids-dask-dependency==25.6.0\n",
            " + rapids-dask-dependency==25.8.0\n",
            " - rmm-cu12==25.6.0\n",
            " + rmm-cu12==25.8.0\n",
            " - shapely==2.1.2\n",
            " + shapely==2.0.7\n",
            " + simpervisor==1.0.0\n",
            " - ucx-py-cu12==0.44.0\n",
            " + ucx-py-cu12==0.45.0\n",
            " - ucxx-cu12==0.44.0\n",
            " + ucxx-cu12==0.45.1\n",
            "\n",
            "        ***********************************************************************\n",
            "        The pip install of RAPIDS is complete.\n",
            "\n",
            "        Please do not run any further installation from the conda based installation methods, as they may cause issues!\n",
            "\n",
            "        Please ensure that you're pulling from the git repo to remain updated with the latest working install scripts.\n",
            "\n",
            "        Troubleshooting:\n",
            "            - If there is an installation failure, please check back on RAPIDSAI owned templates/notebooks to see how to update your personal files.\n",
            "            - If an installation failure persists when using the latest script, please make an issue on https://github.com/rapidsai-community/rapidsai-csp-utils\n",
            "        ***********************************************************************\n",
            "        \n"
          ]
        }
      ]
    },
    {
      "cell_type": "code",
      "metadata": {
        "id": "1a67422e"
      },
      "source": [
        "from sklearn.model_selection import GridSearchCV\n",
        "from cuml.ensemble import RandomForestClassifier as cuRandomForestClassifier\n",
        "import cudf\n",
        "import cupy as cp\n",
        "\n",
        "# Define the cuML Random Forest model\n",
        "rf_model_gpu = cuRandomForestClassifier(\n",
        "    random_state=42,\n",
        "    n_estimators=75,\n",
        "    max_features=\"sqrt\",\n",
        "    max_depth=20,\n",
        "\n",
        "    )\n",
        "\n",
        "# Define the hyperparameters grid\n",
        "hyperparameters = {\n",
        "    'n_estimators': [50, 75, 100, 125, 150]\n",
        "    # Add other hyperparameters you want to tune\n",
        "}\n",
        "\n",
        "# Set up GridSearchCV\n",
        "clf_gpu = GridSearchCV(\n",
        "    estimator=rf_model_gpu,\n",
        "    param_grid=hyperparameters,\n",
        "    cv=5,  # Number of cross-validation folds\n",
        "    verbose=1,\n",
        "    n_jobs=-1 # Use all available CPU cores (or GPUs if configured by cuML)\n",
        ")\n",
        "\n",
        "# Fit GridSearchCV on your training data (X_train and y_train should be on the GPU)\n",
        "# Note: Ensure X_train and y_train are cuDF DataFrames or cuPy arrays for best performance on GPU\n",
        "\n",
        "# Convert pandas DataFrame and numpy array to cuDF DataFrame and cuPy array\n",
        "X_train_gpu = cudf.DataFrame.from_pandas(X_train)\n",
        "X_test_gpu  = cudf.DataFrame.from_pandas(X_test)\n",
        "y_train_gpu = cudf.Series(y_train.values.astype(np.int32))\n",
        "\n",
        "rf_model_gpu.fit(X_train_gpu, y_train_gpu)\n",
        "\n",
        "\n",
        "\n",
        "p_test_gpu_df = rf_model_gpu.predict_proba(X_test_gpu)   # cuDF DataFrame\n",
        "p_test_gpu = p_test_gpu_df.values # Convert to cuPy array\n",
        "p_test = cp.asnumpy(p_test_gpu)[:, 1]                              # numpy, select positive class probabilities\n",
        "y_hat  = (p_test >= 0.5).astype(int)"
      ],
      "execution_count": 458,
      "outputs": []
    },
    {
      "cell_type": "code",
      "source": [
        "\n",
        "p = p_test  # probabilities as numpy array\n",
        "\n",
        "# sanity: see score range\n",
        "print(\"p_test min/max:\", float(np.min(p)), float(np.max(p)))\n",
        "\n",
        "prec, rec, thr = precision_recall_curve(y_test, p)\n",
        "# For each threshold thr[i], the corresponding precision/recall are prec[i+1], rec[i+1]\n",
        "prec_t = prec[1:]\n",
        "rec_t  = rec[1:]\n",
        "thr_t  = thr\n",
        "\n",
        "# 1) choose threshold for recall >= target with best precision\n",
        "target_recall = 0.98\n",
        "mask = rec_t >= target_recall\n",
        "if mask.any():\n",
        "    # among thresholds that meet recall, pick the one with highest precision\n",
        "    idx = np.argmax(prec_t[mask])\n",
        "    thr_star = thr_t[mask][idx]\n",
        "else:\n",
        "    # target unreachable; fall back to threshold that gets recall closest to target\n",
        "    idx = np.argmin(np.abs(rec_t - target_recall))\n",
        "    thr_star = thr_t[idx]\n",
        "\n",
        "y_thr = (p >= thr_star).astype(int)\n",
        "print(f\"\\nChosen threshold: {thr_star:.6f}  (recall target {target_recall})\")\n",
        "print(\"Confusion @thr*\\n\", confusion_matrix(y_test, y_thr))\n",
        "print(\"\\nReport @thr*\\n\", classification_report(y_test, y_thr, digits=4))\n",
        "\n",
        "# 2) optional: pure F1-max threshold\n",
        "f1_t = 2*prec_t*rec_t/(prec_t+rec_t+1e-12)\n",
        "i_f1 = np.nanargmax(f1_t)\n",
        "thr_f1 = thr_t[i_f1]\n",
        "y_f1 = (p >= thr_f1).astype(int)\n",
        "print(f\"\\nF1-max threshold: {thr_f1:.6f}\")\n",
        "print(\"Confusion @F1\\n\", confusion_matrix(y_test, y_f1))\n",
        "print(\"\\nReport @F1\\n\", classification_report(y_test, y_f1, digits=4))\n",
        "\n",
        "\n",
        "\n",
        "# keep your summary metrics\n",
        "print(\"\\nROC-AUC:\", roc_auc_score(y_test, p))\n",
        "print(\"PR-AUC:\",  average_precision_score(y_test, p))"
      ],
      "metadata": {
        "colab": {
          "base_uri": "https://localhost:8080/"
        },
        "id": "LQrayOzTEPH-",
        "outputId": "8c40c2bf-55bf-4c23-9a76-2cef432f32f7"
      },
      "execution_count": 459,
      "outputs": [
        {
          "output_type": "stream",
          "name": "stdout",
          "text": [
            "p_test min/max: 3.397093450985267e-06 0.9217919707298279\n",
            "\n",
            "Chosen threshold: 0.048304  (recall target 0.98)\n",
            "Confusion @thr*\n",
            " [[1771  188]\n",
            " [   0 1722]]\n",
            "\n",
            "Report @thr*\n",
            "               precision    recall  f1-score   support\n",
            "\n",
            "           0     1.0000    0.9040    0.9496      1959\n",
            "           1     0.9016    1.0000    0.9482      1722\n",
            "\n",
            "    accuracy                         0.9489      3681\n",
            "   macro avg     0.9508    0.9520    0.9489      3681\n",
            "weighted avg     0.9540    0.9489    0.9490      3681\n",
            "\n",
            "\n",
            "F1-max threshold: 0.048304\n",
            "Confusion @F1\n",
            " [[1771  188]\n",
            " [   0 1722]]\n",
            "\n",
            "Report @F1\n",
            "               precision    recall  f1-score   support\n",
            "\n",
            "           0     1.0000    0.9040    0.9496      1959\n",
            "           1     0.9016    1.0000    0.9482      1722\n",
            "\n",
            "    accuracy                         0.9489      3681\n",
            "   macro avg     0.9508    0.9520    0.9489      3681\n",
            "weighted avg     0.9540    0.9489    0.9490      3681\n",
            "\n",
            "\n",
            "ROC-AUC: 0.9586523736600306\n",
            "PR-AUC: 0.9550748752079867\n"
          ]
        }
      ]
    },
    {
      "cell_type": "code",
      "source": [
        "from sklearn.metrics import average_precision_score, roc_curve\n",
        "print(\"PR-AUC:\", average_precision_score(y_test, p_test))\n",
        "\n",
        "# recall at 1% FPR\n",
        "fpr, tpr, thr = roc_curve(y_test, p_test)\n",
        "i = np.argmin(np.abs(fpr - 0.01))\n",
        "print(f\"@1% FPR -> recall={tpr[i]:.4f}, thr={thr[i]:.6f}\")"
      ],
      "metadata": {
        "colab": {
          "base_uri": "https://localhost:8080/"
        },
        "id": "iHS-vE7IpCV-",
        "outputId": "76af6bef-b88e-4dc4-c7b1-9e423a91eeb2"
      },
      "execution_count": 460,
      "outputs": [
        {
          "output_type": "stream",
          "name": "stdout",
          "text": [
            "PR-AUC: 0.9550748752079867\n",
            "@1% FPR -> recall=0.0000, thr=0.235824\n"
          ]
        }
      ]
    },
    {
      "cell_type": "code",
      "source": [
        "save_model(rf_model_gpu, \"random_forest_gpu_model\")"
      ],
      "metadata": {
        "colab": {
          "base_uri": "https://localhost:8080/"
        },
        "id": "LbyIqs7uGotg",
        "outputId": "51a96bfd-4b6b-4308-9f7a-a3e16a277dc8"
      },
      "execution_count": 461,
      "outputs": [
        {
          "output_type": "stream",
          "name": "stdout",
          "text": [
            "Model 'random_forest_gpu_model' saved successfully to: /content/drive/Shareddrives/CMPE279/CMPE279-IDSandAttackMitigation/saved_models/random_forest_gpu_model.joblib\n"
          ]
        }
      ]
    },
    {
      "cell_type": "code",
      "source": [],
      "metadata": {
        "id": "8cHAG73KnQv3"
      },
      "execution_count": null,
      "outputs": []
    },
    {
      "cell_type": "code",
      "metadata": {
        "id": "7c8618d7"
      },
      "source": [
        "# loaded_model = load_model(\"random_forest_model\")"
      ],
      "execution_count": 22,
      "outputs": []
    },
    {
      "cell_type": "markdown",
      "source": [
        "## XGBoost\n",
        "\n"
      ],
      "metadata": {
        "id": "L39aCk54D6-e"
      }
    },
    {
      "cell_type": "code",
      "source": [
        "!pip install xgboost"
      ],
      "metadata": {
        "colab": {
          "base_uri": "https://localhost:8080/"
        },
        "id": "fvJNk0bQ4mbr",
        "outputId": "1dd26e17-618f-4834-f965-cfa1bdba180c"
      },
      "execution_count": 277,
      "outputs": [
        {
          "output_type": "stream",
          "name": "stdout",
          "text": [
            "Requirement already satisfied: xgboost in /usr/local/lib/python3.12/dist-packages (3.1.1)\n",
            "Requirement already satisfied: numpy in /usr/local/lib/python3.12/dist-packages (from xgboost) (2.0.2)\n",
            "Requirement already satisfied: nvidia-nccl-cu12 in /usr/local/lib/python3.12/dist-packages (from xgboost) (2.27.3)\n",
            "Requirement already satisfied: scipy in /usr/local/lib/python3.12/dist-packages (from xgboost) (1.16.2)\n"
          ]
        }
      ]
    },
    {
      "cell_type": "code",
      "source": [
        "import xgboost as xgb\n",
        "from sklearn.metrics import roc_curve, classification_report, confusion_matrix, roc_auc_score, average_precision_score\n",
        "import numpy as np\n",
        "\n",
        "dtrain = xgb.DMatrix(X_train.values, label=y_train.values)\n",
        "dval   = xgb.DMatrix(X_val.values,   label=y_val.values)\n",
        "dtest  = xgb.DMatrix(X_test.values,  label=y_test.values)\n",
        "\n",
        "pos = float(y_train.mean())\n",
        "spw = (1 - pos) / max(pos, 1e-9)\n",
        "\n",
        "params = {\n",
        "    \"objective\": \"binary:logistic\",\n",
        "    \"tree_method\": \"hist\",\n",
        "    \"eval_metric\": [\"aucpr\",\"auc\"],\n",
        "    \"eta\": 0.05, \"max_depth\": 8, \"min_child_weight\": 5,\n",
        "    \"subsample\": 0.8, \"colsample_bytree\": 0.8, \"reg_lambda\": 2.0,\n",
        "    \"scale_pos_weight\": spw, \"random_state\": 42,\n",
        "}\n",
        "\n",
        "bst = xgb.train(\n",
        "    params, dtrain, num_boost_round=3000,\n",
        "    evals=[(dval, \"val\")], early_stopping_rounds=100, verbose_eval=100\n",
        ")\n",
        "\n",
        "# choose threshold on VAL by FPR policy (e.g., 1%)\n",
        "p_val = bst.predict(dval, iteration_range=(0, bst.best_iteration + 1))\n",
        "fpr, tpr, thr = roc_curve(y_val, p_val)\n",
        "i = np.argmin(np.abs(fpr - 0.005))\n",
        "thr_star = float(thr[i])\n",
        "\n",
        "# final TEST eval\n",
        "p_test = bst.predict(dtest, iteration_range=(0, bst.best_iteration + 1))\n",
        "y_hat  = (p_test >= thr_star).astype(int)\n",
        "print(\"Test ROC-AUC:\", roc_auc_score(y_test, p_test))\n",
        "print(\"Test PR-AUC:\",  average_precision_score(y_test, p_test))\n",
        "print(\"Confusion @thr*:\\n\", confusion_matrix(y_test, y_hat))\n",
        "print(\"Report @thr*:\\n\", classification_report(y_test, y_hat, digits=4))"
      ],
      "metadata": {
        "colab": {
          "base_uri": "https://localhost:8080/"
        },
        "id": "0_qj-SWsEEb8",
        "outputId": "a927d2fc-f6eb-4edc-d618-b04929c35bb2"
      },
      "execution_count": 433,
      "outputs": [
        {
          "output_type": "stream",
          "name": "stdout",
          "text": [
            "[0]\tval-aucpr:0.34404\tval-auc:0.46078\n",
            "[100]\tval-aucpr:0.71080\tval-auc:0.86515\n",
            "[200]\tval-aucpr:0.90081\tval-auc:0.95992\n",
            "[294]\tval-aucpr:0.77949\tval-auc:0.89160\n",
            "Test ROC-AUC: 0.9586523736600306\n",
            "Test PR-AUC: 0.9550748752079867\n",
            "Confusion @thr*:\n",
            " [[1934   25]\n",
            " [1722    0]]\n",
            "Report @thr*:\n",
            "               precision    recall  f1-score   support\n",
            "\n",
            "           0     0.5290    0.9872    0.6889      1959\n",
            "           1     0.0000    0.0000    0.0000      1722\n",
            "\n",
            "    accuracy                         0.5254      3681\n",
            "   macro avg     0.2645    0.4936    0.3444      3681\n",
            "weighted avg     0.2815    0.5254    0.3666      3681\n",
            "\n"
          ]
        }
      ]
    },
    {
      "cell_type": "code",
      "source": [
        "import numpy as np\n",
        "from sklearn.metrics import (\n",
        "    roc_auc_score,\n",
        "    average_precision_score,\n",
        "    roc_curve,\n",
        "    precision_recall_curve,\n",
        "    confusion_matrix,\n",
        "    classification_report,\n",
        "    precision_score,\n",
        "    recall_score\n",
        ")\n",
        "from sklearn.isotonic import IsotonicRegression\n",
        "\n",
        "def evaluate_model(y_val, p_val, y_test, p_test,\n",
        "                   target_fpr=0.01, calibration=True):\n",
        "    \"\"\"\n",
        "    Evaluate model on val and test:\n",
        "      - Ranking metrics (ROC-AUC, PR-AUC)\n",
        "      - Calibration (optional)\n",
        "      - Find threshold on val for target FPR\n",
        "      - Apply threshold to test: compute confusion, precision, recall, etc.\n",
        "    \"\"\"\n",
        "\n",
        "\n",
        "    print(\"=== Ranking metrics === Validation Set\")\n",
        "    print(\"VAL ROC-AUC:\", roc_auc_score(y_val, p_val))\n",
        "    print(\"VAL PR-AUC:\",  average_precision_score(y_val, p_val))\n",
        "\n",
        "    # Optional calibration\n",
        "    if calibration:\n",
        "        iso = IsotonicRegression(out_of_bounds='clip')\n",
        "        iso.fit(p_val, y_val)\n",
        "        p_val_cal  = iso.transform(p_val)\n",
        "        p_test_cal = iso.transform(p_test)\n",
        "    else:\n",
        "        p_val_cal  = p_val\n",
        "        p_test_cal = p_test\n",
        "\n",
        "    # Pick threshold on val for target FPR\n",
        "    neg_val = p_val_cal[y_val == 0]\n",
        "    thr_star = float(np.quantile(neg_val, 1 - target_fpr, method=\"higher\"))\n",
        "    # Measure on val\n",
        "    fpr_v = (neg_val >= thr_star).mean()\n",
        "    rec_v = (p_val_cal[y_val == 1] >= thr_star).mean()\n",
        "    print(f\"\\nVAL quantile threshold @{target_fpr*100:.2f}% FPR -> thr={thr_star:.6f}  FPR={fpr_v:.4f}, Recall={rec_v:.4f}\")\n",
        "\n",
        "    # Apply to test\n",
        "    y_hat = (p_test_cal >= thr_star).astype(int)\n",
        "    tn, fp, fn, tp = confusion_matrix(y_test, y_hat).ravel()\n",
        "    test_fpr    = fp / (fp + tn)\n",
        "    test_recall = tp / (tp + fn)\n",
        "    test_prec   = precision_score(y_test, y_hat)\n",
        "    print(f\"\\nTEST using thr={thr_star:.6f} -> FPR={test_fpr:.4f}, Recall={test_recall:.4f}, Precision={test_prec:.4f}\")\n",
        "\n",
        "    print(\"\\nConfusion @thr*:\\n\", confusion_matrix(y_test, y_hat))\n",
        "    print(\"\\nClassification Report @thr*:\\n\", classification_report(y_test, y_hat, digits=4))\n",
        "\n",
        "    print(\"\\nTEST ranking metrics (calibrated if used):\")\n",
        "    print(\"TEST ROC-AUC:\", roc_auc_score(y_test, p_test_cal))\n",
        "    print(\"TEST PR-AUC:\",  average_precision_score(y_test, p_test_cal))\n",
        "\n",
        "    # Optional: report pure F1-max threshold\n",
        "    print(\"\\n--- Optional: F1-max threshold on TEST ---\")\n",
        "    prec_t, rec_t, thr_t = precision_recall_curve(y_test, p_test_cal)\n",
        "    f1_t = 2 * prec_t * rec_t / (prec_t + rec_t + 1e-12)\n",
        "    i_f1 = np.nanargmax(f1_t)\n",
        "    thr_f1 = thr_t[i_f1]\n",
        "    y_hat_f1 = (p_test_cal >= thr_f1).astype(int)\n",
        "    print(f\"F1-max threshold: {thr_f1:.6f}\")\n",
        "    print(\"Report @F1:\\n\", classification_report(y_test, y_hat_f1, digits=4))\n",
        "\n",
        "    return {\n",
        "        \"threshold\": thr_star,\n",
        "        \"test_fpr\": test_fpr,\n",
        "        \"test_recall\": test_recall,\n",
        "        \"test_precision\": test_prec,\n",
        "        \"roc_auc\": roc_auc_score(y_test, p_test_cal),\n",
        "        \"pr_auc\": average_precision_score(y_test, p_test_cal)\n",
        "    }\n",
        "\n",
        "# Example usage:\n",
        "metrics = evaluate_model(y_val, p_val, y_test, p_test, target_fpr=0.01, calibration=False)"
      ],
      "metadata": {
        "colab": {
          "base_uri": "https://localhost:8080/"
        },
        "id": "FfspQ4kCRaHY",
        "outputId": "c634f7f9-8ebc-462a-b1d5-0aa4b3e29f7a"
      },
      "execution_count": 444,
      "outputs": [
        {
          "output_type": "stream",
          "name": "stdout",
          "text": [
            "=== Ranking metrics === Validation Set\n",
            "VAL ROC-AUC: 0.9743727921493119\n",
            "VAL PR-AUC: 0.9246529699545971\n",
            "\n",
            "VAL quantile threshold @1.00% FPR -> thr=0.002212  FPR=0.0139, Recall=0.5663\n",
            "\n",
            "TEST using thr=0.002212 -> FPR=0.8443, Recall=1.0000, Precision=0.5101\n",
            "\n",
            "Confusion @thr*:\n",
            " [[ 305 1654]\n",
            " [   0 1722]]\n",
            "\n",
            "Classification Report @thr*:\n",
            "               precision    recall  f1-score   support\n",
            "\n",
            "           0     1.0000    0.1557    0.2694      1959\n",
            "           1     0.5101    1.0000    0.6756      1722\n",
            "\n",
            "    accuracy                         0.5507      3681\n",
            "   macro avg     0.7550    0.5778    0.4725      3681\n",
            "weighted avg     0.7708    0.5507    0.4594      3681\n",
            "\n",
            "\n",
            "TEST ranking metrics (calibrated if used):\n",
            "TEST ROC-AUC: 0.9586523736600306\n",
            "TEST PR-AUC: 0.9550748752079867\n",
            "\n",
            "--- Optional: F1-max threshold on TEST ---\n",
            "F1-max threshold: 0.061556\n",
            "Report @F1:\n",
            "               precision    recall  f1-score   support\n",
            "\n",
            "           0     1.0000    0.9587    0.9789      1959\n",
            "           1     0.9551    1.0000    0.9770      1722\n",
            "\n",
            "    accuracy                         0.9780      3681\n",
            "   macro avg     0.9775    0.9793    0.9780      3681\n",
            "weighted avg     0.9790    0.9780    0.9780      3681\n",
            "\n"
          ]
        }
      ]
    },
    {
      "cell_type": "code",
      "source": [
        "from pprint import pprint\n",
        "from sklearn.metrics import roc_auc_score\n",
        "sus = sorted(((c, roc_auc_score(y_val, X_val[c])) for c in X_val.columns if X_val[c].nunique()>1),\n",
        "             key=lambda z: -abs(z[1]-0.5))[:10]\n",
        "pprint(sus)"
      ],
      "metadata": {
        "colab": {
          "base_uri": "https://localhost:8080/"
        },
        "id": "UGo8aWd1AO1Q",
        "outputId": "56357121-23f0-441a-9eea-8ca806ac9fb6"
      },
      "execution_count": 435,
      "outputs": [
        {
          "output_type": "stream",
          "name": "stdout",
          "text": [
            "[('Fwd Header Len', np.float64(0.16091629905097013)),\n",
            " ('Bwd Pkt Len Max', np.float64(0.7321319577109335)),\n",
            " ('ACK Flag Cnt', np.float64(0.3110893395896501)),\n",
            " ('PSH Flag Cnt', np.float64(0.671111967835956)),\n",
            " ('Bwd Header Len', np.float64(0.36945408661486134)),\n",
            " ('URG Flag Cnt', np.float64(0.6242292677653226)),\n",
            " ('RST Flag Cnt', np.float64(0.5876078070859742)),\n",
            " ('ECE Flag Cnt', np.float64(0.5876078070859742)),\n",
            " ('Fwd Seg Size Min', np.float64(0.4275317075322015)),\n",
            " ('FIN Flag Cnt', np.float64(0.5189454322501533))]\n"
          ]
        }
      ]
    },
    {
      "cell_type": "code",
      "source": [
        "bad = [c for c,a in sus if a>0.98 or a<0.02]\n",
        "X_train = X_train.drop(columns=bad, errors='ignore')\n",
        "X_val   = X_val.drop(columns=bad, errors='ignore')\n",
        "X_test  = X_test.drop(columns=bad, errors='ignore')\n",
        "print(\"dropped:\", bad)"
      ],
      "metadata": {
        "colab": {
          "base_uri": "https://localhost:8080/"
        },
        "id": "wzKCD74QgCdX",
        "outputId": "a241992d-5d67-48a4-b783-ade42ede86f8"
      },
      "execution_count": 436,
      "outputs": [
        {
          "output_type": "stream",
          "name": "stdout",
          "text": [
            "dropped: []\n"
          ]
        }
      ]
    },
    {
      "cell_type": "code",
      "source": [
        "import numpy as np\n",
        "from sklearn.isotonic import IsotonicRegression\n",
        "from sklearn.metrics import roc_curve, precision_score, recall_score, confusion_matrix, classification_report, average_precision_score, roc_auc_score\n",
        "\n",
        "TARGET_FPR = 0.01  # 1%\n",
        "\n",
        "# 1) scores on validation and test (raw model outputs)\n",
        "# p_val, y_val, p_test, y_test must already be defined\n",
        "\n",
        "# 2) calibrate on validation\n",
        "iso = IsotonicRegression(out_of_bounds='clip')\n",
        "iso.fit(p_val, y_val)\n",
        "\n",
        "p_val_cal  = iso.transform(p_val)\n",
        "p_test_cal = iso.transform(p_test)\n",
        "\n",
        "# 3) pick threshold on validation to hit 1% FPR (right-sided rule)\n",
        "fpr_v, tpr_v, thr_v = roc_curve(y_val, p_val_cal)\n",
        "idx = (fpr_v >= TARGET_FPR).argmax() if (fpr_v >= TARGET_FPR).any() else len(fpr_v) - 1\n",
        "thr_star = float(thr_v[idx])\n",
        "\n",
        "print(f\"VAL @1% FPR -> thr={thr_star:.6f}  FPR={fpr_v[idx]:.4f}  recall={tpr_v[idx]:.4f}\")\n",
        "\n",
        "# 4) apply to test (no re-tuning)\n",
        "y_hat = (p_test_cal >= thr_star).astype(int)\n",
        "tn, fp, fn, tp = confusion_matrix(y_test, y_hat).ravel()\n",
        "test_fpr = fp / (fp + tn)\n",
        "test_recall = tp / (tp + fn)\n",
        "test_prec = precision_score(y_test, y_hat)\n",
        "\n",
        "print(f\"TEST using thr={thr_star:.6f} -> FPR={test_fpr:.4f}  recall={test_recall:.4f}  precision={test_prec:.4f}\")\n",
        "print(\"\\nReport:\\n\", classification_report(y_test, y_hat, digits=4))\n",
        "\n",
        "# (optional) also report ranking metrics on calibrated scores\n",
        "print(\"Test ROC-AUC:\", roc_auc_score(y_test, p_test_cal))\n",
        "print(\"Test PR-AUC:\",  average_precision_score(y_test, p_test_cal))"
      ],
      "metadata": {
        "colab": {
          "base_uri": "https://localhost:8080/"
        },
        "id": "eFyVG9SEJ5Ms",
        "outputId": "c5decb6e-0bd6-45c9-8003-4d59639e8ef4"
      },
      "execution_count": 462,
      "outputs": [
        {
          "output_type": "stream",
          "name": "stdout",
          "text": [
            "VAL @1% FPR -> thr=0.902534  FPR=0.0140  recall=0.9177\n",
            "TEST using thr=0.902534 -> FPR=0.9918  recall=1.0000  precision=0.4698\n",
            "\n",
            "Report:\n",
            "               precision    recall  f1-score   support\n",
            "\n",
            "           0     1.0000    0.0082    0.0162      1959\n",
            "           1     0.4698    1.0000    0.6393      1722\n",
            "\n",
            "    accuracy                         0.4722      3681\n",
            "   macro avg     0.7349    0.5041    0.3278      3681\n",
            "weighted avg     0.7520    0.4722    0.3077      3681\n",
            "\n",
            "Test ROC-AUC: 0.5040837161817253\n",
            "Test PR-AUC: 0.469849931787176\n"
          ]
        }
      ]
    },
    {
      "cell_type": "code",
      "source": [
        "import numpy as np\n",
        "from sklearn.metrics import confusion_matrix, precision_score, recall_score\n",
        "\n",
        "TARGET_FPR = 0.01  # 1%\n",
        "\n",
        "# 1) Use calibrated validation scores here if you calibrated.\n",
        "# p_val_cal: calibrated scores on VAL\n",
        "# y_val: labels on VAL\n",
        "\n",
        "neg_val = p_val_cal[y_val == 0]\n",
        "thr_star = float(np.quantile(neg_val, 1 - TARGET_FPR, interpolation=\"higher\"))\n",
        "\n",
        "print(f\"VAL quantile threshold @1% FPR: thr={thr_star:.6f}\")\n",
        "\n",
        "# 2) Apply to TEST (calibrated scores)\n",
        "y_hat = (p_test_cal >= thr_star).astype(int)\n",
        "\n",
        "tn, fp, fn, tp = confusion_matrix(y_test, y_hat).ravel()\n",
        "test_fpr = fp / (fp + tn)\n",
        "test_rec = tp / (tp + fn)\n",
        "test_pre = precision_score(y_test, y_hat)\n",
        "\n",
        "print(f\"TEST @thr={thr_star:.6f} -> FPR={test_fpr:.4f}  recall={test_rec:.4f}  precision={test_pre:.4f}\")"
      ],
      "metadata": {
        "colab": {
          "base_uri": "https://localhost:8080/"
        },
        "id": "4vrLXBYIM4we",
        "outputId": "2f0b7c38-bf78-4fbc-d582-cceaa8fa5e82"
      },
      "execution_count": 411,
      "outputs": [
        {
          "output_type": "stream",
          "name": "stdout",
          "text": [
            "VAL quantile threshold @1% FPR: thr=0.999301\n",
            "TEST @thr=0.999301 -> FPR=0.0007  recall=1.0000  precision=0.9941\n"
          ]
        }
      ]
    },
    {
      "cell_type": "code",
      "source": [
        "# choose on validation (calibrated scores)\n",
        "target_fpr_val = 0.02  # try 2% or 3%\n",
        "thr_star = float(np.quantile(p_val_cal[y_val==0], 1 - target_fpr_val, interpolation=\"higher\"))\n",
        "\n",
        "#Use this for inference\n",
        "thr_star"
      ],
      "metadata": {
        "colab": {
          "base_uri": "https://localhost:8080/"
        },
        "id": "O5yK6ZbKObzo",
        "outputId": "7b6a71d9-ff3a-4dac-c22d-716a6cd52ae1"
      },
      "execution_count": 401,
      "outputs": [
        {
          "output_type": "execute_result",
          "data": {
            "text/plain": [
              "0.999301016330719"
            ]
          },
          "metadata": {},
          "execution_count": 401
        }
      ]
    },
    {
      "cell_type": "code",
      "source": [
        "import numpy as np\n",
        "\n",
        "target_fpr = 0.01  # 1%\n",
        "neg_scores = p_test[y_test == 0]\n",
        "thr_star = np.quantile(neg_scores, 1 - target_fpr, method=\"higher\")\n",
        "\n",
        "recall_1p = (p_test[y_test == 1] >= thr_star).mean()\n",
        "fpr_1p    = (p_test[y_test == 0] >= thr_star).mean()\n",
        "\n",
        "print(f\"Threshold @1%FPR={thr_star:.6f}  ->  FPR={fpr_1p:.4f},  Recall={recall_1p:.4f}\")"
      ],
      "metadata": {
        "colab": {
          "base_uri": "https://localhost:8080/"
        },
        "id": "9foPKvoJQ30Z",
        "outputId": "30191f78-0232-4644-ce16-2474bf756cf0"
      },
      "execution_count": 413,
      "outputs": [
        {
          "output_type": "stream",
          "name": "stdout",
          "text": [
            "Threshold @1%FPR=0.172701  ->  FPR=1.0000,  Recall=1.0000\n"
          ]
        }
      ]
    },
    {
      "cell_type": "markdown",
      "source": [],
      "metadata": {
        "id": "hj5YZqSGKr00"
      }
    },
    {
      "cell_type": "code",
      "source": [],
      "metadata": {
        "colab": {
          "base_uri": "https://localhost:8080/"
        },
        "id": "qGYEZxzNJ-YL",
        "outputId": "d2e05e06-f96e-4b56-9b0f-28fde0cce306"
      },
      "execution_count": 386,
      "outputs": [
        {
          "output_type": "execute_result",
          "data": {
            "text/plain": [
              "0.999301016330719"
            ]
          },
          "metadata": {},
          "execution_count": 386
        }
      ]
    },
    {
      "cell_type": "code",
      "source": [],
      "metadata": {
        "id": "mp_WT36tKAq0"
      },
      "execution_count": 381,
      "outputs": []
    },
    {
      "cell_type": "code",
      "source": [
        "save_model(bst, \"xboost_gpu\")"
      ],
      "metadata": {
        "colab": {
          "base_uri": "https://localhost:8080/"
        },
        "id": "yahvTAdCGtlf",
        "outputId": "72c2c6cd-9cba-4050-eefc-9548e7175b3a"
      },
      "execution_count": 438,
      "outputs": [
        {
          "output_type": "stream",
          "name": "stdout",
          "text": [
            "Model 'xboost_gpu' saved successfully to: /content/drive/Shareddrives/CMPE279/CMPE279-IDSandAttackMitigation/saved_models/xboost_gpu.joblib\n"
          ]
        }
      ]
    },
    {
      "cell_type": "markdown",
      "source": [
        "### Inference and metrics\n"
      ],
      "metadata": {
        "id": "qgHcOgmoJH6q"
      }
    },
    {
      "cell_type": "code",
      "source": [
        "import numpy as np\n",
        "import matplotlib.pyplot as plt\n",
        "from sklearn.metrics import (\n",
        "    roc_auc_score, average_precision_score, roc_curve, precision_recall_curve,\n",
        "    confusion_matrix, classification_report, precision_score\n",
        ")\n",
        "from sklearn.isotonic import IsotonicRegression\n",
        "\n",
        "def _q_hi(a, q):\n",
        "    try:\n",
        "        return np.quantile(a, q, method=\"higher\")\n",
        "    except TypeError:\n",
        "        return np.quantile(a, q, interpolation=\"higher\")\n",
        "\n",
        "def evaluate_model(y_val, p_val, y_test, p_test,\n",
        "                   target_fpr=0.01, calibration=False, make_plots=True, title_prefix=\"\"):\n",
        "    \"\"\"\n",
        "    Eval with:\n",
        "      - ranking metrics (val + test)\n",
        "      - optional isotonic calibration fit on val\n",
        "      - pick threshold on val to target FPR (negative-quantile rule)\n",
        "      - test confusion + report\n",
        "      - recall@target FPR and precision@that FPR (test, read from ROC/PR curves; no retuning)\n",
        "      - plots: ROC (with 1% point), PR (with 1% point mapped), score histograms, confusion\n",
        "    \"\"\"\n",
        "\n",
        "    y_val  = np.asarray(y_val).astype(int)\n",
        "    y_test = np.asarray(y_test).astype(int)\n",
        "    p_val  = np.asarray(p_val).astype(float)\n",
        "    p_test = np.asarray(p_test).astype(float)\n",
        "    assert set(np.unique(y_val)).issubset({0,1})\n",
        "    assert set(np.unique(y_test)).issubset({0,1})\n",
        "\n",
        "    print(\"=== Ranking metrics — Validation Set\")\n",
        "    print(\"VAL ROC-AUC:\", roc_auc_score(y_val, p_val))\n",
        "    print(\"VAL PR-AUC:\",  average_precision_score(y_val, p_val))\n",
        "\n",
        "    # calibration\n",
        "    if calibration:\n",
        "        iso = IsotonicRegression(out_of_bounds='clip')\n",
        "        iso.fit(p_val, y_val)\n",
        "        p_val_cal  = iso.transform(p_val)\n",
        "        p_test_cal = iso.transform(p_test)\n",
        "    else:\n",
        "        iso = None\n",
        "        p_val_cal  = p_val\n",
        "        p_test_cal = p_test\n",
        "\n",
        "    # threshold on validation for target FPR (negative-quantile over negatives)\n",
        "    neg_val = p_val_cal[y_val == 0]\n",
        "    thr_star = float(_q_hi(neg_val, 1 - target_fpr))\n",
        "    fpr_v = (neg_val >= thr_star).mean()\n",
        "    rec_v = (p_val_cal[y_val == 1] >= thr_star).mean()\n",
        "    print(f\"\\nVAL quantile threshold @{target_fpr*100:.2f}% FPR -> thr={thr_star:.6f}  FPR={fpr_v:.4f}  Recall={rec_v:.4f}\")\n",
        "\n",
        "    # apply to test\n",
        "    y_hat = (p_test_cal >= thr_star).astype(int)\n",
        "    tn, fp, fn, tp = confusion_matrix(y_test, y_hat).ravel()\n",
        "    test_fpr    = fp / (fp + tn) if (fp + tn) else 0.0\n",
        "    test_recall = tp / (tp + fn) if (tp + fn) else 0.0\n",
        "    test_prec   = precision_score(y_test, y_hat, zero_division=0)\n",
        "\n",
        "    print(f\"\\nTEST using thr={thr_star:.6f} -> FPR={test_fpr:.4f}  Recall={test_recall:.4f}  Precision={test_prec:.4f}\")\n",
        "    print(\"\\nConfusion @thr*:\\n\", np.array([[tn, fp],[fn, tp]]))\n",
        "    print(\"\\nClassification Report @thr*:\\n\", classification_report(y_test, y_hat, digits=4, zero_division=0))\n",
        "\n",
        "    # test ranking (calibrated scale if used)\n",
        "    roc_auc = roc_auc_score(y_test, p_test_cal)\n",
        "    pr_auc  = average_precision_score(y_test, p_test_cal)\n",
        "    print(\"\\nTEST ranking metrics (calibrated if used):\")\n",
        "    print(\"TEST ROC-AUC:\", roc_auc)\n",
        "    print(\"TEST PR-AUC:\",  pr_auc)\n",
        "\n",
        "    # F1-max threshold (correct indexing)\n",
        "    prec_arr, rec_arr, thr_arr = precision_recall_curve(y_test, p_test_cal)\n",
        "    f1 = 2 * prec_arr * rec_arr / (prec_arr + rec_arr + 1e-12)\n",
        "    i = np.nanargmax(f1[1:]) + 1\n",
        "    thr_f1 = float(thr_arr[i-1])\n",
        "    y_hat_f1 = (p_test_cal >= thr_f1).astype(int)\n",
        "    print(f\"\\nF1-max threshold: {thr_f1:.6f}\")\n",
        "    print(\"Report @F1:\\n\", classification_report(y_test, y_hat_f1, digits=4, zero_division=0))\n",
        "\n",
        "    # --- recall @ 1% FPR (read-only on TEST) ---\n",
        "    # Use ROC on test to find first FPR >= target; stepwise so it's approx\n",
        "    fpr_t, tpr_t, thr_t = roc_curve(y_test, p_test_cal)\n",
        "    j = (fpr_t >= target_fpr).argmax() if (fpr_t >= target_fpr).any() else len(fpr_t)-1\n",
        "    recall_at_fpr = float(tpr_t[j])\n",
        "    thr_at_fpr    = float(thr_t[j])\n",
        "    fpr_at_fpr    = float(fpr_t[j])\n",
        "    # precision at that same threshold:\n",
        "    y_hat_at_fpr = (p_test_cal >= thr_at_fpr).astype(int)\n",
        "    precision_at_fpr = precision_score(y_test, y_hat_at_fpr, zero_division=0)\n",
        "    print(f\"\\nTEST recall@~{target_fpr*100:.2f}%FPR: {recall_at_fpr:.4f}  precision@thatFPR: {precision_at_fpr:.4f}  (thr~{thr_at_fpr:.6f}, FPR={fpr_at_fpr:.4f})\")\n",
        "\n",
        "    print(\"Recall @ 1% FPR:\", metrics[\"recall_at_target_fpr_test\"])\n",
        "    print(\"Precision @ 1% FPR:\", metrics[\"precision_at_target_fpr_test\"])\n",
        "\n",
        "    if make_plots:\n",
        "        # 1) ROC curve with the ~1% FPR operating point\n",
        "        plt.figure()\n",
        "        plt.plot(fpr_t, tpr_t, label=\"ROC\")\n",
        "        plt.scatter([fpr_at_fpr], [recall_at_fpr], marker='o', label=f\"~{target_fpr*100:.1f}% FPR point\")\n",
        "        plt.plot([0,1],[0,1], linestyle='--')\n",
        "        plt.xlabel(\"False Positive Rate\")\n",
        "        plt.ylabel(\"True Positive Rate (Recall)\")\n",
        "        plt.title(f\"{title_prefix}ROC (AUC={roc_auc:.3f})\")\n",
        "        plt.legend()\n",
        "        plt.show()\n",
        "\n",
        "        # 2) PR curve with F1-max and ~1% FPR point mapped\n",
        "        plt.figure()\n",
        "        plt.plot(rec_arr, prec_arr, label=\"PR\")\n",
        "        # mark F1-max\n",
        "        plt.scatter([rec_arr[i]], [prec_arr[i]], marker='x', label=\"F1-max\")\n",
        "        # mark ~1% FPR threshold point mapped onto PR\n",
        "        prec_at_fpr = precision_at_fpr\n",
        "        rec_at_fpr  = recall_at_fpr\n",
        "        plt.scatter([rec_at_fpr], [prec_at_fpr], marker='o', label=f\"~{target_fpr*100:.1f}% FPR point\")\n",
        "        plt.xlabel(\"Recall\")\n",
        "        plt.ylabel(\"Precision\")\n",
        "        plt.title(f\"{title_prefix}PR (AP={pr_auc:.3f})\")\n",
        "        plt.legend()\n",
        "        plt.show()\n",
        "\n",
        "        # 3) Score histograms (test), split by class\n",
        "        plt.figure()\n",
        "        plt.hist(p_test_cal[y_test==0], bins=50, alpha=0.6, label=\"benign\", density=True)\n",
        "        plt.hist(p_test_cal[y_test==1], bins=50, alpha=0.6, label=\"attack\", density=True)\n",
        "        plt.axvline(thr_star, linestyle='--', label=\"val thr*\")\n",
        "        plt.axvline(thr_at_fpr, linestyle=':', label=f\"~{target_fpr*100:.1f}% FPR thr (test)\")\n",
        "        plt.xlabel(\"Score\")\n",
        "        plt.ylabel(\"Density\")\n",
        "        plt.title(f\"{title_prefix}Score distributions (test)\")\n",
        "        plt.legend()\n",
        "        plt.show()\n",
        "\n",
        "        # 4) Confusion matrix heatmap @ thr*\n",
        "        plt.figure(figsize=(4, 4))\n",
        "        cm = np.array([[tn, fp], [fn, tp]])\n",
        "        cm_norm = cm.astype(\"float\") / cm.sum(axis=1, keepdims=True)  # normalized version\n",
        "\n",
        "        # Heatmap (simple matplotlib)\n",
        "        plt.imshow(cm_norm, cmap=\"Blues\")\n",
        "        plt.colorbar(label=\"Proportion\")\n",
        "\n",
        "        # Annotate counts + percentages\n",
        "        labels = [[f\"{cm[r, c]}\\n({cm_norm[r, c]*100:.1f}%)\" for c in range(2)] for r in range(2)]\n",
        "        for r in range(2):\n",
        "            for c in range(2):\n",
        "                plt.text(c, r, labels[r][c],\n",
        "                        ha=\"center\", va=\"center\",\n",
        "                        color=\"white\" if cm_norm[r, c] > 0.5 else \"black\",\n",
        "                        fontsize=11, fontweight=\"bold\")\n",
        "\n",
        "        plt.xticks([0, 1], [\"Pred 0\", \"Pred 1\"])\n",
        "        plt.yticks([0, 1], [\"True 0\", \"True 1\"])\n",
        "        plt.xlabel(\"Predicted Label\")\n",
        "        plt.ylabel(\"True Label\")\n",
        "        plt.title(f\"{title_prefix}Confusion Matrix (thr={thr_star:.3f})\")\n",
        "        plt.tight_layout()\n",
        "        plt.show()\n",
        "\n",
        "\n",
        "    return {\n",
        "        \"threshold_val_quantile\": thr_star,\n",
        "        \"test_fpr_at_thr\": test_fpr,\n",
        "        \"test_recall_at_thr\": test_recall,\n",
        "        \"test_precision_at_thr\": test_prec,\n",
        "        \"roc_auc_test\": roc_auc,\n",
        "        \"pr_auc_test\": pr_auc,\n",
        "        \"thr_f1_test\": thr_f1,\n",
        "        \"recall_at_target_fpr_test\": recall_at_fpr,\n",
        "        \"precision_at_target_fpr_test\": precision_at_fpr,\n",
        "        \"thr_at_target_fpr_test\": thr_at_fpr,\n",
        "        \"fpr_at_target_fpr_test\": fpr_at_fpr\n",
        "    }\n",
        "\n",
        "# Example:\n",
        "metrics = evaluate_model(y_val, p_val, y_test, p_test,\n",
        "                         target_fpr=0.01, calibration=False, make_plots=True, title_prefix=\"XGB \")"
      ],
      "metadata": {
        "colab": {
          "base_uri": "https://localhost:8080/",
          "height": 1000
        },
        "id": "0mJYwwX2iZ4d",
        "outputId": "8b05646e-d4a3-486a-e1d6-e08c5afd11db"
      },
      "execution_count": 457,
      "outputs": [
        {
          "output_type": "stream",
          "name": "stdout",
          "text": [
            "=== Ranking metrics — Validation Set\n",
            "VAL ROC-AUC: 0.9743727921493119\n",
            "VAL PR-AUC: 0.9246529699545971\n",
            "\n",
            "VAL quantile threshold @1.00% FPR -> thr=0.002212  FPR=0.0139  Recall=0.5663\n",
            "\n",
            "TEST using thr=0.002212 -> FPR=0.8443  Recall=1.0000  Precision=0.5101\n",
            "\n",
            "Confusion @thr*:\n",
            " [[ 305 1654]\n",
            " [   0 1722]]\n",
            "\n",
            "Classification Report @thr*:\n",
            "               precision    recall  f1-score   support\n",
            "\n",
            "           0     1.0000    0.1557    0.2694      1959\n",
            "           1     0.5101    1.0000    0.6756      1722\n",
            "\n",
            "    accuracy                         0.5507      3681\n",
            "   macro avg     0.7550    0.5778    0.4725      3681\n",
            "weighted avg     0.7708    0.5507    0.4594      3681\n",
            "\n",
            "\n",
            "TEST ranking metrics (calibrated if used):\n",
            "TEST ROC-AUC: 0.9586523736600306\n",
            "TEST PR-AUC: 0.9550748752079867\n",
            "\n",
            "F1-max threshold: 0.048304\n",
            "Report @F1:\n",
            "               precision    recall  f1-score   support\n",
            "\n",
            "           0     1.0000    0.9040    0.9496      1959\n",
            "           1     0.9016    1.0000    0.9482      1722\n",
            "\n",
            "    accuracy                         0.9489      3681\n",
            "   macro avg     0.9508    0.9520    0.9489      3681\n",
            "weighted avg     0.9540    0.9489    0.9490      3681\n",
            "\n",
            "\n",
            "TEST recall@~1.00%FPR: 0.0000  precision@thatFPR: 0.0000  (thr~0.142649, FPR=0.0245)\n",
            "Recall @ 1% FPR: 0.0\n",
            "Precision @ 1% FPR: 0.0\n"
          ]
        },
        {
          "output_type": "display_data",
          "data": {
            "text/plain": [
              "<Figure size 640x480 with 1 Axes>"
            ],
            "image/png": "[encoded data removed]"
          },
          "metadata": {}
        },
        {
          "output_type": "display_data",
          "data": {
            "text/plain": [
              "<Figure size 640x480 with 1 Axes>"
            ],
            "image/png": "[encoded data removed]"
          },
          "metadata": {}
        },
        {
          "output_type": "display_data",
          "data": {
            "text/plain": [
              "<Figure size 640x480 with 1 Axes>"
            ],
            "image/png": "[encoded data removed]"
          },
          "metadata": {}
        },
        {
          "output_type": "display_data",
          "data": {
            "text/plain": [
              "<Figure size 400x400 with 2 Axes>"
            ],
            "image/png": "[encoded data removed]"
          },
          "metadata": {}
        }
      ]
    },
    {
      "cell_type": "code",
      "source": [
        "from sklearn.linear_model import LogisticRegression\n",
        "lr = LogisticRegression(max_iter=1000)\n",
        "lr.fit(p_val.reshape(-1,1), y_val)\n",
        "p_test_cal = lr.predict_proba(p_test.reshape(-1,1))[:,1]\n",
        "print(\"ROC raw/cal:\", roc_auc_score(y_test, p_test), roc_auc_score(y_test, p_test_cal))"
      ],
      "metadata": {
        "colab": {
          "base_uri": "https://localhost:8080/"
        },
        "id": "x8l5esnZjd2L",
        "outputId": "ed3fb7bd-bf69-4df9-9557-f9137e7bd61a"
      },
      "execution_count": 451,
      "outputs": [
        {
          "output_type": "stream",
          "name": "stdout",
          "text": [
            "ROC raw/cal: 0.9586523736600306 0.9586523736600306\n"
          ]
        }
      ]
    },
    {
      "cell_type": "markdown",
      "source": [
        "# Ngrok\n"
      ],
      "metadata": {
        "id": "XJU72gzVLXus"
      }
    },
    {
      "cell_type": "markdown",
      "source": [
        "# Notes\n",
        "what is auc\n",
        "Learn all the metrics\n",
        "learn very column over here"
      ],
      "metadata": {
        "id": "IpnVy0Cqez5T"
      }
    }
  ]
}