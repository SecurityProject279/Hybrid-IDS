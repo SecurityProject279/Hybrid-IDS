{
  "nbformat": 4,
  "nbformat_minor": 0,
  "metadata": {
    "colab": {
      "provenance": [],
      "collapsed_sections": [
        "tCGf1IlfBlkF",
        "GKQkx3CINTNl",
        "nDl-8AXcBeum",
        "mGFqRWQBBWAj"
      ],
      "toc_visible": true,
      "machine_shape": "hm",
      "gpuType": "T4"
    },
    "kernelspec": {
      "name": "python3",
      "display_name": "Python 3"
    },
    "language_info": {
      "name": "python"
    },
    "accelerator": "GPU"
  },
  "cells": [
    {
      "cell_type": "markdown",
      "source": [
        "## Imports\n"
      ],
      "metadata": {
        "id": "LkT70mD1BifR"
      }
    },
    {
      "cell_type": "code",
      "source": [
        "from google.colab import drive\n",
        "# Mount Drive (idempotent in Colab)\n",
        "# Request authorization to mount Google Drive\n",
        "drive.mount(\"/content/drive\", force_remount=True)"
      ],
      "metadata": {
        "colab": {
          "base_uri": "https://localhost:8080/"
        },
        "id": "_IeZ9qzRBooO",
        "outputId": "eccf6db4-ff16-4409-dc68-cbce0bb01f57"
      },
      "execution_count": 1,
      "outputs": [
        {
          "output_type": "stream",
          "name": "stdout",
          "text": [
            "Mounted at /content/drive\n"
          ]
        }
      ]
    },
    {
      "cell_type": "code",
      "metadata": {
        "id": "4c3c62d4"
      },
      "source": [
        "# === Hybrid IDS: Step 1 (Load + Label + Prep) ===\n",
        "# Works with plain CSVs and .csv.zip files in Google Drive (Colab)\n",
        "\n",
        "# Import necessary libraries\n",
        "from pathlib import Path\n",
        "import pandas as pd\n",
        "import numpy as np\n",
        "\n",
        "from sklearn.metrics import precision_recall_curve, classification_report, confusion_matrix, roc_auc_score, average_precision_score\n",
        "\n",
        "from sklearn.model_selection import StratifiedShuffleSplit\n",
        "import zipfile\n",
        "from typing import List, Tuple\n",
        "from sklearn.model_selection import train_test_split\n",
        "import os\n",
        "import matplotlib.pyplot as plt\n",
        "from sklearn.model_selection import GroupShuffleSplit\n",
        "\n",
        "# ------------------------ USER SETTINGS ------------------------\n",
        "# Point this to your folder with the dataset files you listed\n",
        "BASE_DIR = \"/content/drive/Shareddrives/CMPE279/CMPE279-IDSandAttackMitigation\"  # change if needed\n",
        "\n",
        "# Accept both .csv and .csv.zip. You can also target a subfolder like \".../CMPE279-IDSandAttackMitigation/*.csv*\"\n",
        "DATA_GLOB = str(Path(BASE_DIR) / \"*.csv\")\n",
        "\n",
        "# If you want to quickly test, limit rows per file (None = read all)\n",
        "MAX_ROWS_PER_FILE: int | None = None\n",
        "# ---------------------------------------------------------------\n",
        "\n",
        "\n",
        "# ------------------------ LABEL/FEATURE CONFIG -----------------\n",
        "ATTACK_KEYWORDS = [\n",
        "    \"DoS\", \"DDoS\", \"Hulk\", \"GoldenEye\", \"Slowloris\", \"HOIC\", \"LOIC\", \"LOIC-UDP\"\n",
        "]\n",
        "LABEL_COL = \"Label\"\n",
        "\n",
        "CANDIDATE_FEATURES = [\n",
        "    \"Flow Duration\",\"Tot Fwd Pkts\",\"Tot Bwd Pkts\",\"TotLen Fwd Pkts\",\"TotLen Bwd Pkts\",\n",
        "    \"Fwd Pkt Len Mean\",\"Bwd Pkt Len Mean\",\"Fwd Pkt Len Std\",\"Bwd Pkt Len Std\",\n",
        "    \"Flow Byts/s\",\"Flow Pkts/s\",\"Fwd IAT Mean\",\"Bwd IAT Mean\",\"Flow IAT Mean\",\n",
        "    \"Fwd IAT Std\",\"Bwd IAT Std\",\"Pkt Len Mean\",\"Pkt Len Std\",\"Pkt Len Var\",\n",
        "    \"Fwd Header Len\",\"Bwd Header Len\",\"Down/Up Ratio\",\"Bwd Pkts/b Avg\",\"Fwd Pkts/b Avg\",\n",
        "    \"Bwd Seg Size Avg\",\"Fwd Seg Size Avg\",\"Subflow Fwd Pkts\",\"Subflow Bwd Pkts\",\n",
        "  \"Subflow Fwd Byts\",\"Subflow Bwd Byts\",\n",
        "    \"Fwd Act Data Pkts\",\"Idle Mean\",\"Idle Std\",\"Idle Max\",\"Idle Min\",\"Protocol\",\"Dst Port\"\n",
        "]\n",
        "\n",
        "\n",
        "LEAKY = [\"Label\",\"Timestamp\",\"__source_file\",\"Flow ID\",\"Src IP\",\"Dst IP\",\"Src Port\",\"y\"]\n",
        "RISKY = [\"Dst Port\",\"Protocol\"]\n",
        "RATE  = [\"Flow Byts/s\",\"Flow Pkts/s\"]\n",
        "\n",
        "\n",
        "OPTIONAL_FEATURES = [\"SYN Flag Cnt\",\"ACK Flag Cnt\",\"PSH Flag Cnt\",\"RST Flag Cnt\",\"URG Flag Cnt\"]\n",
        "\n",
        "NON_FEATURE_COLS = {\n",
        "    \"Flow ID\",\"Src IP\",\"Dst IP\",\"Src Port\",\"Timestamp\",\"TimeStamp\",\"Source IP\",\"Destination IP\",\"Source Port\"\n",
        "}\n",
        "# ---------------------------------------------------------------"
      ],
      "execution_count": 88,
      "outputs": []
    },
    {
      "cell_type": "code",
      "source": [
        "import joblib\n",
        "import os\n",
        "\n",
        "# Define a fixed base directory for saving/loading models\n",
        "MODEL_BASE_DIR = os.path.join(BASE_DIR, \"saved_models\")\n",
        "\n",
        "def save_model(model, model_name):\n",
        "    \"\"\"Saves a trained model to a file using joblib with a fixed base path and extension.\"\"\"\n",
        "    os.makedirs(MODEL_BASE_DIR, exist_ok=True)\n",
        "    filepath = os.path.join(MODEL_BASE_DIR, f\"{model_name}.joblib\")\n",
        "    joblib.dump(model, filepath)\n",
        "    print(f\"Model '{model_name}' saved successfully to: {filepath}\")\n",
        "\n",
        "def load_model(model_name):\n",
        "    \"\"\"Loads a trained model from a file using joblib with a fixed base path and extension.\"\"\"\n",
        "    filepath = os.path.join(MODEL_BASE_DIR, f\"{model_name}.joblib\")\n",
        "    if not os.path.exists(filepath):\n",
        "        print(f\"Error: Model file '{model_name}.joblib' not found at {filepath}\")\n",
        "        return None\n",
        "    loaded_model = joblib.load(filepath)\n",
        "    print(f\"Model '{model_name}' loaded successfully from: {filepath}\")\n",
        "    return loaded_model"
      ],
      "metadata": {
        "id": "x2Dbk7U9GNgZ"
      },
      "execution_count": 154,
      "outputs": []
    },
    {
      "cell_type": "markdown",
      "source": [
        "## Load Data"
      ],
      "metadata": {
        "id": "tCGf1IlfBlkF"
      }
    },
    {
      "cell_type": "code",
      "metadata": {
        "id": "0X0gf678d1Zo"
      },
      "source": [
        "# Function definitions\n",
        "def reduce_mem_usage(props):\n",
        "    start_mem_usg = props.memory_usage().sum() / 1024**2\n",
        "    print(\"Memory usage of properties dataframe is :\",start_mem_usg,\" MB\")\n",
        "    NAlist = []\n",
        "    for col in props.columns:\n",
        "        if props[col].dtype != object:\n",
        "\n",
        "            props[col] = props[col].replace([np.inf, -np.inf], np.nan)\n",
        "\n",
        "\n",
        "            IsInt = False\n",
        "            mx = props[col].max()\n",
        "            mn = props[col].min()\n",
        "\n",
        "            if not np.isfinite(props[col]).all():\n",
        "                NAlist.append(col)\n",
        "                props[col].fillna(mn-1,inplace=True)\n",
        "\n",
        "            asint = props[col].fillna(0).astype(np.int64)\n",
        "            result = (props[col] - asint)\n",
        "            result = result.sum()\n",
        "            if result > -0.01 and result < 0.01:\n",
        "                IsInt = True\n",
        "\n",
        "            if IsInt:\n",
        "                if mn >= 0:\n",
        "                    if mx < 255:\n",
        "                        props[col] = props[col].astype(np.uint8)\n",
        "                    elif mx < 65535:\n",
        "                        props[col] = props[col].astype(np.uint16)\n",
        "                    elif mx < 4294967295:\n",
        "                        props[col] = props[col].astype(np.uint32)\n",
        "                    else:\n",
        "                        props[col] = props[col].astype(np.uint64)\n",
        "                else:\n",
        "                    if mn > np.iinfo(np.int8).min and mx < np.iinfo(np.int8).max:\n",
        "                        props[col] = props[col].astype(np.int8)\n",
        "                    elif mn > np.iinfo(np.int16).min and mx < np.iinfo(np.int16).max:\n",
        "                        props[col] = props[col].astype(np.int16)\n",
        "                    elif mn > np.iinfo(np.int32).min and mx < np.iinfo(np.int32).max:\n",
        "                        props[col] = props[col].astype(np.int32)\n",
        "                    elif mn > np.iinfo(np.int64).min and mx < np.iinfo(np.int64).max:\n",
        "                        props[col] = props[col].astype(np.int64)\n",
        "\n",
        "            else:\n",
        "                props[col] = pd.to_numeric(props[col], errors=\"coerce\")\n",
        "\n",
        "\n",
        "    # df = reduce_mem_usage(df_raw)\n",
        "    print(\"___MEMORY USAGE AFTER COMPLETION:___\")\n",
        "    mem_usg = props.memory_usage().sum() / 1024**2\n",
        "    print(\"Memory usage is: \",mem_usg,\" MB\")\n",
        "    print(\"This is \",100*mem_usg/start_mem_usg,\"% of the initial size\")\n",
        "    print(props.info())\n",
        "    return props, NAlist\n",
        "\n",
        "\n",
        "def _read_csv(fpath: Path, max_rows: int | None) -> pd.DataFrame:\n",
        "    \"\"\"Read either .csv or .csv.zip into a DataFrame.\"\"\"\n",
        "    if str(fpath).endswith(\".zip\"):\n",
        "        with zipfile.ZipFile(fpath, \"r\") as z:\n",
        "            # pick the first .csv inside the zip\n",
        "            inner_csvs = [n for n in z.namelist() if n.lower().endswith(\".csv\")]\n",
        "            if not inner_csvs:\n",
        "                raise ValueError(f\"No CSV found inside {fpath.name}\")\n",
        "            inner = inner_csvs[0]\n",
        "            with z.open(inner) as fh:\n",
        "                return pd.read_csv(fh, low_memory=False, nrows=max_rows)\n",
        "    else:\n",
        "        return pd.read_csv(fpath, low_memory=False, nrows=max_rows)\n",
        "\n",
        "def load_cic_csvs(glob_pattern: str = DATA_GLOB,\n",
        "                  max_rows_per_file: int | None = MAX_ROWS_PER_FILE, max_files=100) -> pd.DataFrame:\n",
        "    files = sorted(Path(glob_pattern).parent.glob(Path(glob_pattern).name))\n",
        "    if not files:\n",
        "        raise FileNotFoundError(f\"No files matched pattern: {glob_pattern}\")\n",
        "\n",
        "    dfs: List[pd.DataFrame] = []\n",
        "    total_rows = 0\n",
        "    print(f\"Found {len(files[:max_files])} files. Loading...\")\n",
        "    for f in files[:max_files]:\n",
        "        try:\n",
        "            df = _read_csv(f, max_rows_per_file)\n",
        "            df, _ = reduce_mem_usage(df)\n",
        "            print(df.shape, _)\n",
        "            df[\"__source_file\"] = f.name\n",
        "            dfs.append(df)\n",
        "            total_rows += len(df)\n",
        "            print(f\"  • {f.name:40s} rows={len(df)}\")\n",
        "        except Exception as e:\n",
        "            print(f\"  ! Skipping {f.name} due to error: {e}\")\n",
        "\n",
        "    if not dfs:\n",
        "        raise RuntimeError(\"No data could be loaded (all files failed).\")\n",
        "    out = pd.concat(dfs, ignore_index=True)\n",
        "    print(f\" Total rows loaded: {len(out)} from {len(dfs)} file(s)\")\n",
        "    return out\n",
        "\n",
        "\n",
        "\n",
        "def label_binary(df: pd.DataFrame) -> pd.DataFrame:\n",
        "    if LABEL_COL not in df.columns:\n",
        "        # Some CIC exports use \"Label\" exactly; if not found, try case-insensitive match\n",
        "        matches = [c for c in df.columns if c.lower() == \"label\"]\n",
        "        if matches:\n",
        "            df = df.rename(columns={matches[0]: LABEL_COL})\n",
        "        else:\n",
        "            raise KeyError(f\"Column '{LABEL_COL}' not found in dataframe columns: {df.columns[:10].tolist()}...\")\n",
        "\n",
        "    labels = df[LABEL_COL].astype(str)\n",
        "    is_attack = np.zeros(len(df), dtype=bool)\n",
        "    for kw in ATTACK_KEYWORDS:\n",
        "        is_attack |= labels.str.contains(kw, case=False, na=False)\n",
        "\n",
        "    is_benign = labels.str.contains(\"BENIGN\", case=False, na=False)\n",
        "    keep = is_benign | is_attack\n",
        "\n",
        "    df = df.loc[keep].copy()\n",
        "    df[\"y\"] = (is_attack & ~is_benign).astype(int)  # 1=attack, 0=benign\n",
        "    return df\n"
      ],
      "execution_count": 199,
      "outputs": []
    },
    {
      "cell_type": "code",
      "source": [],
      "metadata": {
        "id": "yVFr92NuqolW"
      },
      "execution_count": 179,
      "outputs": []
    },
    {
      "cell_type": "code",
      "metadata": {
        "colab": {
          "base_uri": "https://localhost:8080/",
          "height": 1000
        },
        "id": "b1d67fcc",
        "outputId": "abb7f9b9-4804-4adc-8f99-21e64116813b",
        "collapsed": true
      },
      "source": [
        "# 1) Quick visibility: list files in base dir (pythonic; avoids shell `!ls`)\n",
        "print(\"Files in BASE_DIR:\")\n",
        "# List files only after successful drive mount\n",
        "if os.path.exists(BASE_DIR):\n",
        "    for name in sorted(os.listdir(BASE_DIR))[:50]:\n",
        "        print(\"  \", name)\n",
        "else:\n",
        "    print(f\"  ! {BASE_DIR} not found. Please ensure Google Drive is mounted and the path is correct.\")\n",
        "\n",
        "# 2) Load data (adjust DATA_GLOB above if your files are in a subfolder)\n",
        "# Only attempt to load data if the base directory exists\n",
        "if os.path.exists(BASE_DIR):\n",
        "    df_raw = load_cic_csvs(DATA_GLOB, MAX_ROWS_PER_FILE, 3)\n",
        "\n",
        "    # 3) Basic peek\n",
        "    print(\"\\nColumns (first 20):\", df_raw.columns[:20].tolist())\n",
        "    print(\"Example rows:\")\n",
        "    display(df_raw.head(3))\n",
        "else:\n",
        "    print(\"\\nSkipping data loading and processing as BASE_DIR was not found.\")"
      ],
      "execution_count": 183,
      "outputs": [
        {
          "output_type": "stream",
          "name": "stdout",
          "text": [
            "Files in BASE_DIR:\n",
            "    IDS-HybridMode-Interim.ipynb\n",
            "   .ipynb_checkpoints\n",
            "   02-15-2018.csv\n",
            "   02-15-2018.csv.zip\n",
            "   02-16-2018.csv\n",
            "   02-16-2018.csv.zip\n",
            "   02-21-2018.csv\n",
            "   02-21-2018.csv.zip\n",
            "   GeneratedLabelledFlows.zip\n",
            "   IDS- CMPE279CourseProject.docx\n",
            "   IDS.ipynb\n",
            "   Untitled0.ipynb\n",
            "   saved_models\n",
            "Found 3 files. Loading...\n",
            "Memory usage of properties dataframe is : 639.9995155334473  MB\n"
          ]
        },
        {
          "output_type": "stream",
          "name": "stderr",
          "text": [
            "/tmp/ipython-input-3519068148.py:18: FutureWarning: A value is trying to be set on a copy of a DataFrame or Series through chained assignment using an inplace method.\n",
            "The behavior will change in pandas 3.0. This inplace method will never work because the intermediate object on which we are setting values always behaves as a copy.\n",
            "\n",
            "For example, when doing 'df[col].method(value, inplace=True)', try using 'df.method({col: value}, inplace=True)' or df[col] = df[col].method(value) instead, to perform the operation inplace on the original object.\n",
            "\n",
            "\n",
            "  props[col].fillna(mn-1,inplace=True)\n",
            "/tmp/ipython-input-3519068148.py:18: FutureWarning: A value is trying to be set on a copy of a DataFrame or Series through chained assignment using an inplace method.\n",
            "The behavior will change in pandas 3.0. This inplace method will never work because the intermediate object on which we are setting values always behaves as a copy.\n",
            "\n",
            "For example, when doing 'df[col].method(value, inplace=True)', try using 'df.method({col: value}, inplace=True)' or df[col] = df[col].method(value) instead, to perform the operation inplace on the original object.\n",
            "\n",
            "\n",
            "  props[col].fillna(mn-1,inplace=True)\n"
          ]
        },
        {
          "output_type": "stream",
          "name": "stdout",
          "text": [
            "___MEMORY USAGE AFTER COMPLETION:___\n",
            "Memory usage is:  240.9998960494995  MB\n",
            "This is  37.65626226273362 % of the initial size\n",
            "(1048575, 80) ['Flow Byts/s', 'Flow Pkts/s']\n",
            "  • 02-15-2018.csv                           rows=1048575\n",
            "Memory usage of properties dataframe is : 639.9995155334473  MB\n",
            "___MEMORY USAGE AFTER COMPLETION:___\n",
            "Memory usage is:  639.9995155334473  MB\n",
            "This is  100.0 % of the initial size\n",
            "(1048575, 80) []\n",
            "  • 02-16-2018.csv                           rows=1048575\n",
            "Memory usage of properties dataframe is : 639.9995155334473  MB\n",
            "___MEMORY USAGE AFTER COMPLETION:___\n",
            "Memory usage is:  238.99989795684814  MB\n",
            "This is  37.34376232420096 % of the initial size\n",
            "(1048575, 80) []\n",
            "  • 02-21-2018.csv                           rows=1048575\n",
            " Total rows loaded: 3145725 from 3 file(s)\n",
            "\n",
            "Columns (first 20): ['Dst Port', 'Protocol', 'Timestamp', 'Flow Duration', 'Tot Fwd Pkts', 'Tot Bwd Pkts', 'TotLen Fwd Pkts', 'TotLen Bwd Pkts', 'Fwd Pkt Len Max', 'Fwd Pkt Len Min', 'Fwd Pkt Len Mean', 'Fwd Pkt Len Std', 'Bwd Pkt Len Max', 'Bwd Pkt Len Min', 'Bwd Pkt Len Mean', 'Bwd Pkt Len Std', 'Flow Byts/s', 'Flow Pkts/s', 'Flow IAT Mean', 'Flow IAT Std']\n",
            "Example rows:\n"
          ]
        },
        {
          "output_type": "display_data",
          "data": {
            "text/plain": [
              "  Dst Port Protocol            Timestamp Flow Duration Tot Fwd Pkts  \\\n",
              "0        0        0  15/02/2018 08:25:18     112641158            3   \n",
              "1       22        6  15/02/2018 08:29:05      37366762           14   \n",
              "2    47514        6  15/02/2018 08:29:42           543            2   \n",
              "\n",
              "  Tot Bwd Pkts TotLen Fwd Pkts TotLen Bwd Pkts Fwd Pkt Len Max  \\\n",
              "0            0               0               0               0   \n",
              "1           12            2168            2993             712   \n",
              "2            0              64               0              64   \n",
              "\n",
              "  Fwd Pkt Len Min  ... Active Mean Active Std Active Max Active Min  \\\n",
              "0               0  ...         0.0        0.0          0          0   \n",
              "1               0  ...   1024353.0  649038.75    1601183     321569   \n",
              "2               0  ...         0.0        0.0          0          0   \n",
              "\n",
              "    Idle Mean    Idle Std  Idle Max  Idle Min   Label   __source_file  \n",
              "0  56320580.0  704.278381  56321077  56320081  Benign  02-15-2018.csv  \n",
              "1  11431221.0   3644990.5  15617415   8960247  Benign  02-15-2018.csv  \n",
              "2         0.0         0.0         0         0  Benign  02-15-2018.csv  \n",
              "\n",
              "[3 rows x 81 columns]"
            ],
            "text/html": [
              "\n",
              "  <div id=\"df-dedf5eca-a88b-4266-8390-83dddac431bb\" class=\"colab-df-container\">\n",
              "    <div>\n",
              "<style scoped>\n",
              "    .dataframe tbody tr th:only-of-type {\n",
              "        vertical-align: middle;\n",
              "    }\n",
              "\n",
              "    .dataframe tbody tr th {\n",
              "        vertical-align: top;\n",
              "    }\n",
              "\n",
              "    .dataframe thead th {\n",
              "        text-align: right;\n",
              "    }\n",
              "</style>\n",
              "<table border=\"1\" class=\"dataframe\">\n",
              "  <thead>\n",
              "    <tr style=\"text-align: right;\">\n",
              "      <th></th>\n",
              "      <th>Dst Port</th>\n",
              "      <th>Protocol</th>\n",
              "      <th>Timestamp</th>\n",
              "      <th>Flow Duration</th>\n",
              "      <th>Tot Fwd Pkts</th>\n",
              "      <th>Tot Bwd Pkts</th>\n",
              "      <th>TotLen Fwd Pkts</th>\n",
              "      <th>TotLen Bwd Pkts</th>\n",
              "      <th>Fwd Pkt Len Max</th>\n",
              "      <th>Fwd Pkt Len Min</th>\n",
              "      <th>...</th>\n",
              "      <th>Active Mean</th>\n",
              "      <th>Active Std</th>\n",
              "      <th>Active Max</th>\n",
              "      <th>Active Min</th>\n",
              "      <th>Idle Mean</th>\n",
              "      <th>Idle Std</th>\n",
              "      <th>Idle Max</th>\n",
              "      <th>Idle Min</th>\n",
              "      <th>Label</th>\n",
              "      <th>__source_file</th>\n",
              "    </tr>\n",
              "  </thead>\n",
              "  <tbody>\n",
              "    <tr>\n",
              "      <th>0</th>\n",
              "      <td>0</td>\n",
              "      <td>0</td>\n",
              "      <td>15/02/2018 08:25:18</td>\n",
              "      <td>112641158</td>\n",
              "      <td>3</td>\n",
              "      <td>0</td>\n",
              "      <td>0</td>\n",
              "      <td>0</td>\n",
              "      <td>0</td>\n",
              "      <td>0</td>\n",
              "      <td>...</td>\n",
              "      <td>0.0</td>\n",
              "      <td>0.0</td>\n",
              "      <td>0</td>\n",
              "      <td>0</td>\n",
              "      <td>56320580.0</td>\n",
              "      <td>704.278381</td>\n",
              "      <td>56321077</td>\n",
              "      <td>56320081</td>\n",
              "      <td>Benign</td>\n",
              "      <td>02-15-2018.csv</td>\n",
              "    </tr>\n",
              "    <tr>\n",
              "      <th>1</th>\n",
              "      <td>22</td>\n",
              "      <td>6</td>\n",
              "      <td>15/02/2018 08:29:05</td>\n",
              "      <td>37366762</td>\n",
              "      <td>14</td>\n",
              "      <td>12</td>\n",
              "      <td>2168</td>\n",
              "      <td>2993</td>\n",
              "      <td>712</td>\n",
              "      <td>0</td>\n",
              "      <td>...</td>\n",
              "      <td>1024353.0</td>\n",
              "      <td>649038.75</td>\n",
              "      <td>1601183</td>\n",
              "      <td>321569</td>\n",
              "      <td>11431221.0</td>\n",
              "      <td>3644990.5</td>\n",
              "      <td>15617415</td>\n",
              "      <td>8960247</td>\n",
              "      <td>Benign</td>\n",
              "      <td>02-15-2018.csv</td>\n",
              "    </tr>\n",
              "    <tr>\n",
              "      <th>2</th>\n",
              "      <td>47514</td>\n",
              "      <td>6</td>\n",
              "      <td>15/02/2018 08:29:42</td>\n",
              "      <td>543</td>\n",
              "      <td>2</td>\n",
              "      <td>0</td>\n",
              "      <td>64</td>\n",
              "      <td>0</td>\n",
              "      <td>64</td>\n",
              "      <td>0</td>\n",
              "      <td>...</td>\n",
              "      <td>0.0</td>\n",
              "      <td>0.0</td>\n",
              "      <td>0</td>\n",
              "      <td>0</td>\n",
              "      <td>0.0</td>\n",
              "      <td>0.0</td>\n",
              "      <td>0</td>\n",
              "      <td>0</td>\n",
              "      <td>Benign</td>\n",
              "      <td>02-15-2018.csv</td>\n",
              "    </tr>\n",
              "  </tbody>\n",
              "</table>\n",
              "<p>3 rows × 81 columns</p>\n",
              "</div>\n",
              "    <div class=\"colab-df-buttons\">\n",
              "\n",
              "  <div class=\"colab-df-container\">\n",
              "    <button class=\"colab-df-convert\" onclick=\"convertToInteractive('df-dedf5eca-a88b-4266-8390-83dddac431bb')\"\n",
              "            title=\"Convert this dataframe to an interactive table.\"\n",
              "            style=\"display:none;\">\n",
              "\n",
              "  <svg xmlns=\"http://www.w3.org/2000/svg\" height=\"24px\" viewBox=\"0 -960 960 960\">\n",
              "    <path d=\"M120-120v-720h720v720H120Zm60-500h600v-160H180v160Zm220 220h160v-160H400v160Zm0 220h160v-160H400v160ZM180-400h160v-160H180v160Zm440 0h160v-160H620v160ZM180-180h160v-160H180v160Zm440 0h160v-160H620v160Z\"/>\n",
              "  </svg>\n",
              "    </button>\n",
              "\n",
              "  <style>\n",
              "    .colab-df-container {\n",
              "      display:flex;\n",
              "      gap: 12px;\n",
              "    }\n",
              "\n",
              "    .colab-df-convert {\n",
              "      background-color: #E8F0FE;\n",
              "      border: none;\n",
              "      border-radius: 50%;\n",
              "      cursor: pointer;\n",
              "      display: none;\n",
              "      fill: #1967D2;\n",
              "      height: 32px;\n",
              "      padding: 0 0 0 0;\n",
              "      width: 32px;\n",
              "    }\n",
              "\n",
              "    .colab-df-convert:hover {\n",
              "      background-color: #E2EBFA;\n",
              "      box-shadow: 0px 1px 2px rgba(60, 64, 67, 0.3), 0px 1px 3px 1px rgba(60, 64, 67, 0.15);\n",
              "      fill: #174EA6;\n",
              "    }\n",
              "\n",
              "    .colab-df-buttons div {\n",
              "      margin-bottom: 4px;\n",
              "    }\n",
              "\n",
              "    [theme=dark] .colab-df-convert {\n",
              "      background-color: #3B4455;\n",
              "      fill: #D2E3FC;\n",
              "    }\n",
              "\n",
              "    [theme=dark] .colab-df-convert:hover {\n",
              "      background-color: #434B5C;\n",
              "      box-shadow: 0px 1px 3px 1px rgba(0, 0, 0, 0.15);\n",
              "      filter: drop-shadow(0px 1px 2px rgba(0, 0, 0, 0.3));\n",
              "      fill: #FFFFFF;\n",
              "    }\n",
              "  </style>\n",
              "\n",
              "    <script>\n",
              "      const buttonEl =\n",
              "        document.querySelector('#df-dedf5eca-a88b-4266-8390-83dddac431bb button.colab-df-convert');\n",
              "      buttonEl.style.display =\n",
              "        google.colab.kernel.accessAllowed ? 'block' : 'none';\n",
              "\n",
              "      async function convertToInteractive(key) {\n",
              "        const element = document.querySelector('#df-dedf5eca-a88b-4266-8390-83dddac431bb');\n",
              "        const dataTable =\n",
              "          await google.colab.kernel.invokeFunction('convertToInteractive',\n",
              "                                                    [key], {});\n",
              "        if (!dataTable) return;\n",
              "\n",
              "        const docLinkHtml = 'Like what you see? Visit the ' +\n",
              "          '<a target=\"_blank\" href=https://colab.research.google.com/notebooks/data_table.ipynb>data table notebook</a>'\n",
              "          + ' to learn more about interactive tables.';\n",
              "        element.innerHTML = '';\n",
              "        dataTable['output_type'] = 'display_data';\n",
              "        await google.colab.output.renderOutput(dataTable, element);\n",
              "        const docLink = document.createElement('div');\n",
              "        docLink.innerHTML = docLinkHtml;\n",
              "        element.appendChild(docLink);\n",
              "      }\n",
              "    </script>\n",
              "  </div>\n",
              "\n",
              "\n",
              "    <div id=\"df-57a9338d-7427-4f81-a30c-468e078a3fa6\">\n",
              "      <button class=\"colab-df-quickchart\" onclick=\"quickchart('df-57a9338d-7427-4f81-a30c-468e078a3fa6')\"\n",
              "                title=\"Suggest charts\"\n",
              "                style=\"display:none;\">\n",
              "\n",
              "<svg xmlns=\"http://www.w3.org/2000/svg\" height=\"24px\"viewBox=\"0 0 24 24\"\n",
              "     width=\"24px\">\n",
              "    <g>\n",
              "        <path d=\"M19 3H5c-1.1 0-2 .9-2 2v14c0 1.1.9 2 2 2h14c1.1 0 2-.9 2-2V5c0-1.1-.9-2-2-2zM9 17H7v-7h2v7zm4 0h-2V7h2v10zm4 0h-2v-4h2v4z\"/>\n",
              "    </g>\n",
              "</svg>\n",
              "      </button>\n",
              "\n",
              "<style>\n",
              "  .colab-df-quickchart {\n",
              "      --bg-color: #E8F0FE;\n",
              "      --fill-color: #1967D2;\n",
              "      --hover-bg-color: #E2EBFA;\n",
              "      --hover-fill-color: #174EA6;\n",
              "      --disabled-fill-color: #AAA;\n",
              "      --disabled-bg-color: #DDD;\n",
              "  }\n",
              "\n",
              "  [theme=dark] .colab-df-quickchart {\n",
              "      --bg-color: #3B4455;\n",
              "      --fill-color: #D2E3FC;\n",
              "      --hover-bg-color: #434B5C;\n",
              "      --hover-fill-color: #FFFFFF;\n",
              "      --disabled-bg-color: #3B4455;\n",
              "      --disabled-fill-color: #666;\n",
              "  }\n",
              "\n",
              "  .colab-df-quickchart {\n",
              "    background-color: var(--bg-color);\n",
              "    border: none;\n",
              "    border-radius: 50%;\n",
              "    cursor: pointer;\n",
              "    display: none;\n",
              "    fill: var(--fill-color);\n",
              "    height: 32px;\n",
              "    padding: 0;\n",
              "    width: 32px;\n",
              "  }\n",
              "\n",
              "  .colab-df-quickchart:hover {\n",
              "    background-color: var(--hover-bg-color);\n",
              "    box-shadow: 0 1px 2px rgba(60, 64, 67, 0.3), 0 1px 3px 1px rgba(60, 64, 67, 0.15);\n",
              "    fill: var(--button-hover-fill-color);\n",
              "  }\n",
              "\n",
              "  .colab-df-quickchart-complete:disabled,\n",
              "  .colab-df-quickchart-complete:disabled:hover {\n",
              "    background-color: var(--disabled-bg-color);\n",
              "    fill: var(--disabled-fill-color);\n",
              "    box-shadow: none;\n",
              "  }\n",
              "\n",
              "  .colab-df-spinner {\n",
              "    border: 2px solid var(--fill-color);\n",
              "    border-color: transparent;\n",
              "    border-bottom-color: var(--fill-color);\n",
              "    animation:\n",
              "      spin 1s steps(1) infinite;\n",
              "  }\n",
              "\n",
              "  @keyframes spin {\n",
              "    0% {\n",
              "      border-color: transparent;\n",
              "      border-bottom-color: var(--fill-color);\n",
              "      border-left-color: var(--fill-color);\n",
              "    }\n",
              "    20% {\n",
              "      border-color: transparent;\n",
              "      border-left-color: var(--fill-color);\n",
              "      border-top-color: var(--fill-color);\n",
              "    }\n",
              "    30% {\n",
              "      border-color: transparent;\n",
              "      border-left-color: var(--fill-color);\n",
              "      border-top-color: var(--fill-color);\n",
              "      border-right-color: var(--fill-color);\n",
              "    }\n",
              "    40% {\n",
              "      border-color: transparent;\n",
              "      border-right-color: var(--fill-color);\n",
              "      border-top-color: var(--fill-color);\n",
              "    }\n",
              "    60% {\n",
              "      border-color: transparent;\n",
              "      border-right-color: var(--fill-color);\n",
              "    }\n",
              "    80% {\n",
              "      border-color: transparent;\n",
              "      border-right-color: var(--fill-color);\n",
              "      border-bottom-color: var(--fill-color);\n",
              "    }\n",
              "    90% {\n",
              "      border-color: transparent;\n",
              "      border-bottom-color: var(--fill-color);\n",
              "    }\n",
              "  }\n",
              "</style>\n",
              "\n",
              "      <script>\n",
              "        async function quickchart(key) {\n",
              "          const quickchartButtonEl =\n",
              "            document.querySelector('#' + key + ' button');\n",
              "          quickchartButtonEl.disabled = true;  // To prevent multiple clicks.\n",
              "          quickchartButtonEl.classList.add('colab-df-spinner');\n",
              "          try {\n",
              "            const charts = await google.colab.kernel.invokeFunction(\n",
              "                'suggestCharts', [key], {});\n",
              "          } catch (error) {\n",
              "            console.error('Error during call to suggestCharts:', error);\n",
              "          }\n",
              "          quickchartButtonEl.classList.remove('colab-df-spinner');\n",
              "          quickchartButtonEl.classList.add('colab-df-quickchart-complete');\n",
              "        }\n",
              "        (() => {\n",
              "          let quickchartButtonEl =\n",
              "            document.querySelector('#df-57a9338d-7427-4f81-a30c-468e078a3fa6 button');\n",
              "          quickchartButtonEl.style.display =\n",
              "            google.colab.kernel.accessAllowed ? 'block' : 'none';\n",
              "        })();\n",
              "      </script>\n",
              "    </div>\n",
              "\n",
              "    </div>\n",
              "  </div>\n"
            ],
            "application/vnd.google.colaboratory.intrinsic+json": {
              "type": "dataframe"
            }
          },
          "metadata": {}
        }
      ]
    },
    {
      "cell_type": "markdown",
      "source": [
        "## Train Test Split\n"
      ],
      "metadata": {
        "id": "nDl-8AXcBeum"
      }
    },
    {
      "cell_type": "code",
      "source": [
        "df_raw.info()"
      ],
      "metadata": {
        "colab": {
          "base_uri": "https://localhost:8080/"
        },
        "collapsed": true,
        "id": "r4nJMKe0rrDi",
        "outputId": "fbc89986-9522-4705-9d59-da7396e4983b"
      },
      "execution_count": 181,
      "outputs": [
        {
          "output_type": "stream",
          "name": "stdout",
          "text": [
            "<class 'pandas.core.frame.DataFrame'>\n",
            "RangeIndex: 3145725 entries, 0 to 3145724\n",
            "Data columns (total 81 columns):\n",
            " #   Column             Dtype \n",
            "---  ------             ----- \n",
            " 0   Dst Port           object\n",
            " 1   Protocol           object\n",
            " 2   Timestamp          object\n",
            " 3   Flow Duration      object\n",
            " 4   Tot Fwd Pkts       object\n",
            " 5   Tot Bwd Pkts       object\n",
            " 6   TotLen Fwd Pkts    object\n",
            " 7   TotLen Bwd Pkts    object\n",
            " 8   Fwd Pkt Len Max    object\n",
            " 9   Fwd Pkt Len Min    object\n",
            " 10  Fwd Pkt Len Mean   object\n",
            " 11  Fwd Pkt Len Std    object\n",
            " 12  Bwd Pkt Len Max    object\n",
            " 13  Bwd Pkt Len Min    object\n",
            " 14  Bwd Pkt Len Mean   object\n",
            " 15  Bwd Pkt Len Std    object\n",
            " 16  Flow Byts/s        object\n",
            " 17  Flow Pkts/s        object\n",
            " 18  Flow IAT Mean      object\n",
            " 19  Flow IAT Std       object\n",
            " 20  Flow IAT Max       object\n",
            " 21  Flow IAT Min       object\n",
            " 22  Fwd IAT Tot        object\n",
            " 23  Fwd IAT Mean       object\n",
            " 24  Fwd IAT Std        object\n",
            " 25  Fwd IAT Max        object\n",
            " 26  Fwd IAT Min        object\n",
            " 27  Bwd IAT Tot        object\n",
            " 28  Bwd IAT Mean       object\n",
            " 29  Bwd IAT Std        object\n",
            " 30  Bwd IAT Max        object\n",
            " 31  Bwd IAT Min        object\n",
            " 32  Fwd PSH Flags      object\n",
            " 33  Bwd PSH Flags      object\n",
            " 34  Fwd URG Flags      object\n",
            " 35  Bwd URG Flags      object\n",
            " 36  Fwd Header Len     object\n",
            " 37  Bwd Header Len     object\n",
            " 38  Fwd Pkts/s         object\n",
            " 39  Bwd Pkts/s         object\n",
            " 40  Pkt Len Min        object\n",
            " 41  Pkt Len Max        object\n",
            " 42  Pkt Len Mean       object\n",
            " 43  Pkt Len Std        object\n",
            " 44  Pkt Len Var        object\n",
            " 45  FIN Flag Cnt       object\n",
            " 46  SYN Flag Cnt       object\n",
            " 47  RST Flag Cnt       object\n",
            " 48  PSH Flag Cnt       object\n",
            " 49  ACK Flag Cnt       object\n",
            " 50  URG Flag Cnt       object\n",
            " 51  CWE Flag Count     object\n",
            " 52  ECE Flag Cnt       object\n",
            " 53  Down/Up Ratio      object\n",
            " 54  Pkt Size Avg       object\n",
            " 55  Fwd Seg Size Avg   object\n",
            " 56  Bwd Seg Size Avg   object\n",
            " 57  Fwd Byts/b Avg     object\n",
            " 58  Fwd Pkts/b Avg     object\n",
            " 59  Fwd Blk Rate Avg   object\n",
            " 60  Bwd Byts/b Avg     object\n",
            " 61  Bwd Pkts/b Avg     object\n",
            " 62  Bwd Blk Rate Avg   object\n",
            " 63  Subflow Fwd Pkts   object\n",
            " 64  Subflow Fwd Byts   object\n",
            " 65  Subflow Bwd Pkts   object\n",
            " 66  Subflow Bwd Byts   object\n",
            " 67  Init Fwd Win Byts  object\n",
            " 68  Init Bwd Win Byts  object\n",
            " 69  Fwd Act Data Pkts  object\n",
            " 70  Fwd Seg Size Min   object\n",
            " 71  Active Mean        object\n",
            " 72  Active Std         object\n",
            " 73  Active Max         object\n",
            " 74  Active Min         object\n",
            " 75  Idle Mean          object\n",
            " 76  Idle Std           object\n",
            " 77  Idle Max           object\n",
            " 78  Idle Min           object\n",
            " 79  Label              object\n",
            " 80  __source_file      object\n",
            "dtypes: object(81)\n",
            "memory usage: 1.9+ GB\n"
          ]
        }
      ]
    },
    {
      "cell_type": "code",
      "source": [
        "import pandas as pd\n",
        "\n",
        "# Convert to datetime if not already\n",
        "df_raw['Timestamp'] = pd.to_datetime(df_raw['Timestamp'])\n",
        "\n",
        "# Group by day name and count\n",
        "weekday_counts = df_raw.groupby(df_raw['Timestamp'].dt.day_name()).size().reset_index(name='count')\n",
        "\n",
        "print(weekday_counts)"
      ],
      "metadata": {
        "colab": {
          "base_uri": "https://localhost:8080/",
          "height": 567
        },
        "id": "YkqzuiXZb5Q6",
        "outputId": "9131b958-b019-4720-d5fa-e5e2eb74487b"
      },
      "execution_count": 197,
      "outputs": [
        {
          "output_type": "stream",
          "name": "stderr",
          "text": [
            "/tmp/ipython-input-1619171322.py:4: UserWarning: Parsing dates in %d/%m/%Y %H:%M:%S format when dayfirst=False (the default) was specified. Pass `dayfirst=True` or specify a format to silence this warning.\n",
            "  df_raw['Timestamp'] = pd.to_datetime(df_raw['Timestamp'])\n"
          ]
        },
        {
          "output_type": "error",
          "ename": "ValueError",
          "evalue": "time data \"Timestamp\" doesn't match format \"%d/%m/%Y %H:%M:%S\", at position 37039. You might want to try:\n    - passing `format` if your strings have a consistent format;\n    - passing `format='ISO8601'` if your strings are all ISO8601 but not necessarily in exactly the same format;\n    - passing `format='mixed'`, and the format will be inferred for each element individually. You might want to use `dayfirst` alongside this.",
          "traceback": [
            "\u001b[0;31m---------------------------------------------------------------------------\u001b[0m",
            "\u001b[0;31mValueError\u001b[0m                                Traceback (most recent call last)",
            "\u001b[0;32m/tmp/ipython-input-1619171322.py\u001b[0m in \u001b[0;36m<cell line: 0>\u001b[0;34m()\u001b[0m\n\u001b[1;32m      2\u001b[0m \u001b[0;34m\u001b[0m\u001b[0m\n\u001b[1;32m      3\u001b[0m \u001b[0;31m# Convert to datetime if not already\u001b[0m\u001b[0;34m\u001b[0m\u001b[0;34m\u001b[0m\u001b[0m\n\u001b[0;32m----> 4\u001b[0;31m \u001b[0mdf_raw\u001b[0m\u001b[0;34m[\u001b[0m\u001b[0;34m'Timestamp'\u001b[0m\u001b[0;34m]\u001b[0m \u001b[0;34m=\u001b[0m \u001b[0mpd\u001b[0m\u001b[0;34m.\u001b[0m\u001b[0mto_datetime\u001b[0m\u001b[0;34m(\u001b[0m\u001b[0mdf_raw\u001b[0m\u001b[0;34m[\u001b[0m\u001b[0;34m'Timestamp'\u001b[0m\u001b[0;34m]\u001b[0m\u001b[0;34m)\u001b[0m\u001b[0;34m\u001b[0m\u001b[0;34m\u001b[0m\u001b[0m\n\u001b[0m\u001b[1;32m      5\u001b[0m \u001b[0;34m\u001b[0m\u001b[0m\n\u001b[1;32m      6\u001b[0m \u001b[0;31m# Group by day name and count\u001b[0m\u001b[0;34m\u001b[0m\u001b[0;34m\u001b[0m\u001b[0m\n",
            "\u001b[0;32m/usr/local/lib/python3.12/dist-packages/pandas/core/tools/datetimes.py\u001b[0m in \u001b[0;36mto_datetime\u001b[0;34m(arg, errors, dayfirst, yearfirst, utc, format, exact, unit, infer_datetime_format, origin, cache)\u001b[0m\n\u001b[1;32m   1061\u001b[0m                 \u001b[0mresult\u001b[0m \u001b[0;34m=\u001b[0m \u001b[0marg\u001b[0m\u001b[0;34m.\u001b[0m\u001b[0mtz_localize\u001b[0m\u001b[0;34m(\u001b[0m\u001b[0;34m\"utc\"\u001b[0m\u001b[0;34m)\u001b[0m\u001b[0;34m\u001b[0m\u001b[0;34m\u001b[0m\u001b[0m\n\u001b[1;32m   1062\u001b[0m     \u001b[0;32melif\u001b[0m \u001b[0misinstance\u001b[0m\u001b[0;34m(\u001b[0m\u001b[0marg\u001b[0m\u001b[0;34m,\u001b[0m \u001b[0mABCSeries\u001b[0m\u001b[0;34m)\u001b[0m\u001b[0;34m:\u001b[0m\u001b[0;34m\u001b[0m\u001b[0;34m\u001b[0m\u001b[0m\n\u001b[0;32m-> 1063\u001b[0;31m         \u001b[0mcache_array\u001b[0m \u001b[0;34m=\u001b[0m \u001b[0m_maybe_cache\u001b[0m\u001b[0;34m(\u001b[0m\u001b[0marg\u001b[0m\u001b[0;34m,\u001b[0m \u001b[0mformat\u001b[0m\u001b[0;34m,\u001b[0m \u001b[0mcache\u001b[0m\u001b[0;34m,\u001b[0m \u001b[0mconvert_listlike\u001b[0m\u001b[0;34m)\u001b[0m\u001b[0;34m\u001b[0m\u001b[0;34m\u001b[0m\u001b[0m\n\u001b[0m\u001b[1;32m   1064\u001b[0m         \u001b[0;32mif\u001b[0m \u001b[0;32mnot\u001b[0m \u001b[0mcache_array\u001b[0m\u001b[0;34m.\u001b[0m\u001b[0mempty\u001b[0m\u001b[0;34m:\u001b[0m\u001b[0;34m\u001b[0m\u001b[0;34m\u001b[0m\u001b[0m\n\u001b[1;32m   1065\u001b[0m             \u001b[0mresult\u001b[0m \u001b[0;34m=\u001b[0m \u001b[0marg\u001b[0m\u001b[0;34m.\u001b[0m\u001b[0mmap\u001b[0m\u001b[0;34m(\u001b[0m\u001b[0mcache_array\u001b[0m\u001b[0;34m)\u001b[0m\u001b[0;34m\u001b[0m\u001b[0;34m\u001b[0m\u001b[0m\n",
            "\u001b[0;32m/usr/local/lib/python3.12/dist-packages/pandas/core/tools/datetimes.py\u001b[0m in \u001b[0;36m_maybe_cache\u001b[0;34m(arg, format, cache, convert_listlike)\u001b[0m\n\u001b[1;32m    245\u001b[0m         \u001b[0munique_dates\u001b[0m \u001b[0;34m=\u001b[0m \u001b[0munique\u001b[0m\u001b[0;34m(\u001b[0m\u001b[0marg\u001b[0m\u001b[0;34m)\u001b[0m\u001b[0;34m\u001b[0m\u001b[0;34m\u001b[0m\u001b[0m\n\u001b[1;32m    246\u001b[0m         \u001b[0;32mif\u001b[0m \u001b[0mlen\u001b[0m\u001b[0;34m(\u001b[0m\u001b[0munique_dates\u001b[0m\u001b[0;34m)\u001b[0m \u001b[0;34m<\u001b[0m \u001b[0mlen\u001b[0m\u001b[0;34m(\u001b[0m\u001b[0marg\u001b[0m\u001b[0;34m)\u001b[0m\u001b[0;34m:\u001b[0m\u001b[0;34m\u001b[0m\u001b[0;34m\u001b[0m\u001b[0m\n\u001b[0;32m--> 247\u001b[0;31m             \u001b[0mcache_dates\u001b[0m \u001b[0;34m=\u001b[0m \u001b[0mconvert_listlike\u001b[0m\u001b[0;34m(\u001b[0m\u001b[0munique_dates\u001b[0m\u001b[0;34m,\u001b[0m \u001b[0mformat\u001b[0m\u001b[0;34m)\u001b[0m\u001b[0;34m\u001b[0m\u001b[0;34m\u001b[0m\u001b[0m\n\u001b[0m\u001b[1;32m    248\u001b[0m             \u001b[0;31m# GH#45319\u001b[0m\u001b[0;34m\u001b[0m\u001b[0;34m\u001b[0m\u001b[0m\n\u001b[1;32m    249\u001b[0m             \u001b[0;32mtry\u001b[0m\u001b[0;34m:\u001b[0m\u001b[0;34m\u001b[0m\u001b[0;34m\u001b[0m\u001b[0m\n",
            "\u001b[0;32m/usr/local/lib/python3.12/dist-packages/pandas/core/tools/datetimes.py\u001b[0m in \u001b[0;36m_convert_listlike_datetimes\u001b[0;34m(arg, format, name, utc, unit, errors, dayfirst, yearfirst, exact)\u001b[0m\n\u001b[1;32m    431\u001b[0m     \u001b[0;31m# `format` could be inferred, or user didn't ask for mixed-format parsing.\u001b[0m\u001b[0;34m\u001b[0m\u001b[0;34m\u001b[0m\u001b[0m\n\u001b[1;32m    432\u001b[0m     \u001b[0;32mif\u001b[0m \u001b[0mformat\u001b[0m \u001b[0;32mis\u001b[0m \u001b[0;32mnot\u001b[0m \u001b[0;32mNone\u001b[0m \u001b[0;32mand\u001b[0m \u001b[0mformat\u001b[0m \u001b[0;34m!=\u001b[0m \u001b[0;34m\"mixed\"\u001b[0m\u001b[0;34m:\u001b[0m\u001b[0;34m\u001b[0m\u001b[0;34m\u001b[0m\u001b[0m\n\u001b[0;32m--> 433\u001b[0;31m         \u001b[0;32mreturn\u001b[0m \u001b[0m_array_strptime_with_fallback\u001b[0m\u001b[0;34m(\u001b[0m\u001b[0marg\u001b[0m\u001b[0;34m,\u001b[0m \u001b[0mname\u001b[0m\u001b[0;34m,\u001b[0m \u001b[0mutc\u001b[0m\u001b[0;34m,\u001b[0m \u001b[0mformat\u001b[0m\u001b[0;34m,\u001b[0m \u001b[0mexact\u001b[0m\u001b[0;34m,\u001b[0m \u001b[0merrors\u001b[0m\u001b[0;34m)\u001b[0m\u001b[0;34m\u001b[0m\u001b[0;34m\u001b[0m\u001b[0m\n\u001b[0m\u001b[1;32m    434\u001b[0m \u001b[0;34m\u001b[0m\u001b[0m\n\u001b[1;32m    435\u001b[0m     result, tz_parsed = objects_to_datetime64(\n",
            "\u001b[0;32m/usr/local/lib/python3.12/dist-packages/pandas/core/tools/datetimes.py\u001b[0m in \u001b[0;36m_array_strptime_with_fallback\u001b[0;34m(arg, name, utc, fmt, exact, errors)\u001b[0m\n\u001b[1;32m    465\u001b[0m     \u001b[0mCall\u001b[0m \u001b[0marray_strptime\u001b[0m\u001b[0;34m,\u001b[0m \u001b[0;32mwith\u001b[0m \u001b[0mfallback\u001b[0m \u001b[0mbehavior\u001b[0m \u001b[0mdepending\u001b[0m \u001b[0mon\u001b[0m \u001b[0;34m'errors'\u001b[0m\u001b[0;34m.\u001b[0m\u001b[0;34m\u001b[0m\u001b[0;34m\u001b[0m\u001b[0m\n\u001b[1;32m    466\u001b[0m     \"\"\"\n\u001b[0;32m--> 467\u001b[0;31m     \u001b[0mresult\u001b[0m\u001b[0;34m,\u001b[0m \u001b[0mtz_out\u001b[0m \u001b[0;34m=\u001b[0m \u001b[0marray_strptime\u001b[0m\u001b[0;34m(\u001b[0m\u001b[0marg\u001b[0m\u001b[0;34m,\u001b[0m \u001b[0mfmt\u001b[0m\u001b[0;34m,\u001b[0m \u001b[0mexact\u001b[0m\u001b[0;34m=\u001b[0m\u001b[0mexact\u001b[0m\u001b[0;34m,\u001b[0m \u001b[0merrors\u001b[0m\u001b[0;34m=\u001b[0m\u001b[0merrors\u001b[0m\u001b[0;34m,\u001b[0m \u001b[0mutc\u001b[0m\u001b[0;34m=\u001b[0m\u001b[0mutc\u001b[0m\u001b[0;34m)\u001b[0m\u001b[0;34m\u001b[0m\u001b[0;34m\u001b[0m\u001b[0m\n\u001b[0m\u001b[1;32m    468\u001b[0m     \u001b[0;32mif\u001b[0m \u001b[0mtz_out\u001b[0m \u001b[0;32mis\u001b[0m \u001b[0;32mnot\u001b[0m \u001b[0;32mNone\u001b[0m\u001b[0;34m:\u001b[0m\u001b[0;34m\u001b[0m\u001b[0;34m\u001b[0m\u001b[0m\n\u001b[1;32m    469\u001b[0m         \u001b[0munit\u001b[0m \u001b[0;34m=\u001b[0m \u001b[0mnp\u001b[0m\u001b[0;34m.\u001b[0m\u001b[0mdatetime_data\u001b[0m\u001b[0;34m(\u001b[0m\u001b[0mresult\u001b[0m\u001b[0;34m.\u001b[0m\u001b[0mdtype\u001b[0m\u001b[0;34m)\u001b[0m\u001b[0;34m[\u001b[0m\u001b[0;36m0\u001b[0m\u001b[0;34m]\u001b[0m\u001b[0;34m\u001b[0m\u001b[0;34m\u001b[0m\u001b[0m\n",
            "\u001b[0;32mstrptime.pyx\u001b[0m in \u001b[0;36mpandas._libs.tslibs.strptime.array_strptime\u001b[0;34m()\u001b[0m\n",
            "\u001b[0;32mstrptime.pyx\u001b[0m in \u001b[0;36mpandas._libs.tslibs.strptime.array_strptime\u001b[0;34m()\u001b[0m\n",
            "\u001b[0;32mstrptime.pyx\u001b[0m in \u001b[0;36mpandas._libs.tslibs.strptime._parse_with_format\u001b[0;34m()\u001b[0m\n",
            "\u001b[0;31mValueError\u001b[0m: time data \"Timestamp\" doesn't match format \"%d/%m/%Y %H:%M:%S\", at position 37039. You might want to try:\n    - passing `format` if your strings have a consistent format;\n    - passing `format='ISO8601'` if your strings are all ISO8601 but not necessarily in exactly the same format;\n    - passing `format='mixed'`, and the format will be inferred for each element individually. You might want to use `dayfirst` alongside this."
          ]
        }
      ]
    },
    {
      "cell_type": "code",
      "metadata": {
        "id": "08d6fc1b",
        "colab": {
          "base_uri": "https://localhost:8080/"
        },
        "outputId": "8a32700e-3133-47e8-c1ab-0f4c6f92c830"
      },
      "source": [
        "df = label_binary(df_raw)\n",
        "# print(\"\\nLabel counts (0=benign, 1=attack):\")\n",
        "# print(df[\"y\"].value_counts(dropna=False))\n",
        "# df.dropna(inplace=True)\n",
        "# df.drop_duplicates(inplace = True)\n",
        "\n",
        "safe_cols = [\n",
        "    \"Dst Port\", \"Protocol\",\n",
        "    \"Fwd Pkt Len Max\", \"Fwd Pkt Len Min\",\n",
        "    \"Bwd Pkt Len Max\", \"Bwd Pkt Len Min\",\n",
        "    \"Fwd PSH Flags\", \"Bwd PSH Flags\",\n",
        "    \"Fwd URG Flags\", \"Bwd URG Flags\",\n",
        "    \"FIN Flag Cnt\", \"SYN Flag Cnt\", \"RST Flag Cnt\",\n",
        "    \"PSH Flag Cnt\", \"ACK Flag Cnt\", \"URG Flag Cnt\",\n",
        "    \"CWE Flag Count\", \"ECE Flag Cnt\",\n",
        "    \"Fwd Seg Size Min\",\n",
        "    \"Fwd Header Len\", \"Bwd Header Len\"\n",
        "]\n",
        "df = df[safe_cols + ['y','Timestamp']]\n",
        "df.drop_duplicates(inplace = True)\n",
        "\n",
        "\n",
        "df[\"Timestamp\"] = pd.to_datetime(df[\"Timestamp\"], errors=\"coerce\", utc=True)\n",
        "df = df.sort_values(\"Timestamp\").reset_index(drop=True)\n",
        "df = df.drop(columns=[\"Timestamp\"])\n",
        "# df, _ = reduce_mem_usage(df)\n",
        "\n",
        "TARGET = \"y\"\n",
        "for c in df.columns:\n",
        "    if c != TARGET:\n",
        "        df[c] = pd.to_numeric(df[c], errors=\"coerce\")\n",
        "\n",
        "df = df.replace([np.inf, -np.inf], np.nan).fillna(0.0)\n",
        "\n",
        "df.info()\n",
        "\n",
        "# 3) cast all model features to float32 (simple, uniform)\n",
        "# feat_cols = [c for c in df.columns if c != TARGET]\n",
        "# df[feat_cols] = df[feat_cols].astype(\"float32\")\n",
        "\n"
      ],
      "execution_count": 203,
      "outputs": [
        {
          "output_type": "stream",
          "name": "stderr",
          "text": [
            "/tmp/ipython-input-4168065706.py:23: UserWarning: Parsing dates in %d/%m/%Y %H:%M:%S format when dayfirst=False (the default) was specified. Pass `dayfirst=True` or specify a format to silence this warning.\n",
            "  df[\"Timestamp\"] = pd.to_datetime(df[\"Timestamp\"], errors=\"coerce\", utc=True)\n"
          ]
        },
        {
          "output_type": "stream",
          "name": "stdout",
          "text": [
            "<class 'pandas.core.frame.DataFrame'>\n",
            "RangeIndex: 1664425 entries, 0 to 1664424\n",
            "Data columns (total 22 columns):\n",
            " #   Column            Non-Null Count    Dtype\n",
            "---  ------            --------------    -----\n",
            " 0   Dst Port          1664425 non-null  int64\n",
            " 1   Protocol          1664425 non-null  int64\n",
            " 2   Fwd Pkt Len Max   1664425 non-null  int64\n",
            " 3   Fwd Pkt Len Min   1664425 non-null  int64\n",
            " 4   Bwd Pkt Len Max   1664425 non-null  int64\n",
            " 5   Bwd Pkt Len Min   1664425 non-null  int64\n",
            " 6   Fwd PSH Flags     1664425 non-null  int64\n",
            " 7   Bwd PSH Flags     1664425 non-null  int64\n",
            " 8   Fwd URG Flags     1664425 non-null  int64\n",
            " 9   Bwd URG Flags     1664425 non-null  int64\n",
            " 10  FIN Flag Cnt      1664425 non-null  int64\n",
            " 11  SYN Flag Cnt      1664425 non-null  int64\n",
            " 12  RST Flag Cnt      1664425 non-null  int64\n",
            " 13  PSH Flag Cnt      1664425 non-null  int64\n",
            " 14  ACK Flag Cnt      1664425 non-null  int64\n",
            " 15  URG Flag Cnt      1664425 non-null  int64\n",
            " 16  CWE Flag Count    1664425 non-null  int64\n",
            " 17  ECE Flag Cnt      1664425 non-null  int64\n",
            " 18  Fwd Seg Size Min  1664425 non-null  int64\n",
            " 19  Fwd Header Len    1664425 non-null  int64\n",
            " 20  Bwd Header Len    1664425 non-null  int64\n",
            " 21  y                 1664425 non-null  int64\n",
            "dtypes: int64(22)\n",
            "memory usage: 279.4 MB\n"
          ]
        }
      ]
    },
    {
      "cell_type": "code",
      "source": [
        "# --- DEFINE FEATURES AND LABEL ---\n",
        "X = df.drop(columns=[\"y\"])\n",
        "X = X[safe_cols]\n",
        "y = df[\"y\"]\n",
        "\n",
        "split_idx = int(0.8 * len(df))\n",
        "X_train, X_test = X.iloc[:split_idx], X.iloc[split_idx:]\n",
        "y_train, y_test = y.iloc[:split_idx], y.iloc[split_idx:]\n",
        "\n",
        "# --- SHAPES ---\n",
        "print(\"X_train:\", X_train.shape)\n",
        "print(\"X_test:\", X_test.shape)\n",
        "print(\"y_train:\", y_train.shape)\n",
        "print(\"y_test:\", y_test.shape)\n",
        "\n",
        "# --- OPTIONAL: Check label distribution ---\n",
        "print(\"\\nTrain label distribution:\")\n",
        "print(y_train.value_counts(normalize=True))\n",
        "print(\"\\nTest label distribution:\")\n",
        "print(y_test.value_counts(normalize=True))"
      ],
      "metadata": {
        "colab": {
          "base_uri": "https://localhost:8080/"
        },
        "id": "vTVTRylDuHfW",
        "outputId": "25ee154a-bb71-47a9-a09b-0745551f57b6"
      },
      "execution_count": 204,
      "outputs": [
        {
          "output_type": "stream",
          "name": "stdout",
          "text": [
            "X_train: (1331540, 21)\n",
            "X_test: (332885, 21)\n",
            "y_train: (1331540,)\n",
            "y_test: (332885,)\n",
            "\n",
            "Train label distribution:\n",
            "y\n",
            "0    0.962799\n",
            "1    0.037201\n",
            "Name: proportion, dtype: float64\n",
            "\n",
            "Test label distribution:\n",
            "y\n",
            "0    0.991426\n",
            "1    0.008574\n",
            "Name: proportion, dtype: float64\n"
          ]
        }
      ]
    },
    {
      "cell_type": "code",
      "source": [
        "X_train.info()"
      ],
      "metadata": {
        "colab": {
          "base_uri": "https://localhost:8080/"
        },
        "collapsed": true,
        "id": "zV-XXmLCdtEM",
        "outputId": "d48d58fb-22ae-4c86-cb41-74c55e3eff57"
      },
      "execution_count": 205,
      "outputs": [
        {
          "output_type": "stream",
          "name": "stdout",
          "text": [
            "<class 'pandas.core.frame.DataFrame'>\n",
            "RangeIndex: 1331540 entries, 0 to 1331539\n",
            "Data columns (total 21 columns):\n",
            " #   Column            Non-Null Count    Dtype\n",
            "---  ------            --------------    -----\n",
            " 0   Dst Port          1331540 non-null  int64\n",
            " 1   Protocol          1331540 non-null  int64\n",
            " 2   Fwd Pkt Len Max   1331540 non-null  int64\n",
            " 3   Fwd Pkt Len Min   1331540 non-null  int64\n",
            " 4   Bwd Pkt Len Max   1331540 non-null  int64\n",
            " 5   Bwd Pkt Len Min   1331540 non-null  int64\n",
            " 6   Fwd PSH Flags     1331540 non-null  int64\n",
            " 7   Bwd PSH Flags     1331540 non-null  int64\n",
            " 8   Fwd URG Flags     1331540 non-null  int64\n",
            " 9   Bwd URG Flags     1331540 non-null  int64\n",
            " 10  FIN Flag Cnt      1331540 non-null  int64\n",
            " 11  SYN Flag Cnt      1331540 non-null  int64\n",
            " 12  RST Flag Cnt      1331540 non-null  int64\n",
            " 13  PSH Flag Cnt      1331540 non-null  int64\n",
            " 14  ACK Flag Cnt      1331540 non-null  int64\n",
            " 15  URG Flag Cnt      1331540 non-null  int64\n",
            " 16  CWE Flag Count    1331540 non-null  int64\n",
            " 17  ECE Flag Cnt      1331540 non-null  int64\n",
            " 18  Fwd Seg Size Min  1331540 non-null  int64\n",
            " 19  Fwd Header Len    1331540 non-null  int64\n",
            " 20  Bwd Header Len    1331540 non-null  int64\n",
            "dtypes: int64(21)\n",
            "memory usage: 213.3 MB\n"
          ]
        }
      ]
    },
    {
      "cell_type": "markdown",
      "metadata": {
        "id": "67f8ab86"
      },
      "source": [
        "**Reasoning**:\n",
        "Create the final code cell for visualization.\n",
        "\n"
      ]
    },
    {
      "cell_type": "markdown",
      "source": [
        "## Visualization\n"
      ],
      "metadata": {
        "id": "mGFqRWQBBWAj"
      }
    },
    {
      "cell_type": "code",
      "metadata": {
        "colab": {
          "base_uri": "https://localhost:8080/",
          "height": 1000
        },
        "id": "db07f79a",
        "outputId": "ea00ea26-0269-4edd-99b4-67c79d59557f"
      },
      "source": [
        "# === Overall class balance: bar + pie ===\n",
        "if 'df' in locals():\n",
        "    overall_counts = df[\"y\"].value_counts().reindex([0, 1], fill_value=0)\n",
        "    overall_pct = (overall_counts / overall_counts.sum() * 100).round(2)\n",
        "\n",
        "    print(\"Overall counts (0=benign, 1=attack):\")\n",
        "    print(overall_counts)\n",
        "    print(\"\\nOverall % (0=benign, 1=attack):\")\n",
        "    print(overall_pct)\n",
        "\n",
        "    # Bar chart\n",
        "    plt.figure(figsize=(5,4), dpi=110)\n",
        "    plt.bar([\"Benign (0)\", \"Attack (1)\"], overall_counts.values)\n",
        "    plt.title(\"Overall Class Counts\")\n",
        "    plt.ylabel(\"Flows\")\n",
        "    plt.grid(axis=\"y\", linestyle=\"--\", alpha=0.4)\n",
        "    plt.show()\n",
        "\n",
        "    # Pie chart\n",
        "    plt.figure(figsize=(5,5), dpi=110)\n",
        "    plt.pie(overall_counts.values, labels=[\"Benign (0)\", \"Attack (1)\"], autopct=\"%1.1f%%\", startangle=90)\n",
        "    plt.title(\"Overall Class Distribution\")\n",
        "    plt.show()\n",
        "else:\n",
        "    print(\"\\nSkipping visualization as df was not created.\")"
      ],
      "execution_count": 185,
      "outputs": [
        {
          "output_type": "stream",
          "name": "stdout",
          "text": [
            "Overall counts (0=benign, 1=attack):\n",
            "y\n",
            "0    1612037\n",
            "1      52388\n",
            "Name: count, dtype: int64\n",
            "\n",
            "Overall % (0=benign, 1=attack):\n",
            "y\n",
            "0    96.85\n",
            "1     3.15\n",
            "Name: count, dtype: float64\n"
          ]
        },
        {
          "output_type": "display_data",
          "data": {
            "text/plain": [
              "<Figure size 550x440 with 1 Axes>"
            ],
            "image/png": "[encoded data removed]"
          },
          "metadata": {}
        },
        {
          "output_type": "display_data",
          "data": {
            "text/plain": [
              "<Figure size 550x550 with 1 Axes>"
            ],
            "image/png": "[encoded data removed]"
          },
          "metadata": {}
        }
      ]
    },
    {
      "cell_type": "code",
      "source": [],
      "metadata": {
        "id": "LQwbIOFUNw7r"
      },
      "execution_count": 8,
      "outputs": []
    },
    {
      "cell_type": "markdown",
      "source": [
        "# Training Models\n"
      ],
      "metadata": {
        "id": "_ExEul3-CTdY"
      }
    },
    {
      "cell_type": "markdown",
      "source": [
        "## Random Forest"
      ],
      "metadata": {
        "id": "2Xi2SM4iCWBc"
      }
    },
    {
      "cell_type": "code",
      "source": [
        "import sklearn\n",
        "from sklearn.preprocessing import MinMaxScaler\n",
        "from sklearn.ensemble import RandomForestClassifier\n",
        "from sklearn.model_selection import GridSearchCV, train_test_split\n",
        "from sklearn.metrics import accuracy_score, classification_report, confusion_matrix\n",
        "from sklearn.utils import class_weight\n",
        "\n",
        "model = RandomForestClassifier(\n",
        "    n_estimators=75,\n",
        "    criterion='gini',\n",
        "    max_depth=None,\n",
        "    min_samples_split=2,\n",
        "    min_samples_leaf=1,\n",
        "    min_weight_fraction_leaf=0.0,\n",
        "    max_features='sqrt', # Changed 'auto' to 'sqrt'\n",
        "    max_leaf_nodes=None,\n",
        "    min_impurity_decrease=0.0,\n",
        "    bootstrap=True,\n",
        "    oob_score=False,\n",
        "    n_jobs=-1,\n",
        "    random_state=None,\n",
        "    verbose=1,\n",
        "    warm_start=False,\n",
        "    ccp_alpha=0.0,\n",
        "    max_samples=None\n",
        ")\n",
        "\n",
        "hyperparameters = {\n",
        "    'n_estimators': [50, 75, 100, 125, 150]\n",
        "}"
      ],
      "metadata": {
        "id": "UF68466ZCpc7"
      },
      "execution_count": 19,
      "outputs": []
    },
    {
      "cell_type": "code",
      "source": [
        "\n",
        "# clf = GridSearchCV(\n",
        "#     estimator=model,\n",
        "#     param_grid=hyperparameters,\n",
        "#     cv=5,\n",
        "#     verbose=3,\n",
        "#     n_jobs=-1  # Use all available CPU cores\n",
        "# )"
      ],
      "metadata": {
        "id": "WU6ct-PDCboz"
      },
      "execution_count": null,
      "outputs": []
    },
    {
      "cell_type": "code",
      "source": [
        "from sklearn.metrics import accuracy_score, classification_report, confusion_matrix\n",
        "\n",
        "\n",
        "model.fit(X=X_train, y=y_train)\n",
        "\n",
        "\n",
        "# Make predictions on the test set\n",
        "y_pred = model.predict(X_test)\n",
        "\n",
        "# Evaluate the model\n",
        "accuracy = accuracy_score(y_test, y_pred)\n",
        "report = classification_report(y_test, y_pred)\n",
        "conf_matrix = confusion_matrix(y_test, y_pred)\n",
        "\n",
        "print(\"Accuracy:\", accuracy)\n",
        "print(\"\\nClassification Report:\\n\", report)\n",
        "print(\"\\nConfusion Matrix:\\n\", conf_matrix)"
      ],
      "metadata": {
        "id": "zmKWha2MCj-6",
        "colab": {
          "base_uri": "https://localhost:8080/",
          "height": 374
        },
        "collapsed": true,
        "outputId": "1afd8beb-833b-4488-b774-fd38bc8d754e"
      },
      "execution_count": 20,
      "outputs": [
        {
          "output_type": "stream",
          "name": "stderr",
          "text": [
            "[Parallel(n_jobs=-1)]: Using backend ThreadingBackend with 2 concurrent workers.\n"
          ]
        },
        {
          "output_type": "error",
          "ename": "KeyboardInterrupt",
          "evalue": "",
          "traceback": [
            "\u001b[0;31m---------------------------------------------------------------------------\u001b[0m",
            "\u001b[0;31mKeyboardInterrupt\u001b[0m                         Traceback (most recent call last)",
            "\u001b[0;32m/tmp/ipython-input-3996289525.py\u001b[0m in \u001b[0;36m<cell line: 0>\u001b[0;34m()\u001b[0m\n\u001b[1;32m      2\u001b[0m \u001b[0;34m\u001b[0m\u001b[0m\n\u001b[1;32m      3\u001b[0m \u001b[0;34m\u001b[0m\u001b[0m\n\u001b[0;32m----> 4\u001b[0;31m \u001b[0mmodel\u001b[0m\u001b[0;34m.\u001b[0m\u001b[0mfit\u001b[0m\u001b[0;34m(\u001b[0m\u001b[0mX\u001b[0m\u001b[0;34m=\u001b[0m\u001b[0mX_train\u001b[0m\u001b[0;34m,\u001b[0m \u001b[0my\u001b[0m\u001b[0;34m=\u001b[0m\u001b[0my_train\u001b[0m\u001b[0;34m)\u001b[0m\u001b[0;34m\u001b[0m\u001b[0;34m\u001b[0m\u001b[0m\n\u001b[0m\u001b[1;32m      5\u001b[0m \u001b[0;34m\u001b[0m\u001b[0m\n\u001b[1;32m      6\u001b[0m \u001b[0;34m\u001b[0m\u001b[0m\n",
            "\u001b[0;32m/usr/local/lib/python3.12/dist-packages/sklearn/base.py\u001b[0m in \u001b[0;36mwrapper\u001b[0;34m(estimator, *args, **kwargs)\u001b[0m\n\u001b[1;32m   1387\u001b[0m                 )\n\u001b[1;32m   1388\u001b[0m             ):\n\u001b[0;32m-> 1389\u001b[0;31m                 \u001b[0;32mreturn\u001b[0m \u001b[0mfit_method\u001b[0m\u001b[0;34m(\u001b[0m\u001b[0mestimator\u001b[0m\u001b[0;34m,\u001b[0m \u001b[0;34m*\u001b[0m\u001b[0margs\u001b[0m\u001b[0;34m,\u001b[0m \u001b[0;34m**\u001b[0m\u001b[0mkwargs\u001b[0m\u001b[0;34m)\u001b[0m\u001b[0;34m\u001b[0m\u001b[0;34m\u001b[0m\u001b[0m\n\u001b[0m\u001b[1;32m   1390\u001b[0m \u001b[0;34m\u001b[0m\u001b[0m\n\u001b[1;32m   1391\u001b[0m         \u001b[0;32mreturn\u001b[0m \u001b[0mwrapper\u001b[0m\u001b[0;34m\u001b[0m\u001b[0;34m\u001b[0m\u001b[0m\n",
            "\u001b[0;32m/usr/local/lib/python3.12/dist-packages/sklearn/ensemble/_forest.py\u001b[0m in \u001b[0;36mfit\u001b[0;34m(self, X, y, sample_weight)\u001b[0m\n\u001b[1;32m    485\u001b[0m             \u001b[0;31m# parallel_backend contexts set at a higher level,\u001b[0m\u001b[0;34m\u001b[0m\u001b[0;34m\u001b[0m\u001b[0m\n\u001b[1;32m    486\u001b[0m             \u001b[0;31m# since correctness does not rely on using threads.\u001b[0m\u001b[0;34m\u001b[0m\u001b[0;34m\u001b[0m\u001b[0m\n\u001b[0;32m--> 487\u001b[0;31m             trees = Parallel(\n\u001b[0m\u001b[1;32m    488\u001b[0m                 \u001b[0mn_jobs\u001b[0m\u001b[0;34m=\u001b[0m\u001b[0mself\u001b[0m\u001b[0;34m.\u001b[0m\u001b[0mn_jobs\u001b[0m\u001b[0;34m,\u001b[0m\u001b[0;34m\u001b[0m\u001b[0;34m\u001b[0m\u001b[0m\n\u001b[1;32m    489\u001b[0m                 \u001b[0mverbose\u001b[0m\u001b[0;34m=\u001b[0m\u001b[0mself\u001b[0m\u001b[0;34m.\u001b[0m\u001b[0mverbose\u001b[0m\u001b[0;34m,\u001b[0m\u001b[0;34m\u001b[0m\u001b[0;34m\u001b[0m\u001b[0m\n",
            "\u001b[0;32m/usr/local/lib/python3.12/dist-packages/sklearn/utils/parallel.py\u001b[0m in \u001b[0;36m__call__\u001b[0;34m(self, iterable)\u001b[0m\n\u001b[1;32m     75\u001b[0m             \u001b[0;32mfor\u001b[0m \u001b[0mdelayed_func\u001b[0m\u001b[0;34m,\u001b[0m \u001b[0margs\u001b[0m\u001b[0;34m,\u001b[0m \u001b[0mkwargs\u001b[0m \u001b[0;32min\u001b[0m \u001b[0miterable\u001b[0m\u001b[0;34m\u001b[0m\u001b[0;34m\u001b[0m\u001b[0m\n\u001b[1;32m     76\u001b[0m         )\n\u001b[0;32m---> 77\u001b[0;31m         \u001b[0;32mreturn\u001b[0m \u001b[0msuper\u001b[0m\u001b[0;34m(\u001b[0m\u001b[0;34m)\u001b[0m\u001b[0;34m.\u001b[0m\u001b[0m__call__\u001b[0m\u001b[0;34m(\u001b[0m\u001b[0miterable_with_config\u001b[0m\u001b[0;34m)\u001b[0m\u001b[0;34m\u001b[0m\u001b[0;34m\u001b[0m\u001b[0m\n\u001b[0m\u001b[1;32m     78\u001b[0m \u001b[0;34m\u001b[0m\u001b[0m\n\u001b[1;32m     79\u001b[0m \u001b[0;34m\u001b[0m\u001b[0m\n",
            "\u001b[0;32m/usr/local/lib/python3.12/dist-packages/joblib/parallel.py\u001b[0m in \u001b[0;36m__call__\u001b[0;34m(self, iterable)\u001b[0m\n\u001b[1;32m   2070\u001b[0m         \u001b[0mnext\u001b[0m\u001b[0;34m(\u001b[0m\u001b[0moutput\u001b[0m\u001b[0;34m)\u001b[0m\u001b[0;34m\u001b[0m\u001b[0;34m\u001b[0m\u001b[0m\n\u001b[1;32m   2071\u001b[0m \u001b[0;34m\u001b[0m\u001b[0m\n\u001b[0;32m-> 2072\u001b[0;31m         \u001b[0;32mreturn\u001b[0m \u001b[0moutput\u001b[0m \u001b[0;32mif\u001b[0m \u001b[0mself\u001b[0m\u001b[0;34m.\u001b[0m\u001b[0mreturn_generator\u001b[0m \u001b[0;32melse\u001b[0m \u001b[0mlist\u001b[0m\u001b[0;34m(\u001b[0m\u001b[0moutput\u001b[0m\u001b[0;34m)\u001b[0m\u001b[0;34m\u001b[0m\u001b[0;34m\u001b[0m\u001b[0m\n\u001b[0m\u001b[1;32m   2073\u001b[0m \u001b[0;34m\u001b[0m\u001b[0m\n\u001b[1;32m   2074\u001b[0m     \u001b[0;32mdef\u001b[0m \u001b[0m__repr__\u001b[0m\u001b[0;34m(\u001b[0m\u001b[0mself\u001b[0m\u001b[0;34m)\u001b[0m\u001b[0;34m:\u001b[0m\u001b[0;34m\u001b[0m\u001b[0;34m\u001b[0m\u001b[0m\n",
            "\u001b[0;32m/usr/local/lib/python3.12/dist-packages/joblib/parallel.py\u001b[0m in \u001b[0;36m_get_outputs\u001b[0;34m(self, iterator, pre_dispatch)\u001b[0m\n\u001b[1;32m   1680\u001b[0m \u001b[0;34m\u001b[0m\u001b[0m\n\u001b[1;32m   1681\u001b[0m             \u001b[0;32mwith\u001b[0m \u001b[0mself\u001b[0m\u001b[0;34m.\u001b[0m\u001b[0m_backend\u001b[0m\u001b[0;34m.\u001b[0m\u001b[0mretrieval_context\u001b[0m\u001b[0;34m(\u001b[0m\u001b[0;34m)\u001b[0m\u001b[0;34m:\u001b[0m\u001b[0;34m\u001b[0m\u001b[0;34m\u001b[0m\u001b[0m\n\u001b[0;32m-> 1682\u001b[0;31m                 \u001b[0;32myield\u001b[0m \u001b[0;32mfrom\u001b[0m \u001b[0mself\u001b[0m\u001b[0;34m.\u001b[0m\u001b[0m_retrieve\u001b[0m\u001b[0;34m(\u001b[0m\u001b[0;34m)\u001b[0m\u001b[0;34m\u001b[0m\u001b[0;34m\u001b[0m\u001b[0m\n\u001b[0m\u001b[1;32m   1683\u001b[0m \u001b[0;34m\u001b[0m\u001b[0m\n\u001b[1;32m   1684\u001b[0m         \u001b[0;32mexcept\u001b[0m \u001b[0mGeneratorExit\u001b[0m\u001b[0;34m:\u001b[0m\u001b[0;34m\u001b[0m\u001b[0;34m\u001b[0m\u001b[0m\n",
            "\u001b[0;32m/usr/local/lib/python3.12/dist-packages/joblib/parallel.py\u001b[0m in \u001b[0;36m_retrieve\u001b[0;34m(self)\u001b[0m\n\u001b[1;32m   1798\u001b[0m                     \u001b[0mself\u001b[0m\u001b[0;34m.\u001b[0m\u001b[0m_jobs\u001b[0m\u001b[0;34m[\u001b[0m\u001b[0;36m0\u001b[0m\u001b[0;34m]\u001b[0m\u001b[0;34m.\u001b[0m\u001b[0mget_status\u001b[0m\u001b[0;34m(\u001b[0m\u001b[0mtimeout\u001b[0m\u001b[0;34m=\u001b[0m\u001b[0mself\u001b[0m\u001b[0;34m.\u001b[0m\u001b[0mtimeout\u001b[0m\u001b[0;34m)\u001b[0m \u001b[0;34m==\u001b[0m \u001b[0mTASK_PENDING\u001b[0m\u001b[0;34m\u001b[0m\u001b[0;34m\u001b[0m\u001b[0m\n\u001b[1;32m   1799\u001b[0m                 ):\n\u001b[0;32m-> 1800\u001b[0;31m                     \u001b[0mtime\u001b[0m\u001b[0;34m.\u001b[0m\u001b[0msleep\u001b[0m\u001b[0;34m(\u001b[0m\u001b[0;36m0.01\u001b[0m\u001b[0;34m)\u001b[0m\u001b[0;34m\u001b[0m\u001b[0;34m\u001b[0m\u001b[0m\n\u001b[0m\u001b[1;32m   1801\u001b[0m                     \u001b[0;32mcontinue\u001b[0m\u001b[0;34m\u001b[0m\u001b[0;34m\u001b[0m\u001b[0m\n\u001b[1;32m   1802\u001b[0m \u001b[0;34m\u001b[0m\u001b[0m\n",
            "\u001b[0;31mKeyboardInterrupt\u001b[0m: "
          ]
        }
      ]
    },
    {
      "cell_type": "code",
      "source": [
        "save_model(model, \"random_forest_model_cpu\")"
      ],
      "metadata": {
        "id": "IacK3VLPOhO1",
        "colab": {
          "base_uri": "https://localhost:8080/"
        },
        "outputId": "7369212c-7596-4ac1-844c-7b26358a55f2"
      },
      "execution_count": 22,
      "outputs": [
        {
          "output_type": "stream",
          "name": "stdout",
          "text": [
            "Model 'random_forest_model_cpu' saved successfully to: /content/drive/Shareddrives/CMPE279/CMPE279-IDSandAttackMitigation/saved_models/random_forest_model_cpu.joblib\n"
          ]
        }
      ]
    },
    {
      "cell_type": "markdown",
      "source": [
        "### Cuda Random Forest\n"
      ],
      "metadata": {
        "id": "DZ7TKM2S-mP_"
      }
    },
    {
      "cell_type": "code",
      "source": [
        "# make sure runtime is GPU\n",
        "!nvidia-smi\n",
        "\n",
        "# install RAPIDS stack\n",
        "!git clone https://github.com/rapidsai/rapidsai-csp-utils.git\n",
        "!python rapidsai-csp-utils/colab/pip-install.py"
      ],
      "metadata": {
        "id": "Urvu1t38QfKB",
        "colab": {
          "base_uri": "https://localhost:8080/"
        },
        "collapsed": true,
        "outputId": "08e7f6f4-de50-4e65-dde3-ebc228a0e415"
      },
      "execution_count": 9,
      "outputs": [
        {
          "output_type": "stream",
          "name": "stdout",
          "text": [
            "Mon Oct 27 00:50:45 2025       \n",
            "+-----------------------------------------------------------------------------------------+\n",
            "| NVIDIA-SMI 550.54.15              Driver Version: 550.54.15      CUDA Version: 12.4     |\n",
            "|-----------------------------------------+------------------------+----------------------+\n",
            "| GPU  Name                 Persistence-M | Bus-Id          Disp.A | Volatile Uncorr. ECC |\n",
            "| Fan  Temp   Perf          Pwr:Usage/Cap |           Memory-Usage | GPU-Util  Compute M. |\n",
            "|                                         |                        |               MIG M. |\n",
            "|=========================================+========================+======================|\n",
            "|   0  Tesla T4                       Off |   00000000:00:04.0 Off |                    0 |\n",
            "| N/A   40C    P8              9W /   70W |       0MiB /  15360MiB |      0%      Default |\n",
            "|                                         |                        |                  N/A |\n",
            "+-----------------------------------------+------------------------+----------------------+\n",
            "                                                                                         \n",
            "+-----------------------------------------------------------------------------------------+\n",
            "| Processes:                                                                              |\n",
            "|  GPU   GI   CI        PID   Type   Process name                              GPU Memory |\n",
            "|        ID   ID                                                               Usage      |\n",
            "|=========================================================================================|\n",
            "|  No running processes found                                                             |\n",
            "+-----------------------------------------------------------------------------------------+\n",
            "Cloning into 'rapidsai-csp-utils'...\n",
            "remote: Enumerating objects: 603, done.\u001b[K\n",
            "remote: Counting objects: 100% (169/169), done.\u001b[K\n",
            "remote: Compressing objects: 100% (87/87), done.\u001b[K\n",
            "remote: Total 603 (delta 131), reused 82 (delta 82), pack-reused 434 (from 3)\u001b[K\n",
            "Receiving objects: 100% (603/603), 199.38 KiB | 1.80 MiB/s, done.\n",
            "Resolving deltas: 100% (305/305), done.\n",
            "Installing RAPIDS remaining 25.08 libraries\n",
            "Using Python 3.12.12 environment at: /usr\n",
            "Resolved 179 packages in 16.94s\n",
            "Prepared 41 packages in 4m 17s\n",
            "Uninstalled 31 packages in 874ms\n",
            "Installed 41 packages in 142ms\n",
            " - bokeh==3.7.3\n",
            " + bokeh==3.6.3\n",
            " + cucim-cu12==25.8.0\n",
            " + cuda-bindings==12.9.4\n",
            " + cuda-pathfinder==1.3.1\n",
            " - cuda-python==12.6.2.post1\n",
            " + cuda-python==12.9.4\n",
            " - cudf-cu12==25.6.0 (from https://pypi.nvidia.com/cudf-cu12/cudf_cu12-25.6.0-cp312-cp312-manylinux_2_24_x86_64.manylinux_2_28_x86_64.whl)\n",
            " + cudf-cu12==25.8.0\n",
            " + cugraph-cu12==25.8.0\n",
            " - cuml-cu12==25.6.0\n",
            " + cuml-cu12==25.8.0\n",
            " - cuvs-cu12==25.6.1\n",
            " + cuvs-cu12==25.8.0\n",
            " + cuxfilter-cu12==25.8.0\n",
            " - dask==2025.5.0\n",
            " + dask==2025.7.0\n",
            " - dask-cuda==25.6.0\n",
            " + dask-cuda==25.8.0\n",
            " - dask-cudf-cu12==25.6.0\n",
            " + dask-cudf-cu12==25.8.0\n",
            " + datashader==0.18.2\n",
            " - distributed==2025.5.0\n",
            " + distributed==2025.7.0\n",
            " - distributed-ucxx-cu12==0.44.0\n",
            " + distributed-ucxx-cu12==0.45.1\n",
            " - holoviews==1.21.0\n",
            " + holoviews==1.20.2\n",
            " + jupyter-server-proxy==4.4.0\n",
            " - libcudf-cu12==25.6.0 (from https://pypi.nvidia.com/libcudf-cu12/libcudf_cu12-25.6.0-py3-none-manylinux_2_28_x86_64.whl)\n",
            " + libcudf-cu12==25.8.0\n",
            " - libcugraph-cu12==25.6.0\n",
            " + libcugraph-cu12==25.8.0\n",
            " - libcuml-cu12==25.6.0\n",
            " + libcuml-cu12==25.8.0\n",
            " - libcuvs-cu12==25.6.1\n",
            " + libcuvs-cu12==25.8.0\n",
            " - libkvikio-cu12==25.6.0\n",
            " + libkvikio-cu12==25.8.0\n",
            " - libraft-cu12==25.6.0\n",
            " + libraft-cu12==25.8.0\n",
            " - librmm-cu12==25.6.0\n",
            " + librmm-cu12==25.8.0\n",
            " - libucxx-cu12==0.44.0\n",
            " + libucxx-cu12==0.45.1\n",
            " - numba-cuda==0.11.0\n",
            " + numba-cuda==0.14.1\n",
            " + nvidia-cuda-cccl-cu12==12.9.27\n",
            " - nx-cugraph-cu12==25.6.0 (from https://pypi.nvidia.com/nx-cugraph-cu12/nx_cugraph_cu12-25.6.0-py3-none-any.whl)\n",
            " + nx-cugraph-cu12==25.8.0\n",
            " - panel==1.8.2\n",
            " + panel==1.7.5\n",
            " + pyct==0.6.0\n",
            " - pylibcudf-cu12==25.6.0 (from https://pypi.nvidia.com/pylibcudf-cu12/pylibcudf_cu12-25.6.0-cp312-cp312-manylinux_2_24_x86_64.manylinux_2_28_x86_64.whl)\n",
            " + pylibcudf-cu12==25.8.0\n",
            " - pylibcugraph-cu12==25.6.0\n",
            " + pylibcugraph-cu12==25.8.0\n",
            " - pylibraft-cu12==25.6.0\n",
            " + pylibraft-cu12==25.8.0\n",
            " - raft-dask-cu12==25.6.0\n",
            " + raft-dask-cu12==25.8.0\n",
            " - rapids-dask-dependency==25.6.0\n",
            " + rapids-dask-dependency==25.8.0\n",
            " - rmm-cu12==25.6.0\n",
            " + rmm-cu12==25.8.0\n",
            " - shapely==2.1.2\n",
            " + shapely==2.0.7\n",
            " + simpervisor==1.0.0\n",
            " - ucx-py-cu12==0.44.0\n",
            " + ucx-py-cu12==0.45.0\n",
            " - ucxx-cu12==0.44.0\n",
            " + ucxx-cu12==0.45.1\n",
            "\n",
            "        ***********************************************************************\n",
            "        The pip install of RAPIDS is complete.\n",
            "\n",
            "        Please do not run any further installation from the conda based installation methods, as they may cause issues!\n",
            "\n",
            "        Please ensure that you're pulling from the git repo to remain updated with the latest working install scripts.\n",
            "\n",
            "        Troubleshooting:\n",
            "            - If there is an installation failure, please check back on RAPIDSAI owned templates/notebooks to see how to update your personal files.\n",
            "            - If an installation failure persists when using the latest script, please make an issue on https://github.com/rapidsai-community/rapidsai-csp-utils\n",
            "        ***********************************************************************\n",
            "        \n"
          ]
        }
      ]
    },
    {
      "cell_type": "code",
      "metadata": {
        "id": "1a67422e"
      },
      "source": [
        "from sklearn.model_selection import GridSearchCV\n",
        "from cuml.ensemble import RandomForestClassifier as cuRandomForestClassifier\n",
        "import cudf\n",
        "import cupy as cp\n",
        "\n",
        "# Define the cuML Random Forest model\n",
        "rf_model_gpu = cuRandomForestClassifier(\n",
        "    random_state=42,\n",
        "    n_estimators=75,\n",
        "    max_features=\"sqrt\",\n",
        "    max_depth=20,\n",
        "\n",
        "    )\n",
        "\n",
        "# Define the hyperparameters grid\n",
        "hyperparameters = {\n",
        "    'n_estimators': [50, 75, 100, 125, 150]\n",
        "    # Add other hyperparameters you want to tune\n",
        "}\n",
        "\n",
        "# Set up GridSearchCV\n",
        "clf_gpu = GridSearchCV(\n",
        "    estimator=rf_model_gpu,\n",
        "    param_grid=hyperparameters,\n",
        "    cv=5,  # Number of cross-validation folds\n",
        "    verbose=1,\n",
        "    n_jobs=-1 # Use all available CPU cores (or GPUs if configured by cuML)\n",
        ")\n",
        "\n",
        "# Fit GridSearchCV on your training data (X_train and y_train should be on the GPU)\n",
        "# Note: Ensure X_train and y_train are cuDF DataFrames or cuPy arrays for best performance on GPU\n",
        "\n",
        "# Convert pandas DataFrame and numpy array to cuDF DataFrame and cuPy array\n",
        "X_train_gpu = cudf.DataFrame.from_pandas(X_train)\n",
        "X_test_gpu  = cudf.DataFrame.from_pandas(X_test)\n",
        "y_train_gpu = cudf.Series(y_train.values.astype(np.int32))\n",
        "\n",
        "rf_model_gpu.fit(X_train_gpu, y_train_gpu)\n",
        "\n",
        "\n",
        "\n",
        "p_test_gpu_df = rf_model_gpu.predict_proba(X_test_gpu)   # cuDF DataFrame\n",
        "p_test_gpu = p_test_gpu_df.values # Convert to cuPy array\n",
        "p_test = cp.asnumpy(p_test_gpu)[:, 1]                              # numpy, select positive class probabilities\n",
        "y_hat  = (p_test >= 0.5).astype(int)"
      ],
      "execution_count": 213,
      "outputs": []
    },
    {
      "cell_type": "code",
      "source": [
        "\n",
        "p = p_test  # probabilities as numpy array\n",
        "\n",
        "# sanity: see score range\n",
        "print(\"p_test min/max:\", float(np.min(p)), float(np.max(p)))\n",
        "\n",
        "prec, rec, thr = precision_recall_curve(y_test, p)\n",
        "# For each threshold thr[i], the corresponding precision/recall are prec[i+1], rec[i+1]\n",
        "prec_t = prec[1:]\n",
        "rec_t  = rec[1:]\n",
        "thr_t  = thr\n",
        "\n",
        "# 1) choose threshold for recall >= target with best precision\n",
        "target_recall = 0.98\n",
        "mask = rec_t >= target_recall\n",
        "if mask.any():\n",
        "    # among thresholds that meet recall, pick the one with highest precision\n",
        "    idx = np.argmax(prec_t[mask])\n",
        "    thr_star = thr_t[mask][idx]\n",
        "else:\n",
        "    # target unreachable; fall back to threshold that gets recall closest to target\n",
        "    idx = np.argmin(np.abs(rec_t - target_recall))\n",
        "    thr_star = thr_t[idx]\n",
        "\n",
        "y_thr = (p >= thr_star).astype(int)\n",
        "print(f\"\\nChosen threshold: {thr_star:.6f}  (recall target {target_recall})\")\n",
        "print(\"Confusion @thr*\\n\", confusion_matrix(y_test, y_thr))\n",
        "print(\"\\nReport @thr*\\n\", classification_report(y_test, y_thr, digits=4))\n",
        "\n",
        "# 2) optional: pure F1-max threshold\n",
        "f1_t = 2*prec_t*rec_t/(prec_t+rec_t+1e-12)\n",
        "i_f1 = np.nanargmax(f1_t)\n",
        "thr_f1 = thr_t[i_f1]\n",
        "y_f1 = (p >= thr_f1).astype(int)\n",
        "print(f\"\\nF1-max threshold: {thr_f1:.6f}\")\n",
        "print(\"Confusion @F1\\n\", confusion_matrix(y_test, y_f1))\n",
        "print(\"\\nReport @F1\\n\", classification_report(y_test, y_f1, digits=4))\n",
        "\n",
        "# keep your summary metrics\n",
        "print(\"\\nROC-AUC:\", roc_auc_score(y_test, p))\n",
        "print(\"PR-AUC:\",  average_precision_score(y_test, p))"
      ],
      "metadata": {
        "colab": {
          "base_uri": "https://localhost:8080/"
        },
        "id": "LQrayOzTEPH-",
        "outputId": "d3602254-1aee-4081-db7b-c2536f730bc1"
      },
      "execution_count": 215,
      "outputs": [
        {
          "output_type": "stream",
          "name": "stdout",
          "text": [
            "p_test min/max: 0.00029833317967131734 0.6827483177185059\n",
            "\n",
            "Chosen threshold: 0.005120  (recall target 0.98)\n",
            "Confusion @thr*\n",
            " [[  1432 328599]\n",
            " [     0   2854]]\n",
            "\n",
            "Report @thr*\n",
            "               precision    recall  f1-score   support\n",
            "\n",
            "           0     1.0000    0.0043    0.0086    330031\n",
            "           1     0.0086    1.0000    0.0171      2854\n",
            "\n",
            "    accuracy                         0.0129    332885\n",
            "   macro avg     0.5043    0.5022    0.0129    332885\n",
            "weighted avg     0.9915    0.0129    0.0087    332885\n",
            "\n",
            "\n",
            "F1-max threshold: 0.043845\n",
            "Confusion @F1\n",
            " [[329807    224]\n",
            " [   854   2000]]\n",
            "\n",
            "Report @F1\n",
            "               precision    recall  f1-score   support\n",
            "\n",
            "           0     0.9974    0.9993    0.9984    330031\n",
            "           1     0.8993    0.7008    0.7877      2854\n",
            "\n",
            "    accuracy                         0.9968    332885\n",
            "   macro avg     0.9483    0.8500    0.8930    332885\n",
            "weighted avg     0.9966    0.9968    0.9966    332885\n",
            "\n",
            "\n",
            "ROC-AUC: 0.7017086566735783\n",
            "PR-AUC: 0.6428214233703273\n"
          ]
        }
      ]
    },
    {
      "cell_type": "code",
      "source": [
        "from sklearn.metrics import average_precision_score, roc_curve\n",
        "print(\"PR-AUC:\", average_precision_score(y_test, p_test))\n",
        "\n",
        "# recall at 1% FPR\n",
        "fpr, tpr, thr = roc_curve(y_test, p_test)\n",
        "i = np.argmin(np.abs(fpr - 0.01))\n",
        "print(f\"@1% FPR -> recall={tpr[i]:.4f}, thr={thr[i]:.6f}\")"
      ],
      "metadata": {
        "colab": {
          "base_uri": "https://localhost:8080/"
        },
        "id": "iHS-vE7IpCV-",
        "outputId": "d3a57b1b-e8de-41e7-e194-6b8569ed5d9e"
      },
      "execution_count": 216,
      "outputs": [
        {
          "output_type": "stream",
          "name": "stdout",
          "text": [
            "PR-AUC: 0.6428214233703273\n",
            "@1% FPR -> recall=0.7008, thr=0.018997\n"
          ]
        }
      ]
    },
    {
      "cell_type": "code",
      "source": [
        "save_model(model_gpu, \"random_forest_gpu_model\")"
      ],
      "metadata": {
        "id": "LbyIqs7uGotg"
      },
      "execution_count": null,
      "outputs": []
    },
    {
      "cell_type": "code",
      "metadata": {
        "id": "7c8618d7"
      },
      "source": [
        "# loaded_model = load_model(\"random_forest_model\")"
      ],
      "execution_count": 22,
      "outputs": []
    },
    {
      "cell_type": "markdown",
      "source": [
        "## XGBoost\n",
        "\n"
      ],
      "metadata": {
        "id": "L39aCk54D6-e"
      }
    },
    {
      "cell_type": "code",
      "source": [
        "import numpy as np\n",
        "import pandas as pd\n",
        "import cudf\n",
        "import cupy as cp\n",
        "import xgboost as xgb\n",
        "from sklearn.metrics import (\n",
        "    accuracy_score, classification_report, confusion_matrix,\n",
        "    roc_auc_score, average_precision_score, precision_recall_curve\n",
        ")\n",
        "\n",
        "# assume you already have pandas: X_train, X_test, y_train, y_test\n",
        "# move to GPU\n",
        "X_train_gpu = cudf.DataFrame.from_pandas(X_train)\n",
        "X_test_gpu  = cudf.DataFrame.from_pandas(X_test)\n",
        "y_train_gpu = cudf.Series(y_train.values.astype(np.int32))\n",
        "\n",
        "# class imbalance\n",
        "pos_rate = float(y_train.mean())\n",
        "scale_pos_weight = (1 - pos_rate) / max(pos_rate, 1e-9)\n",
        "\n",
        "model_xgb_gpu = xgb.XGBClassifier(\n",
        "    objective=\"binary:logistic\",\n",
        "    tree_method=\"hist\",\n",
        "    predictor=\"gpu_predictor\",\n",
        "    eval_metric=\"logloss\",\n",
        "    eta=0.05,\n",
        "    max_depth=8,\n",
        "    min_child_weight=5,\n",
        "    subsample=0.8,\n",
        "    colsample_bytree=0.8,\n",
        "    reg_lambda=1.0,\n",
        "    scale_pos_weight=scale_pos_weight,\n",
        "    random_state=42,\n",
        "    n_estimators=1200\n",
        ")\n",
        "\n",
        "# train with eval_set for early stopping\n",
        "model_xgb_gpu.fit(\n",
        "    X_train_gpu, y_train_gpu,\n",
        "    eval_set=[(X_train_gpu, y_train_gpu)],\n",
        "    verbose=False\n",
        ")\n",
        "\n",
        "# probabilities on GPU\n",
        "p_test_gpu = model_xgb_gpu.predict_proba(X_test_gpu)[:, 1]   # cupy array\n",
        "p_test = cp.asnumpy(p_test_gpu)                              # numpy\n",
        "y_hat  = (p_test >= 0.5).astype(int)\n"
      ],
      "metadata": {
        "colab": {
          "base_uri": "https://localhost:8080/"
        },
        "id": "0_qj-SWsEEb8",
        "outputId": "02d2c37e-942d-4f40-981a-79e1a704dbcf"
      },
      "execution_count": 226,
      "outputs": [
        {
          "output_type": "stream",
          "name": "stderr",
          "text": [
            "/usr/local/lib/python3.12/dist-packages/xgboost/training.py:199: UserWarning: [03:55:42] WARNING: /workspace/src/learner.cc:790: \n",
            "Parameters: { \"predictor\" } are not used.\n",
            "\n",
            "  bst.update(dtrain, iteration=i, fobj=obj)\n"
          ]
        }
      ]
    },
    {
      "cell_type": "code",
      "source": [
        "from sklearn.metrics import roc_curve, precision_recall_curve, precision_score, recall_score\n",
        "fpr, tpr, thr = roc_curve(y_test, p_test)\n",
        "i = (abs(fpr - 0.01)).argmin()   # 1% FPR\n",
        "thr_1pct = thr[i]\n",
        "y_1pct = (p_test >= thr_1pct).astype(int)\n",
        "\n",
        "print(\"thr_1pct:\", thr_1pct)\n",
        "print(\"recall@1%FPR:\", recall_score(y_test, y_1pct))\n",
        "print(\"precision@1%FPR:\", precision_score(y_test, y_1pct))\n",
        "\n",
        "f1_t = 2*prec_t*rec_t/(prec_t+rec_t+1e-12)\n",
        "i_f1 = np.nanargmax(f1_t)\n",
        "thr_f1 = thr_t[i_f1]\n",
        "y_f1 = (p >= thr_f1).astype(int)\n",
        "print(f\"\\nF1-max threshold: {thr_f1:.6f}\")\n",
        "print(\"Confusion @F1\\n\", confusion_matrix(y_test, y_f1))\n",
        "print(\"\\nReport @F1\\n\", classification_report(y_test, y_f1, digits=4))"
      ],
      "metadata": {
        "colab": {
          "base_uri": "https://localhost:8080/"
        },
        "id": "wzKCD74QgCdX",
        "outputId": "2e47f479-c64e-492a-c727-687bacec7b2c"
      },
      "execution_count": 224,
      "outputs": [
        {
          "output_type": "stream",
          "name": "stdout",
          "text": [
            "thr_1pct: 0.018996703\n",
            "recall@1%FPR: 0.700770847932726\n",
            "precision@1%FPR: 0.7945967421533572\n",
            "\n",
            "F1-max threshold: 0.043845\n",
            "Confusion @F1\n",
            " [[329807    224]\n",
            " [   854   2000]]\n",
            "\n",
            "Report @F1\n",
            "               precision    recall  f1-score   support\n",
            "\n",
            "           0     0.9974    0.9993    0.9984    330031\n",
            "           1     0.8993    0.7008    0.7877      2854\n",
            "\n",
            "    accuracy                         0.9968    332885\n",
            "   macro avg     0.9483    0.8500    0.8930    332885\n",
            "weighted avg     0.9966    0.9968    0.9966    332885\n",
            "\n"
          ]
        }
      ]
    },
    {
      "cell_type": "code",
      "source": [
        "save_model(model_xgb_gpu, \"xboost_gpu\")"
      ],
      "metadata": {
        "id": "yahvTAdCGtlf"
      },
      "execution_count": null,
      "outputs": []
    },
    {
      "cell_type": "markdown",
      "source": [
        "### Inference and metrics\n"
      ],
      "metadata": {
        "id": "qgHcOgmoJH6q"
      }
    },
    {
      "cell_type": "markdown",
      "source": [
        "# Ngrok\n"
      ],
      "metadata": {
        "id": "XJU72gzVLXus"
      }
    }
  ]
}